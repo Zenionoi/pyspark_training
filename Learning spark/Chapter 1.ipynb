{
 "cells": [
  {
   "cell_type": "code",
   "execution_count": null,
   "id": "30647074-2ee1-46e2-8a87-0370890710bd",
   "metadata": {},
   "outputs": [],
   "source": []
  },
  {
   "cell_type": "code",
   "execution_count": null,
   "id": "a0b4d06c-36fa-4131-9247-1840e95a7179",
   "metadata": {},
   "outputs": [],
   "source": []
  },
  {
   "cell_type": "code",
   "execution_count": null,
   "id": "b2fa3d45-3182-400e-a88e-ef65a269616f",
   "metadata": {},
   "outputs": [],
   "source": []
  },
  {
   "cell_type": "code",
   "execution_count": null,
   "id": "1ed7f064-7603-41c2-9b89-5cff70cd639b",
   "metadata": {},
   "outputs": [],
   "source": [
    "# In Python\n",
    "# Read a stream from a local host\n",
    "from pyspark.sql.functions import explode, split\n",
    "lines = (spark\n",
    "         .readStream\n",
    "         .format(\"socket\")\n",
    "         .option(\"host\", \"localhost\")\n",
    "         .option(\"port\", 9999)\n",
    "         .load())"
   ]
  },
  {
   "cell_type": "code",
   "execution_count": null,
   "id": "9c99357d-9d28-4818-840c-460c4a4516b9",
   "metadata": {},
   "outputs": [],
   "source": [
    "# Perform transformation\n",
    "# Split the lines into words\n",
    "words = lines.select(explode(split(lines.value, \" \")).alias(\"word\"))"
   ]
  },
  {
   "cell_type": "code",
   "execution_count": null,
   "id": "bc41b980-f480-4783-90b1-1f8595b64d53",
   "metadata": {},
   "outputs": [],
   "source": [
    "# Generate running word count\n",
    "word_counts = words.groupBy(\"word\").count()"
   ]
  },
  {
   "cell_type": "code",
   "execution_count": null,
   "id": "d20dddca-5843-4acf-9ae0-7eca85e313ad",
   "metadata": {},
   "outputs": [],
   "source": [
    "# Write out to the stream to Kafka\n",
    "query = (word_counts\n",
    "         .writeStream\n",
    "         .format(\"kafka\")\n",
    "         .option(\"topic\", \"output\"))"
   ]
  }
 ],
 "metadata": {
  "kernelspec": {
   "display_name": "Python 3 (ipykernel)",
   "language": "python",
   "name": "python3"
  },
  "language_info": {
   "codemirror_mode": {
    "name": "ipython",
    "version": 3
   },
   "file_extension": ".py",
   "mimetype": "text/x-python",
   "name": "python",
   "nbconvert_exporter": "python",
   "pygments_lexer": "ipython3",
   "version": "3.11.5"
  }
 },
 "nbformat": 4,
 "nbformat_minor": 5
}
