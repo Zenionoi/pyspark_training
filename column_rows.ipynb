{
 "cells": [
  {
   "cell_type": "code",
   "execution_count": 1,
   "id": "628c4edf-f282-490a-bd69-9c16f3bbc42e",
   "metadata": {},
   "outputs": [
    {
     "name": "stderr",
     "output_type": "stream",
     "text": [
      "Setting default log level to \"WARN\".\n",
      "To adjust logging level use sc.setLogLevel(newLevel). For SparkR, use setLogLevel(newLevel).\n",
      "23/10/09 22:32:31 WARN NativeCodeLoader: Unable to load native-hadoop library for your platform... using builtin-java classes where applicable\n",
      "23/10/09 22:32:31 WARN Utils: Service 'SparkUI' could not bind on port 4040. Attempting port 4041.\n"
     ]
    },
    {
     "data": {
      "text/html": [
       "\n",
       "            <div>\n",
       "                <p><b>SparkSession - in-memory</b></p>\n",
       "                \n",
       "        <div>\n",
       "            <p><b>SparkContext</b></p>\n",
       "\n",
       "            <p><a href=\"http://192.168.0.179:4041\">Spark UI</a></p>\n",
       "\n",
       "            <dl>\n",
       "              <dt>Version</dt>\n",
       "                <dd><code>v3.5.0</code></dd>\n",
       "              <dt>Master</dt>\n",
       "                <dd><code>local[*]</code></dd>\n",
       "              <dt>AppName</dt>\n",
       "                <dd><code>column_rows</code></dd>\n",
       "            </dl>\n",
       "        </div>\n",
       "        \n",
       "            </div>\n",
       "        "
      ],
      "text/plain": [
       "<pyspark.sql.session.SparkSession at 0x1125b96d0>"
      ]
     },
     "execution_count": 1,
     "metadata": {},
     "output_type": "execute_result"
    }
   ],
   "source": [
    "import pyspark\n",
    "from pyspark.sql.functions import *\n",
    "\n",
    "spark = pyspark.sql.SparkSession.builder.appName(\"column_rows\").getOrCreate()\n",
    "\n",
    "spark"
   ]
  },
  {
   "cell_type": "code",
   "execution_count": 2,
   "id": "5483458e-dc74-448c-84f7-680e3efb06aa",
   "metadata": {},
   "outputs": [
    {
     "data": {
      "text/html": [
       "<div>\n",
       "<style scoped>\n",
       "    .dataframe tbody tr th:only-of-type {\n",
       "        vertical-align: middle;\n",
       "    }\n",
       "\n",
       "    .dataframe tbody tr th {\n",
       "        vertical-align: top;\n",
       "    }\n",
       "\n",
       "    .dataframe thead th {\n",
       "        text-align: right;\n",
       "    }\n",
       "</style>\n",
       "<table border=\"1\" class=\"dataframe\">\n",
       "  <thead>\n",
       "    <tr style=\"text-align: right;\">\n",
       "      <th></th>\n",
       "      <th>gender</th>\n",
       "      <th>race/ethnicity</th>\n",
       "      <th>parental level of education</th>\n",
       "      <th>lunch</th>\n",
       "      <th>test preparation course</th>\n",
       "      <th>math score</th>\n",
       "      <th>reading score</th>\n",
       "      <th>writing score</th>\n",
       "    </tr>\n",
       "  </thead>\n",
       "  <tbody>\n",
       "    <tr>\n",
       "      <th>0</th>\n",
       "      <td>female</td>\n",
       "      <td>group B</td>\n",
       "      <td>bachelor's degree</td>\n",
       "      <td>standard</td>\n",
       "      <td>none</td>\n",
       "      <td>72</td>\n",
       "      <td>72</td>\n",
       "      <td>74</td>\n",
       "    </tr>\n",
       "    <tr>\n",
       "      <th>1</th>\n",
       "      <td>female</td>\n",
       "      <td>group C</td>\n",
       "      <td>some college</td>\n",
       "      <td>standard</td>\n",
       "      <td>completed</td>\n",
       "      <td>69</td>\n",
       "      <td>90</td>\n",
       "      <td>88</td>\n",
       "    </tr>\n",
       "    <tr>\n",
       "      <th>2</th>\n",
       "      <td>female</td>\n",
       "      <td>group B</td>\n",
       "      <td>master's degree</td>\n",
       "      <td>standard</td>\n",
       "      <td>none</td>\n",
       "      <td>90</td>\n",
       "      <td>95</td>\n",
       "      <td>93</td>\n",
       "    </tr>\n",
       "    <tr>\n",
       "      <th>3</th>\n",
       "      <td>male</td>\n",
       "      <td>group A</td>\n",
       "      <td>associate's degree</td>\n",
       "      <td>free/reduced</td>\n",
       "      <td>none</td>\n",
       "      <td>47</td>\n",
       "      <td>57</td>\n",
       "      <td>44</td>\n",
       "    </tr>\n",
       "    <tr>\n",
       "      <th>4</th>\n",
       "      <td>male</td>\n",
       "      <td>group C</td>\n",
       "      <td>some college</td>\n",
       "      <td>standard</td>\n",
       "      <td>none</td>\n",
       "      <td>76</td>\n",
       "      <td>78</td>\n",
       "      <td>75</td>\n",
       "    </tr>\n",
       "  </tbody>\n",
       "</table>\n",
       "</div>"
      ],
      "text/plain": [
       "   gender race/ethnicity parental level of education         lunch  \\\n",
       "0  female        group B           bachelor's degree      standard   \n",
       "1  female        group C                some college      standard   \n",
       "2  female        group B             master's degree      standard   \n",
       "3    male        group A          associate's degree  free/reduced   \n",
       "4    male        group C                some college      standard   \n",
       "\n",
       "  test preparation course  math score  reading score  writing score  \n",
       "0                    none          72             72             74  \n",
       "1               completed          69             90             88  \n",
       "2                    none          90             95             93  \n",
       "3                    none          47             57             44  \n",
       "4                    none          76             78             75  "
      ]
     },
     "execution_count": 2,
     "metadata": {},
     "output_type": "execute_result"
    }
   ],
   "source": [
    "path = \"datasets/\"\n",
    "students = spark.read.csv(path+\"students.csv\", inferSchema=True, header=True)\n",
    "\n",
    "students.limit(5).toPandas()"
   ]
  },
  {
   "cell_type": "code",
   "execution_count": 3,
   "id": "6cdecca5-99a6-44a3-9f0d-aa7988e94dfc",
   "metadata": {},
   "outputs": [
    {
     "name": "stderr",
     "output_type": "stream",
     "text": [
      "                                                                                \r"
     ]
    },
    {
     "name": "stdout",
     "output_type": "stream",
     "text": [
      "+---------------+------+----------------+--------------------+-----+\n",
      "|    Player Name|Season|       Statistic|            Variable|Value|\n",
      "+---------------+------+----------------+--------------------+-----+\n",
      "|Robert Garrigus|  2010|Driving Distance|Driving Distance ...|   71|\n",
      "|   Bubba Watson|  2010|Driving Distance|Driving Distance ...|   77|\n",
      "| Dustin Johnson|  2010|Driving Distance|Driving Distance ...|   83|\n",
      "|Brett Wetterich|  2010|Driving Distance|Driving Distance ...|   54|\n",
      "|    J.B. Holmes|  2010|Driving Distance|Driving Distance ...|  100|\n",
      "+---------------+------+----------------+--------------------+-----+\n",
      "only showing top 5 rows\n",
      "\n"
     ]
    },
    {
     "data": {
      "text/html": [
       "<div>\n",
       "<style scoped>\n",
       "    .dataframe tbody tr th:only-of-type {\n",
       "        vertical-align: middle;\n",
       "    }\n",
       "\n",
       "    .dataframe tbody tr th {\n",
       "        vertical-align: top;\n",
       "    }\n",
       "\n",
       "    .dataframe thead th {\n",
       "        text-align: right;\n",
       "    }\n",
       "</style>\n",
       "<table border=\"1\" class=\"dataframe\">\n",
       "  <thead>\n",
       "    <tr style=\"text-align: right;\">\n",
       "      <th></th>\n",
       "      <th>Player Name</th>\n",
       "      <th>Season</th>\n",
       "      <th>Statistic</th>\n",
       "      <th>Variable</th>\n",
       "      <th>Value</th>\n",
       "    </tr>\n",
       "  </thead>\n",
       "  <tbody>\n",
       "    <tr>\n",
       "      <th>0</th>\n",
       "      <td>Robert Garrigus</td>\n",
       "      <td>2010</td>\n",
       "      <td>Driving Distance</td>\n",
       "      <td>Driving Distance - (ROUNDS)</td>\n",
       "      <td>71</td>\n",
       "    </tr>\n",
       "    <tr>\n",
       "      <th>1</th>\n",
       "      <td>Bubba Watson</td>\n",
       "      <td>2010</td>\n",
       "      <td>Driving Distance</td>\n",
       "      <td>Driving Distance - (ROUNDS)</td>\n",
       "      <td>77</td>\n",
       "    </tr>\n",
       "    <tr>\n",
       "      <th>2</th>\n",
       "      <td>Dustin Johnson</td>\n",
       "      <td>2010</td>\n",
       "      <td>Driving Distance</td>\n",
       "      <td>Driving Distance - (ROUNDS)</td>\n",
       "      <td>83</td>\n",
       "    </tr>\n",
       "    <tr>\n",
       "      <th>3</th>\n",
       "      <td>Brett Wetterich</td>\n",
       "      <td>2010</td>\n",
       "      <td>Driving Distance</td>\n",
       "      <td>Driving Distance - (ROUNDS)</td>\n",
       "      <td>54</td>\n",
       "    </tr>\n",
       "    <tr>\n",
       "      <th>4</th>\n",
       "      <td>J.B. Holmes</td>\n",
       "      <td>2010</td>\n",
       "      <td>Driving Distance</td>\n",
       "      <td>Driving Distance - (ROUNDS)</td>\n",
       "      <td>100</td>\n",
       "    </tr>\n",
       "  </tbody>\n",
       "</table>\n",
       "</div>"
      ],
      "text/plain": [
       "       Player Name  Season         Statistic                     Variable  \\\n",
       "0  Robert Garrigus    2010  Driving Distance  Driving Distance - (ROUNDS)   \n",
       "1     Bubba Watson    2010  Driving Distance  Driving Distance - (ROUNDS)   \n",
       "2   Dustin Johnson    2010  Driving Distance  Driving Distance - (ROUNDS)   \n",
       "3  Brett Wetterich    2010  Driving Distance  Driving Distance - (ROUNDS)   \n",
       "4      J.B. Holmes    2010  Driving Distance  Driving Distance - (ROUNDS)   \n",
       "\n",
       "  Value  \n",
       "0    71  \n",
       "1    77  \n",
       "2    83  \n",
       "3    54  \n",
       "4   100  "
      ]
     },
     "execution_count": 3,
     "metadata": {},
     "output_type": "execute_result"
    }
   ],
   "source": [
    "tour = spark.read.csv(path+\"pga_tour_historical.csv\", inferSchema=True, header=True)\n",
    "tour.show(5)\n",
    "tour.limit(100).dropna().dropDuplicates().limit(5).toPandas()"
   ]
  },
  {
   "cell_type": "markdown",
   "id": "6092661c-d706-4de0-9282-03185716bb42",
   "metadata": {},
   "source": [
    "## Column"
   ]
  },
  {
   "cell_type": "code",
   "execution_count": 4,
   "id": "4dce4c7c-1ff1-4eb3-9214-d3b61779346d",
   "metadata": {},
   "outputs": [
    {
     "data": {
      "text/plain": [
       "Column<'Season'>"
      ]
     },
     "execution_count": 4,
     "metadata": {},
     "output_type": "execute_result"
    }
   ],
   "source": [
    "df = tour.limit(50)\n",
    "df.Season"
   ]
  },
  {
   "cell_type": "code",
   "execution_count": 5,
   "id": "e9ec6186-5f8f-4a51-a0cc-0f26145e347e",
   "metadata": {},
   "outputs": [
    {
     "data": {
      "text/plain": [
       "Column<'Season'>"
      ]
     },
     "execution_count": 5,
     "metadata": {},
     "output_type": "execute_result"
    }
   ],
   "source": [
    "df[\"Season\"]"
   ]
  },
  {
   "cell_type": "code",
   "execution_count": 6,
   "id": "f8768512-43a4-4b49-9261-4452d96acad3",
   "metadata": {},
   "outputs": [
    {
     "data": {
      "text/plain": [
       "Column<'(Season + 1)'>"
      ]
     },
     "execution_count": 6,
     "metadata": {},
     "output_type": "execute_result"
    }
   ],
   "source": [
    "df.Season + 1"
   ]
  },
  {
   "cell_type": "code",
   "execution_count": 7,
   "id": "b1ab3909-b9bb-4e28-80ee-7ce2581e16aa",
   "metadata": {},
   "outputs": [
    {
     "data": {
      "text/plain": [
       "Column<'(1 / Season)'>"
      ]
     },
     "execution_count": 7,
     "metadata": {},
     "output_type": "execute_result"
    }
   ],
   "source": [
    "1 / df.Season"
   ]
  },
  {
   "cell_type": "markdown",
   "id": "2fda2adc-4644-46e2-9c9f-7fbae5aeec34",
   "metadata": {},
   "source": [
    "#### alias(*alias, **kwargs)"
   ]
  },
  {
   "cell_type": "code",
   "execution_count": 8,
   "id": "b052ab61-faab-4dbd-8e4f-2a20d21e44c5",
   "metadata": {},
   "outputs": [
    {
     "data": {
      "text/plain": [
       "[Row(Player Name='Robert Garrigus', Year=2010, Value='71'),\n",
       " Row(Player Name='Bubba Watson', Year=2010, Value='77'),\n",
       " Row(Player Name='Dustin Johnson', Year=2010, Value='83'),\n",
       " Row(Player Name='Brett Wetterich', Year=2010, Value='54'),\n",
       " Row(Player Name='J.B. Holmes', Year=2010, Value='100')]"
      ]
     },
     "execution_count": 8,
     "metadata": {},
     "output_type": "execute_result"
    }
   ],
   "source": [
    "df.select(\"Player Name\", df.Season.alias(\"Year\"), \"Value\").limit(5).collect()"
   ]
  },
  {
   "cell_type": "code",
   "execution_count": 9,
   "id": "d731489c-d233-4341-8233-6036049e35f7",
   "metadata": {},
   "outputs": [
    {
     "data": {
      "text/plain": [
       "99"
      ]
     },
     "execution_count": 9,
     "metadata": {},
     "output_type": "execute_result"
    }
   ],
   "source": [
    "df.select(df.Value.alias(\"vl\", metadata={'max': 99})).schema['vl'].metadata['max']"
   ]
  },
  {
   "cell_type": "code",
   "execution_count": 10,
   "id": "939ffa8e-926d-496c-9f9f-953243ea90dc",
   "metadata": {},
   "outputs": [
    {
     "data": {
      "text/plain": [
       "DataFrame[vl: string]"
      ]
     },
     "execution_count": 10,
     "metadata": {},
     "output_type": "execute_result"
    }
   ],
   "source": [
    "df.select(df.Value.alias(\"vl\", metadata={'max': 99}))"
   ]
  },
  {
   "cell_type": "code",
   "execution_count": 11,
   "id": "8f0ebe96-8971-46de-8dfe-f9b42964d046",
   "metadata": {},
   "outputs": [
    {
     "data": {
      "text/plain": [
       "'Znn'"
      ]
     },
     "execution_count": 11,
     "metadata": {},
     "output_type": "execute_result"
    }
   ],
   "source": [
    "df.select(df.Value.alias(\"vl\", metadata={'max': 99, \"author\": \"Znn\"})).schema['vl'].metadata['author']"
   ]
  },
  {
   "cell_type": "code",
   "execution_count": 12,
   "id": "93e8f938-3bb3-44c1-bb40-e4c6627dafa4",
   "metadata": {},
   "outputs": [
    {
     "data": {
      "text/plain": [
       "DataFrame[vl: string]"
      ]
     },
     "execution_count": 12,
     "metadata": {},
     "output_type": "execute_result"
    }
   ],
   "source": [
    "df.select(df.Value.alias(\"vl\", metadata={'max': 99, \"author\": \"Znn\"}))"
   ]
  },
  {
   "cell_type": "markdown",
   "id": "4130acc8-eaa8-43f6-9d9d-7f7607a196bf",
   "metadata": {},
   "source": [
    "#### asc()"
   ]
  },
  {
   "cell_type": "code",
   "execution_count": 13,
   "id": "0bd92ba7-0f0c-49a4-bf18-fa81fb98c3eb",
   "metadata": {},
   "outputs": [
    {
     "name": "stderr",
     "output_type": "stream",
     "text": [
      "                                                                                \r"
     ]
    },
    {
     "data": {
      "text/plain": [
       "[Row(name='Alice'), Row(name='Tom')]"
      ]
     },
     "execution_count": 13,
     "metadata": {},
     "output_type": "execute_result"
    }
   ],
   "source": [
    "df = spark.createDataFrame([('Tom', 80), ('Alice', None)], [\"name\", \"height\"])\n",
    "df.select(df.name).orderBy(df.name.asc()).collect()"
   ]
  },
  {
   "cell_type": "code",
   "execution_count": 14,
   "id": "3c1507ac-d0da-4f2f-ad66-2a41cd77d97f",
   "metadata": {},
   "outputs": [
    {
     "name": "stderr",
     "output_type": "stream",
     "text": [
      "                                                                                \r"
     ]
    },
    {
     "data": {
      "text/plain": [
       "2740403"
      ]
     },
     "execution_count": 14,
     "metadata": {},
     "output_type": "execute_result"
    }
   ],
   "source": [
    "tour.count()"
   ]
  },
  {
   "cell_type": "code",
   "execution_count": 15,
   "id": "01976764-078b-4d64-9bf8-28dd159b98a5",
   "metadata": {},
   "outputs": [
    {
     "name": "stderr",
     "output_type": "stream",
     "text": [
      "[Stage 17:>                                                       (0 + 12) / 12]\r"
     ]
    },
    {
     "name": "stdout",
     "output_type": "stream",
     "text": [
      "+--------------+------+----------+\n",
      "|   Player Name|Season|     Value|\n",
      "+--------------+------+----------+\n",
      "|   Chris Riley|  2010|$1,001,581|\n",
      "|   Josh Teater|  2010|$1,005,322|\n",
      "| Shaun Micheel|  2010|$1,025,500|\n",
      "|Justin Leonard|  2010|$1,026,445|\n",
      "|   Ryuji Imada|  2010|$1,028,868|\n",
      "+--------------+------+----------+\n",
      "only showing top 5 rows\n",
      "\n"
     ]
    },
    {
     "name": "stderr",
     "output_type": "stream",
     "text": [
      "                                                                                \r"
     ]
    }
   ],
   "source": [
    "tour.limit(100000).select(\"Player Name\", \"Season\", \"Value\").dropna().dropDuplicates().orderBy(tour.Value.asc()).show(5)"
   ]
  },
  {
   "cell_type": "code",
   "execution_count": 16,
   "id": "2a425c5a-2368-4f4d-88fe-6e4654b75d2c",
   "metadata": {},
   "outputs": [
    {
     "data": {
      "text/plain": [
       "[Row(Player Name='Chris Riley', Season=2010, Value='$1,001,581'),\n",
       " Row(Player Name='Josh Teater', Season=2010, Value='$1,005,322'),\n",
       " Row(Player Name='Shaun Micheel', Season=2010, Value='$1,025,500'),\n",
       " Row(Player Name='Justin Leonard', Season=2010, Value='$1,026,445'),\n",
       " Row(Player Name='Ryuji Imada', Season=2010, Value='$1,028,868')]"
      ]
     },
     "execution_count": 16,
     "metadata": {},
     "output_type": "execute_result"
    }
   ],
   "source": [
    "tour.limit(100000).select(\"Player Name\", \"Season\", \"Value\").dropna().dropDuplicates().orderBy(tour.Value.asc()).collect()[:5]"
   ]
  },
  {
   "cell_type": "code",
   "execution_count": 17,
   "id": "ebf20875-be95-4776-8dfe-83e188ef4ea5",
   "metadata": {},
   "outputs": [
    {
     "data": {
      "text/plain": [
       "pyspark.sql.dataframe.DataFrame"
      ]
     },
     "execution_count": 17,
     "metadata": {},
     "output_type": "execute_result"
    }
   ],
   "source": [
    "type(tour.limit(100000).select(\"Player Name\", \"Season\", \"Value\").dropna().dropDuplicates().orderBy(tour.Value.asc()))"
   ]
  },
  {
   "cell_type": "code",
   "execution_count": 18,
   "id": "20f88a56-a20d-4dfe-937d-87a7e9ab8f3f",
   "metadata": {},
   "outputs": [
    {
     "data": {
      "text/plain": [
       "list"
      ]
     },
     "execution_count": 18,
     "metadata": {},
     "output_type": "execute_result"
    }
   ],
   "source": [
    "type(tour.limit(100000).select(\"Player Name\", \"Season\", \"Value\").dropna().dropDuplicates().orderBy(tour.Value.asc()).collect())"
   ]
  },
  {
   "cell_type": "markdown",
   "id": "d64b128d-d786-4846-b438-f0e94e184c18",
   "metadata": {},
   "source": [
    "#### asc_nulls_first()"
   ]
  },
  {
   "cell_type": "code",
   "execution_count": 19,
   "id": "822a59ac-157a-4e9b-bb5c-07b014d51c37",
   "metadata": {},
   "outputs": [],
   "source": [
    "df = spark.createDataFrame([('Tom', 80), (None, 60), ('Alice', None)], [\"name\", \"height\"])"
   ]
  },
  {
   "cell_type": "code",
   "execution_count": 20,
   "id": "edb4bfbc-0831-4bea-a5a8-910e31264005",
   "metadata": {},
   "outputs": [
    {
     "data": {
      "text/plain": [
       "[Row(name=None), Row(name='Alice'), Row(name='Tom')]"
      ]
     },
     "execution_count": 20,
     "metadata": {},
     "output_type": "execute_result"
    }
   ],
   "source": [
    "df.select(df.name).orderBy(df.name.asc_nulls_first()).collect()"
   ]
  },
  {
   "cell_type": "code",
   "execution_count": 21,
   "id": "abca285f-66b0-4d7c-a5fd-8df42f2465e9",
   "metadata": {},
   "outputs": [
    {
     "name": "stderr",
     "output_type": "stream",
     "text": [
      "23/10/09 22:32:47 WARN GarbageCollectionMetrics: To enable non-built-in garbage collector(s) List(G1 Concurrent GC), users should configure it(them) to spark.eventLog.gcMetrics.youngGenerationGarbageCollectors or spark.eventLog.gcMetrics.oldGenerationGarbageCollectors\n",
      "[Stage 32:>                                                       (0 + 12) / 13]\r"
     ]
    },
    {
     "name": "stdout",
     "output_type": "stream",
     "text": [
      "+------------------+------+-----+\n",
      "|       Player Name|Season|Value|\n",
      "+------------------+------+-----+\n",
      "|  Charl Schwartzel|  2010| NULL|\n",
      "|        Lee Janzen|  2010| NULL|\n",
      "|Matthew Richardson|  2010| NULL|\n",
      "|         Jeff Peck|  2010| NULL|\n",
      "| Tetsuji Hiratsuka|  2010| NULL|\n",
      "+------------------+------+-----+\n",
      "only showing top 5 rows\n",
      "\n"
     ]
    },
    {
     "name": "stderr",
     "output_type": "stream",
     "text": [
      "                                                                                \r"
     ]
    }
   ],
   "source": [
    "tour.select(\"Player Name\", \"Season\", \"Value\").dropDuplicates().orderBy(tour.Value.asc_nulls_first()).show(5)"
   ]
  },
  {
   "cell_type": "markdown",
   "id": "cdbc60e7-ae88-4bee-8da3-35a896beef44",
   "metadata": {},
   "source": [
    "#### asc_nulls_last()"
   ]
  },
  {
   "cell_type": "code",
   "execution_count": 22,
   "id": "6776f326-3ab8-4415-9c56-32239f9be66c",
   "metadata": {},
   "outputs": [
    {
     "data": {
      "text/plain": [
       "[Row(name='Alice'), Row(name='Tom'), Row(name=None)]"
      ]
     },
     "execution_count": 22,
     "metadata": {},
     "output_type": "execute_result"
    }
   ],
   "source": [
    "df = spark.createDataFrame([('Tom', 80), (None, 60), ('Alice', None)], [\"name\", \"height\"])\n",
    "df.select(df.name).orderBy(df.name.asc_nulls_last()).collect()"
   ]
  },
  {
   "cell_type": "code",
   "execution_count": 23,
   "id": "c3e0639b-2b5d-4edc-87c8-437878aecc6b",
   "metadata": {},
   "outputs": [
    {
     "name": "stderr",
     "output_type": "stream",
     "text": [
      "[Stage 37:====>                                                   (1 + 11) / 12]\r"
     ]
    },
    {
     "name": "stdout",
     "output_type": "stream",
     "text": [
      "+--------------+------+----------+\n",
      "|   Player Name|Season|     Value|\n",
      "+--------------+------+----------+\n",
      "|   Chris Riley|  2010|$1,001,580|\n",
      "|   Chris Riley|  2010|$1,001,581|\n",
      "|Steve Stricker|  2017|$1,002,036|\n",
      "|  Robert Streb|  2016|$1,003,359|\n",
      "|  Robert Streb|  2016|$1,003,362|\n",
      "+--------------+------+----------+\n",
      "only showing top 5 rows\n",
      "\n"
     ]
    },
    {
     "name": "stderr",
     "output_type": "stream",
     "text": [
      "                                                                                \r"
     ]
    }
   ],
   "source": [
    "tour.select(\"Player Name\", \"Season\", \"Value\").dropDuplicates().orderBy(tour.Value.asc_nulls_last()).show(5)"
   ]
  },
  {
   "cell_type": "markdown",
   "id": "5dc73348-08b7-4048-bf37-06050b4a0b0e",
   "metadata": {},
   "source": [
    "#### astype(dataType)"
   ]
  },
  {
   "cell_type": "code",
   "execution_count": 24,
   "id": "a1b85780-1083-40e0-823e-0ffeda63e720",
   "metadata": {},
   "outputs": [
    {
     "name": "stdout",
     "output_type": "stream",
     "text": [
      "root\n",
      " |-- Player Name: string (nullable = true)\n",
      " |-- Season: integer (nullable = true)\n",
      " |-- Statistic: string (nullable = true)\n",
      " |-- Variable: string (nullable = true)\n",
      " |-- Value: integer (nullable = true)\n",
      "\n"
     ]
    }
   ],
   "source": [
    "from pyspark.sql.types import IntegerType\n",
    "df = tour.withColumn(\"Value\", tour[\"Value\"].astype(\"int\"))\n",
    "df.printSchema()"
   ]
  },
  {
   "cell_type": "code",
   "execution_count": 25,
   "id": "13ed33df-07a1-42f4-8025-ee7840590193",
   "metadata": {},
   "outputs": [
    {
     "data": {
      "text/plain": [
       "Column<'CAST(Value AS INT)'>"
      ]
     },
     "execution_count": 25,
     "metadata": {},
     "output_type": "execute_result"
    }
   ],
   "source": [
    "tour[\"Value\"].astype(\"int\")"
   ]
  },
  {
   "cell_type": "code",
   "execution_count": null,
   "id": "8f09fa6a-25ff-4250-8ede-bc7ecb392ce0",
   "metadata": {},
   "outputs": [],
   "source": []
  },
  {
   "cell_type": "markdown",
   "id": "90d54c09-1b4f-48ea-b0a8-23157f20183a",
   "metadata": {},
   "source": [
    "#### between(lowerBound, upperBound)"
   ]
  },
  {
   "cell_type": "code",
   "execution_count": 26,
   "id": "be754ad1-8320-496e-9c67-0ed86066ec09",
   "metadata": {},
   "outputs": [
    {
     "name": "stdout",
     "output_type": "stream",
     "text": [
      "+---------------+--------------------------------+\n",
      "|    Player name|((Value >= 0) AND (Value <= 75))|\n",
      "+---------------+--------------------------------+\n",
      "|Robert Garrigus|                            true|\n",
      "|   Bubba Watson|                           false|\n",
      "| Dustin Johnson|                           false|\n",
      "|Brett Wetterich|                            true|\n",
      "|    J.B. Holmes|                           false|\n",
      "+---------------+--------------------------------+\n",
      "only showing top 5 rows\n",
      "\n"
     ]
    }
   ],
   "source": [
    "df = tour.withColumn(\"Value\", tour[\"Value\"].astype(\"int\"))\n",
    "df.select(\"Player name\", df.Value.between(0, 75)).show(5)"
   ]
  },
  {
   "cell_type": "code",
   "execution_count": null,
   "id": "b777e96c-2b2a-4057-a834-e091a66a971c",
   "metadata": {},
   "outputs": [],
   "source": []
  },
  {
   "cell_type": "markdown",
   "id": "1382f667-56a6-4913-b8eb-36f85102779e",
   "metadata": {},
   "source": [
    "#### bitwiseAND(other)"
   ]
  },
  {
   "cell_type": "code",
   "execution_count": 27,
   "id": "f7172115-8f03-413d-be86-5108e947f4d1",
   "metadata": {},
   "outputs": [
    {
     "data": {
      "text/plain": [
       "[Row((a & b)=3)]"
      ]
     },
     "execution_count": 27,
     "metadata": {},
     "output_type": "execute_result"
    }
   ],
   "source": [
    "df = spark.createDataFrame([pyspark.sql.Row(a=7, b=3)])\n",
    "df.select(df.a.bitwiseAND(df.b)).collect()"
   ]
  },
  {
   "cell_type": "code",
   "execution_count": 28,
   "id": "ad8ee36c-3e08-4425-ba56-6f74ac3e2e7e",
   "metadata": {},
   "outputs": [
    {
     "name": "stdout",
     "output_type": "stream",
     "text": [
      "+---------------+----------------+\n",
      "|    Player name|(Season & Value)|\n",
      "+---------------+----------------+\n",
      "|Robert Garrigus|              66|\n",
      "|   Bubba Watson|              72|\n",
      "| Dustin Johnson|              82|\n",
      "|Brett Wetterich|              18|\n",
      "|    J.B. Holmes|              64|\n",
      "+---------------+----------------+\n",
      "only showing top 5 rows\n",
      "\n"
     ]
    }
   ],
   "source": [
    "df = tour.limit(100).withColumn(\"Value\", tour[\"Value\"].astype(\"int\"))\n",
    "df.select(\"Player name\", df.Season.bitwiseAND(df.Value)).show(5)"
   ]
  },
  {
   "cell_type": "code",
   "execution_count": null,
   "id": "6178690e-063c-47c0-ad35-0f010f8d7fc9",
   "metadata": {},
   "outputs": [],
   "source": []
  },
  {
   "cell_type": "markdown",
   "id": "e3dbf030-f6f2-4167-9556-33b4ff90bf7b",
   "metadata": {},
   "source": [
    "#### bitwiseOR(other)"
   ]
  },
  {
   "cell_type": "code",
   "execution_count": 29,
   "id": "70fe6f28-7f45-4236-be10-794a8782808d",
   "metadata": {},
   "outputs": [
    {
     "data": {
      "text/plain": [
       "[Row((a | b)=7)]"
      ]
     },
     "execution_count": 29,
     "metadata": {},
     "output_type": "execute_result"
    }
   ],
   "source": [
    "df = spark.createDataFrame([pyspark.sql.Row(a=7, b=3)])\n",
    "df.select(df.a.bitwiseOR(df.b)).collect()"
   ]
  },
  {
   "cell_type": "code",
   "execution_count": 30,
   "id": "336c9c85-d3e0-4acf-852e-0cd3e1f149e2",
   "metadata": {},
   "outputs": [
    {
     "name": "stdout",
     "output_type": "stream",
     "text": [
      "+---------------+-----------------------------+\n",
      "|    Player name|(Season & CAST(Value AS INT))|\n",
      "+---------------+-----------------------------+\n",
      "|Robert Garrigus|                           66|\n",
      "|   Bubba Watson|                           72|\n",
      "| Dustin Johnson|                           82|\n",
      "|Brett Wetterich|                           18|\n",
      "|    J.B. Holmes|                           64|\n",
      "+---------------+-----------------------------+\n",
      "only showing top 5 rows\n",
      "\n",
      "+---------------+-----------------------------+\n",
      "|    Player name|(Season | CAST(Value AS INT))|\n",
      "+---------------+-----------------------------+\n",
      "|Robert Garrigus|                         2015|\n",
      "|   Bubba Watson|                         2015|\n",
      "| Dustin Johnson|                         2011|\n",
      "|Brett Wetterich|                         2046|\n",
      "|    J.B. Holmes|                         2046|\n",
      "+---------------+-----------------------------+\n",
      "only showing top 5 rows\n",
      "\n",
      "+---------------+-----------------------------+\n",
      "|    Player name|(Season ^ CAST(Value AS INT))|\n",
      "+---------------+-----------------------------+\n",
      "|Robert Garrigus|                         1949|\n",
      "|   Bubba Watson|                         1943|\n",
      "| Dustin Johnson|                         1929|\n",
      "|Brett Wetterich|                         2028|\n",
      "|    J.B. Holmes|                         1982|\n",
      "+---------------+-----------------------------+\n",
      "only showing top 5 rows\n",
      "\n"
     ]
    }
   ],
   "source": [
    "tour.select(\"Player name\", tour.Season.bitwiseAND(tour.Value.astype(\"int\"))).show(5)\n",
    "tour.select(\"Player name\", tour.Season.bitwiseOR(tour.Value.astype(\"int\"))).show(5)\n",
    "tour.select(\"Player name\", tour.Season.bitwiseXOR(tour.Value.astype(\"int\"))).show(5)"
   ]
  },
  {
   "cell_type": "code",
   "execution_count": null,
   "id": "e10558b2-8bfb-49ff-840a-5bf4d67f0ce8",
   "metadata": {},
   "outputs": [],
   "source": []
  },
  {
   "cell_type": "markdown",
   "id": "684fea03-93f7-4de4-b8f1-f94f85266611",
   "metadata": {},
   "source": [
    "#### bitwiseXOR(other)"
   ]
  },
  {
   "cell_type": "code",
   "execution_count": 31,
   "id": "cae04c38-a258-4d8e-b8c6-1f1cf2f7adb6",
   "metadata": {},
   "outputs": [
    {
     "data": {
      "text/plain": [
       "[Row((a ^ b)=4)]"
      ]
     },
     "execution_count": 31,
     "metadata": {},
     "output_type": "execute_result"
    }
   ],
   "source": [
    "df = spark.createDataFrame([pyspark.sql.Row(a=7, b=3)])\n",
    "df.select(df.a.bitwiseXOR(df.b)).collect()"
   ]
  },
  {
   "cell_type": "code",
   "execution_count": null,
   "id": "11618ace-1906-414e-a2bb-f547c8c5797b",
   "metadata": {},
   "outputs": [],
   "source": []
  },
  {
   "cell_type": "markdown",
   "id": "58664a93-ea94-4fb1-9eeb-24011e55f244",
   "metadata": {},
   "source": [
    "#### cast(dataType)"
   ]
  },
  {
   "cell_type": "code",
   "execution_count": 32,
   "id": "0bda7fe4-6527-4ed6-83f0-2961dded49a7",
   "metadata": {},
   "outputs": [
    {
     "name": "stdout",
     "output_type": "stream",
     "text": [
      "root\n",
      " |-- Player Name: string (nullable = true)\n",
      " |-- Season: integer (nullable = true)\n",
      " |-- Statistic: string (nullable = true)\n",
      " |-- Variable: string (nullable = true)\n",
      " |-- Value: string (nullable = true)\n",
      " |-- Value: integer (nullable = true)\n",
      "\n"
     ]
    }
   ],
   "source": [
    "tour.select(\"*\", tour.Value.cast(IntegerType())).printSchema()"
   ]
  },
  {
   "cell_type": "code",
   "execution_count": 33,
   "id": "f709179e-9c67-465d-9649-6a151314048f",
   "metadata": {},
   "outputs": [
    {
     "name": "stdout",
     "output_type": "stream",
     "text": [
      "root\n",
      " |-- gender: string (nullable = true)\n",
      " |-- race/ethnicity: string (nullable = true)\n",
      " |-- parental level of education: string (nullable = true)\n",
      " |-- lunch: string (nullable = true)\n",
      " |-- test preparation course: string (nullable = true)\n",
      " |-- math score: integer (nullable = true)\n",
      " |-- reading score: integer (nullable = true)\n",
      " |-- writing score: integer (nullable = true)\n",
      "\n"
     ]
    }
   ],
   "source": [
    "students.printSchema()"
   ]
  },
  {
   "cell_type": "code",
   "execution_count": 34,
   "id": "20858d5a-109c-41d9-bd59-653d48e7a324",
   "metadata": {},
   "outputs": [
    {
     "name": "stdout",
     "output_type": "stream",
     "text": [
      "+------+--------------+---------------------------+------------+-----------------------+----------+-------------+-------------+\n",
      "|gender|race/ethnicity|parental level of education|       lunch|test preparation course|math score|reading score|writing score|\n",
      "+------+--------------+---------------------------+------------+-----------------------+----------+-------------+-------------+\n",
      "|female|       group B|          bachelor's degree|    standard|                   none|  Not pass|           72|           74|\n",
      "|female|       group C|               some college|    standard|              completed|  Not pass|           90|           88|\n",
      "|female|       group B|            master's degree|    standard|                   none|        90|           95|           93|\n",
      "|  male|       group A|         associate's degree|free/reduced|                   none|  Not pass|           57|           44|\n",
      "|  male|       group C|               some college|    standard|                   none|        76|           78|           75|\n",
      "|female|       group B|         associate's degree|    standard|                   none|  Not pass|           83|           78|\n",
      "|female|       group B|               some college|    standard|              completed|        88|           95|           92|\n",
      "|  male|       group B|               some college|free/reduced|                   none|  Not pass|           43|           39|\n",
      "|  male|       group D|                high school|free/reduced|              completed|  Not pass|           64|           67|\n",
      "|female|       group B|                high school|free/reduced|                   none|  Not pass|           60|           50|\n",
      "|  male|       group C|         associate's degree|    standard|                   none|  Not pass|           54|           52|\n",
      "|  male|       group D|         associate's degree|    standard|                   none|  Not pass|           52|           43|\n",
      "|female|       group B|                high school|    standard|                   none|  Not pass|           81|           73|\n",
      "|  male|       group A|               some college|    standard|              completed|        78|           72|           70|\n",
      "|female|       group A|            master's degree|    standard|                   none|  Not pass|           53|           58|\n",
      "|female|       group C|           some high school|    standard|                   none|  Not pass|           75|           78|\n",
      "|  male|       group C|                high school|    standard|                   none|        88|           89|           86|\n",
      "|female|       group B|           some high school|free/reduced|                   none|  Not pass|           32|           28|\n",
      "|  male|       group C|            master's degree|free/reduced|              completed|  Not pass|           42|           46|\n",
      "|female|       group C|         associate's degree|free/reduced|                   none|  Not pass|           58|           61|\n",
      "+------+--------------+---------------------------+------------+-----------------------+----------+-------------+-------------+\n",
      "only showing top 20 rows\n",
      "\n"
     ]
    }
   ],
   "source": [
    "from pyspark.sql.types import StringType\n",
    "\n",
    "students.withColumn(\"math score\", when(col(\"math score\") < 75, \"Not pass\").otherwise(col(\"math score\").cast(StringType()))).show()"
   ]
  },
  {
   "cell_type": "code",
   "execution_count": 35,
   "id": "03818de0-483d-456e-beb8-a980c6f8293d",
   "metadata": {},
   "outputs": [
    {
     "name": "stdout",
     "output_type": "stream",
     "text": [
      "+------+--------------+---------------------------+------------+-----------------------+----------+-------------+-------------+\n",
      "|gender|race/ethnicity|parental level of education|       lunch|test preparation course|math score|reading score|writing score|\n",
      "+------+--------------+---------------------------+------------+-----------------------+----------+-------------+-------------+\n",
      "|female|       group B|          bachelor's degree|    standard|                   none|      72.0|         72.0|           74|\n",
      "|female|       group C|               some college|    standard|              completed|      69.0|         90.0|           88|\n",
      "|female|       group B|            master's degree|    standard|                   none|      90.0|         95.0|           93|\n",
      "|  male|       group A|         associate's degree|free/reduced|                   none|      47.0|         57.0|           44|\n",
      "|  male|       group C|               some college|    standard|                   none|      76.0|         78.0|           75|\n",
      "|female|       group B|         associate's degree|    standard|                   none|      71.0|         83.0|           78|\n",
      "|female|       group B|               some college|    standard|              completed|      88.0|         95.0|           92|\n",
      "|  male|       group B|               some college|free/reduced|                   none|      40.0|         43.0|           39|\n",
      "|  male|       group D|                high school|free/reduced|              completed|      64.0|         64.0|           67|\n",
      "|female|       group B|                high school|free/reduced|                   none|      38.0|         60.0|           50|\n",
      "|  male|       group C|         associate's degree|    standard|                   none|      58.0|         54.0|           52|\n",
      "|  male|       group D|         associate's degree|    standard|                   none|      40.0|         52.0|           43|\n",
      "|female|       group B|                high school|    standard|                   none|      65.0|         81.0|           73|\n",
      "|  male|       group A|               some college|    standard|              completed|      78.0|         72.0|           70|\n",
      "|female|       group A|            master's degree|    standard|                   none|      50.0|         53.0|           58|\n",
      "|female|       group C|           some high school|    standard|                   none|      69.0|         75.0|           78|\n",
      "|  male|       group C|                high school|    standard|                   none|      88.0|         89.0|           86|\n",
      "|female|       group B|           some high school|free/reduced|                   none|      18.0|         32.0|           28|\n",
      "|  male|       group C|            master's degree|free/reduced|              completed|      46.0|         42.0|           46|\n",
      "|female|       group C|         associate's degree|free/reduced|                   none|      54.0|         58.0|           61|\n",
      "+------+--------------+---------------------------+------------+-----------------------+----------+-------------+-------------+\n",
      "only showing top 20 rows\n",
      "\n"
     ]
    }
   ],
   "source": [
    "from pyspark.sql.types import DoubleType\n",
    "\n",
    "students.withColumn(\"math score\", col(\"math score\").cast(DoubleType())).withColumn(\"reading score\", col(\"reading score\").cast(DoubleType())).show()"
   ]
  },
  {
   "cell_type": "code",
   "execution_count": null,
   "id": "74ed003a-517e-443b-ae55-14d1317f832f",
   "metadata": {},
   "outputs": [],
   "source": []
  },
  {
   "cell_type": "markdown",
   "id": "dc5ccb1c-0668-446a-b12a-9bcb023f905d",
   "metadata": {},
   "source": [
    "#### contains(other)"
   ]
  },
  {
   "cell_type": "code",
   "execution_count": 36,
   "id": "66ed44f7-9a92-4687-a578-0ee91467e0d7",
   "metadata": {},
   "outputs": [
    {
     "name": "stdout",
     "output_type": "stream",
     "text": [
      "+---------------+------+--------------------+--------------------+-------+\n",
      "|    Player Name|Season|           Statistic|            Variable|  Value|\n",
      "+---------------+------+--------------------+--------------------+-------+\n",
      "|Tommy Biershenk|  2010|Total Money (Offi...|Total Money (Offi...|      1|\n",
      "|Tommy Biershenk|  2010|Total Money (Offi...|Total Money (Offi...|  5,000|\n",
      "|    Nolan Henke|  2010|Best YTD Streak w...|Best YTD Streak w...|      1|\n",
      "|    Nolan Henke|  2010|Best YTD Streak w...|Best YTD Streak w...|     26|\n",
      "|    Nolan Henke|  2010|Best YTD Streak w...|Best YTD Streak w...|      9|\n",
      "|    Nolan Henke|  2010|Best YTD 1-Putt o...|Best YTD 1-Putt o...|      1|\n",
      "|    Nolan Henke|  2010|Best YTD 1-Putt o...|Best YTD 1-Putt o...|      3|\n",
      "|    Nolan Henke|  2010|Consecutive Sand ...|Consecutive Sand ...|      1|\n",
      "|    Nolan Henke|  2010|Consecutive Sand ...|Consecutive Sand ...|      1|\n",
      "|    Nolan Henke|  2010|Consecutive Sand ...|Consecutive Sand ...|   NULL|\n",
      "|    Nolan Henke|  2010|Consecutive Sand ...|Consecutive Sand ...|      2|\n",
      "|    Nolan Henke|  2010|Consecutive Sand ...|Consecutive Sand ...|     10|\n",
      "|    Nolan Henke|  2010|Consecutive Sand ...|Consecutive Sand ...|2010300|\n",
      "|    Nolan Henke|  2010|Consecutive Fairw...|Consecutive Fairw...|      1|\n",
      "|    Nolan Henke|  2010|Consecutive Fairw...|Consecutive Fairw...|      8|\n",
      "|    Nolan Henke|  2010|Consecutive Fairw...|Consecutive Fairw...|      1|\n",
      "|    Nolan Henke|  2010|     Consecutive GIR|Consecutive GIR -...|      1|\n",
      "|    Nolan Henke|  2010|     Consecutive GIR|Consecutive GIR -...|      4|\n",
      "|    Nolan Henke|  2010|     Consecutive GIR|Consecutive GIR -...|      1|\n",
      "|    Nolan Henke|  2010|     Consecutive GIR|Consecutive GIR -...|      1|\n",
      "+---------------+------+--------------------+--------------------+-------+\n",
      "only showing top 20 rows\n",
      "\n"
     ]
    }
   ],
   "source": [
    "tour.filter(tour[\"Player name\"].contains(\"enk\")).show()"
   ]
  },
  {
   "cell_type": "code",
   "execution_count": null,
   "id": "b71f2c6f-ce9b-457b-9af9-2fafe8611425",
   "metadata": {},
   "outputs": [],
   "source": []
  },
  {
   "cell_type": "markdown",
   "id": "995b603c-07da-4659-acdc-48ca0159d0d0",
   "metadata": {},
   "source": [
    "#### desc()"
   ]
  },
  {
   "cell_type": "code",
   "execution_count": 37,
   "id": "612d8148-4f1b-4792-9847-b624c6e4a864",
   "metadata": {},
   "outputs": [
    {
     "name": "stdout",
     "output_type": "stream",
     "text": [
      "+-----+\n",
      "| name|\n",
      "+-----+\n",
      "|  Tom|\n",
      "|Alice|\n",
      "+-----+\n",
      "\n"
     ]
    }
   ],
   "source": [
    "df = spark.createDataFrame([('Tom', 80), ('Alice', None)], [\"name\", \"height\"])\n",
    "df.select(df.name).orderBy(df.name.desc()).show()"
   ]
  },
  {
   "cell_type": "markdown",
   "id": "c1feb14f-2f75-4bd3-b559-4ed3726d2fa1",
   "metadata": {},
   "source": [
    "#### desc_nulls_first()"
   ]
  },
  {
   "cell_type": "code",
   "execution_count": 38,
   "id": "05c0a69b-5408-4789-a82c-203bcca8d551",
   "metadata": {},
   "outputs": [
    {
     "name": "stdout",
     "output_type": "stream",
     "text": [
      "+-----+\n",
      "| name|\n",
      "+-----+\n",
      "| NULL|\n",
      "|  Tom|\n",
      "|Alice|\n",
      "+-----+\n",
      "\n"
     ]
    }
   ],
   "source": [
    "df = spark.createDataFrame([('Tom', 80), (None, 60), ('Alice', None)], [\"name\", \"height\"])\n",
    "df.select(df.name).orderBy(df.name.desc_nulls_first()).show()"
   ]
  },
  {
   "cell_type": "markdown",
   "id": "0e92d90c-bfe1-48fc-888b-69acd5207680",
   "metadata": {},
   "source": [
    "#### desc_nulls_last()"
   ]
  },
  {
   "cell_type": "code",
   "execution_count": 39,
   "id": "2ec9fe36-545a-4b1d-9f9d-894539265490",
   "metadata": {},
   "outputs": [
    {
     "name": "stdout",
     "output_type": "stream",
     "text": [
      "+-----+\n",
      "| name|\n",
      "+-----+\n",
      "|  Tom|\n",
      "|Alice|\n",
      "| NULL|\n",
      "+-----+\n",
      "\n"
     ]
    }
   ],
   "source": [
    "df = spark.createDataFrame([('Tom', 80), (None, 60), ('Alice', None)], [\"name\", \"height\"])\n",
    "df.select(df.name).orderBy(df.name.desc_nulls_last()).show()\n"
   ]
  },
  {
   "cell_type": "markdown",
   "id": "d343b24e-39e4-4d42-a561-fe05d7a34949",
   "metadata": {},
   "source": [
    "#### endswith(other)"
   ]
  },
  {
   "cell_type": "code",
   "execution_count": 40,
   "id": "d20f3969-32b8-43a2-b5b5-43b3afa4c766",
   "metadata": {},
   "outputs": [
    {
     "name": "stdout",
     "output_type": "stream",
     "text": [
      "+-----------+------+--------------------+--------------------+------+\n",
      "|Player Name|Season|           Statistic|            Variable| Value|\n",
      "+-----------+------+--------------------+--------------------+------+\n",
      "|Roope Kakko|  2010|Official World Go...|Official World Go...|    40|\n",
      "|Roope Kakko|  2010|Official World Go...|Official World Go...|   .18|\n",
      "|Roope Kakko|  2010|Official World Go...|Official World Go...|  7.12|\n",
      "|Roope Kakko|  2010|Official World Go...|Official World Go...|-17.21|\n",
      "|Roope Kakko|  2010|Official World Go...|Official World Go...|  1.74|\n",
      "|Roope Kakko|  2010|Official World Go...|Official World Go...|   FIN|\n",
      "|Roope Kakko|  2012|Official World Go...|Official World Go...|    40|\n",
      "|Roope Kakko|  2012|Official World Go...|Official World Go...|   .34|\n",
      "|Roope Kakko|  2012|Official World Go...|Official World Go...| 13.61|\n",
      "|Roope Kakko|  2012|Official World Go...|Official World Go...| -2.01|\n",
      "|Roope Kakko|  2012|Official World Go...|Official World Go...| 14.29|\n",
      "|Roope Kakko|  2012|Official World Go...|Official World Go...|   FIN|\n",
      "|Roope Kakko|  2013|Official World Go...|Official World Go...|    40|\n",
      "|Roope Kakko|  2013|Official World Go...|Official World Go...|   .55|\n",
      "|Roope Kakko|  2013|Official World Go...|Official World Go...| 22.00|\n",
      "|Roope Kakko|  2013|Official World Go...|Official World Go...| -7.20|\n",
      "|Roope Kakko|  2013|Official World Go...|Official World Go...| 15.59|\n",
      "|Roope Kakko|  2013|Official World Go...|Official World Go...|   FIN|\n",
      "|Roope Kakko|  2014|Official World Go...|Official World Go...|    47|\n",
      "|Roope Kakko|  2014|Official World Go...|Official World Go...|   .55|\n",
      "+-----------+------+--------------------+--------------------+------+\n",
      "only showing top 20 rows\n",
      "\n"
     ]
    }
   ],
   "source": [
    "tour.filter(tour[\"Player name\"].endswith(\"ko\")).show()"
   ]
  },
  {
   "cell_type": "code",
   "execution_count": null,
   "id": "c17a0835-0633-4a67-9c32-d1af1371c607",
   "metadata": {},
   "outputs": [],
   "source": []
  },
  {
   "cell_type": "code",
   "execution_count": null,
   "id": "2b47fb56-aa41-4a4e-b337-e5bf29d86c17",
   "metadata": {},
   "outputs": [],
   "source": []
  },
  {
   "cell_type": "markdown",
   "id": "7a98656e-4250-4b47-9b47-1a8906b8960f",
   "metadata": {},
   "source": [
    "#### eqNullSafe(other)"
   ]
  },
  {
   "cell_type": "code",
   "execution_count": 41,
   "id": "b0cb3d77-45e3-4ca4-8774-7010d09daf03",
   "metadata": {},
   "outputs": [
    {
     "name": "stdout",
     "output_type": "stream",
     "text": [
      "+-------------+---------------+----------------+\n",
      "|(value = foo)|(value <=> foo)|(value <=> NULL)|\n",
      "+-------------+---------------+----------------+\n",
      "|         true|           true|           false|\n",
      "|         NULL|          false|            true|\n",
      "+-------------+---------------+----------------+\n",
      "\n"
     ]
    }
   ],
   "source": [
    "from pyspark.sql import Row\n",
    "df1 = spark.createDataFrame([\n",
    "    Row(id=1, value='foo'),\n",
    "    Row(id=2, value=None)\n",
    "])\n",
    "\n",
    "df2 = spark.createDataFrame([\n",
    "    Row(value = 'bar'),\n",
    "    Row(value = None)\n",
    "])\n",
    "\n",
    "df1.select(\n",
    "    df1['value'] == 'foo',\n",
    "    df1['value'].eqNullSafe('foo'),\n",
    "    df1['value'].eqNullSafe(None)\n",
    ").show()"
   ]
  },
  {
   "cell_type": "code",
   "execution_count": 42,
   "id": "f6f48292-87a7-4235-a9db-e4a141f41868",
   "metadata": {},
   "outputs": [
    {
     "data": {
      "text/plain": [
       "0"
      ]
     },
     "execution_count": 42,
     "metadata": {},
     "output_type": "execute_result"
    }
   ],
   "source": [
    "df1.join(df2, df1[\"value\"] == df2[\"value\"]).count()"
   ]
  },
  {
   "cell_type": "code",
   "execution_count": 43,
   "id": "c66338c3-ec73-4c48-b9fe-c222718893d9",
   "metadata": {},
   "outputs": [
    {
     "data": {
      "text/plain": [
       "1"
      ]
     },
     "execution_count": 43,
     "metadata": {},
     "output_type": "execute_result"
    }
   ],
   "source": [
    "df1.join(df2, df1[\"value\"].eqNullSafe(df2[\"value\"])).count()"
   ]
  },
  {
   "cell_type": "code",
   "execution_count": 44,
   "id": "9c63b45e-cdd2-4cb8-96ec-002c51087952",
   "metadata": {},
   "outputs": [
    {
     "name": "stdout",
     "output_type": "stream",
     "text": [
      "+----------------+---------------+----------------+\n",
      "|(value <=> NULL)|(value <=> NaN)|(value <=> 42.0)|\n",
      "+----------------+---------------+----------------+\n",
      "|           false|           true|           false|\n",
      "|           false|          false|            true|\n",
      "|            true|          false|           false|\n",
      "+----------------+---------------+----------------+\n",
      "\n"
     ]
    }
   ],
   "source": [
    "df2 = spark.createDataFrame([\n",
    "    Row(id=1, value=float('NaN')),\n",
    "    Row(id=2, value=42.0),\n",
    "    Row(id=3, value=None)\n",
    "])\n",
    "df2.select(\n",
    "    df2['value'].eqNullSafe(None),\n",
    "    df2['value'].eqNullSafe(float('NaN')),\n",
    "    df2['value'].eqNullSafe(42.0)\n",
    ").show()"
   ]
  },
  {
   "cell_type": "code",
   "execution_count": null,
   "id": "0ee80b99-24dd-4e9f-9726-cd527f078474",
   "metadata": {},
   "outputs": [],
   "source": []
  },
  {
   "cell_type": "markdown",
   "id": "4b496585-1ca7-4044-8c45-b109e9c327cf",
   "metadata": {},
   "source": [
    "#### getField(name)"
   ]
  },
  {
   "cell_type": "code",
   "execution_count": 45,
   "id": "5de7c340-f507-4505-ac52-e8b975f1968b",
   "metadata": {},
   "outputs": [
    {
     "name": "stdout",
     "output_type": "stream",
     "text": [
      "+---------------+\n",
      "|  r.Player name|\n",
      "+---------------+\n",
      "|Robert Garrigus|\n",
      "+---------------+\n",
      "\n"
     ]
    }
   ],
   "source": [
    "df = spark.createDataFrame([Row(r=tour.first())])\n",
    "df.select(df.r.getField(\"Player name\")).show()"
   ]
  },
  {
   "cell_type": "code",
   "execution_count": 46,
   "id": "30582e6b-4b33-4547-b104-e9f8f22f50e8",
   "metadata": {},
   "outputs": [
    {
     "name": "stdout",
     "output_type": "stream",
     "text": [
      "+--------------------------------------------------------------------------+-----+\n",
      "|r                                                                         |Value|\n",
      "+--------------------------------------------------------------------------+-----+\n",
      "|{Robert Garrigus, 2010, Driving Distance, Driving Distance - (ROUNDS), 71}|71   |\n",
      "+--------------------------------------------------------------------------+-----+\n",
      "\n"
     ]
    }
   ],
   "source": [
    "df.withColumn(\"Value\", col(\"r\").getField(\"Value\")).show(1, False)"
   ]
  },
  {
   "cell_type": "code",
   "execution_count": null,
   "id": "78c078ce-8334-4c16-94bb-3db8d430c382",
   "metadata": {},
   "outputs": [],
   "source": []
  },
  {
   "cell_type": "markdown",
   "id": "0258bb9d-126d-4b7c-b66e-cac8abf09c57",
   "metadata": {},
   "source": [
    "#### getItem(key) "
   ]
  },
  {
   "cell_type": "code",
   "execution_count": 47,
   "id": "24de2e7c-8602-43a0-a5ee-2779eebdf2d7",
   "metadata": {},
   "outputs": [
    {
     "name": "stdout",
     "output_type": "stream",
     "text": [
      "+----+------+\n",
      "|l[0]|d[key]|\n",
      "+----+------+\n",
      "|   1| value|\n",
      "+----+------+\n",
      "\n"
     ]
    }
   ],
   "source": [
    "df = spark.createDataFrame([([1, 2], {\"key\": \"value\"})], [\"l\", \"d\"])\n",
    "df.select(df.l.getItem(0), df.d.getItem(\"key\")).show()"
   ]
  },
  {
   "cell_type": "code",
   "execution_count": null,
   "id": "933418aa-9d9a-40af-b6ce-df5fcc144d56",
   "metadata": {},
   "outputs": [],
   "source": []
  },
  {
   "cell_type": "markdown",
   "id": "b3fa9494-251c-418e-94bb-45b4f6ba66d7",
   "metadata": {},
   "source": [
    "#### isNotNull()"
   ]
  },
  {
   "cell_type": "code",
   "execution_count": 48,
   "id": "cdc5f3f8-7c16-4263-ae6b-8b896e8f9519",
   "metadata": {},
   "outputs": [
    {
     "data": {
      "text/plain": [
       "[Row(name='Tom', height=80)]"
      ]
     },
     "execution_count": 48,
     "metadata": {},
     "output_type": "execute_result"
    }
   ],
   "source": [
    "df = spark.createDataFrame([Row(name='Tom', height=80), Row(name='Alice', height=None)])\n",
    "df.filter(df.height.isNotNull()).collect()"
   ]
  },
  {
   "cell_type": "code",
   "execution_count": 49,
   "id": "0b243daa-c0c3-48d8-822b-7dd25ee875ac",
   "metadata": {},
   "outputs": [
    {
     "data": {
      "text/plain": [
       "2740403"
      ]
     },
     "execution_count": 49,
     "metadata": {},
     "output_type": "execute_result"
    }
   ],
   "source": [
    "tour.count()"
   ]
  },
  {
   "cell_type": "code",
   "execution_count": 50,
   "id": "fe665188-7364-49d3-92d2-1fb8cd4516c2",
   "metadata": {},
   "outputs": [
    {
     "name": "stderr",
     "output_type": "stream",
     "text": [
      "                                                                                \r"
     ]
    },
    {
     "data": {
      "text/plain": [
       "2696905"
      ]
     },
     "execution_count": 50,
     "metadata": {},
     "output_type": "execute_result"
    }
   ],
   "source": [
    "tour.filter(tour.Value.isNotNull()).count()"
   ]
  },
  {
   "cell_type": "markdown",
   "id": "c66e8363-364f-4ee1-831b-e67ef290086c",
   "metadata": {},
   "source": [
    "#### isNull()"
   ]
  },
  {
   "cell_type": "code",
   "execution_count": 51,
   "id": "987eebc9-aa63-4c83-ad7c-f9637cfa0538",
   "metadata": {},
   "outputs": [
    {
     "data": {
      "text/plain": [
       "[Row(name='Alice', height=None)]"
      ]
     },
     "execution_count": 51,
     "metadata": {},
     "output_type": "execute_result"
    }
   ],
   "source": [
    "df = spark.createDataFrame([Row(name='Tom', height=80), Row(name='Alice', height=None)])\n",
    "df.filter(df.height.isNull()).collect()"
   ]
  },
  {
   "cell_type": "code",
   "execution_count": 52,
   "id": "c5318276-4e50-470b-a9b4-255efee3a70e",
   "metadata": {},
   "outputs": [
    {
     "data": {
      "text/plain": [
       "2740403"
      ]
     },
     "execution_count": 52,
     "metadata": {},
     "output_type": "execute_result"
    }
   ],
   "source": [
    "tour.count()"
   ]
  },
  {
   "cell_type": "code",
   "execution_count": 53,
   "id": "0ef1e2da-c6c9-4cc0-afa6-a931ffe16935",
   "metadata": {},
   "outputs": [
    {
     "data": {
      "text/plain": [
       "43498"
      ]
     },
     "execution_count": 53,
     "metadata": {},
     "output_type": "execute_result"
    }
   ],
   "source": [
    "tour.filter(tour.Value.isNull()).count()"
   ]
  },
  {
   "cell_type": "markdown",
   "id": "541d3b2c-4045-47c8-b314-f93458555480",
   "metadata": {},
   "source": [
    "#### isin(*cols)"
   ]
  },
  {
   "cell_type": "code",
   "execution_count": 54,
   "id": "35e0d5cf-fc69-4cc3-b086-991a7bd2d5cc",
   "metadata": {},
   "outputs": [
    {
     "data": {
      "text/plain": [
       "[]"
      ]
     },
     "execution_count": 54,
     "metadata": {},
     "output_type": "execute_result"
    }
   ],
   "source": [
    "tour[tour[\"Player name\"].isin(\"Bob\", \"Mike\")].collect()"
   ]
  },
  {
   "cell_type": "code",
   "execution_count": 55,
   "id": "f8c1ae18-6756-4636-9827-59be42def3fa",
   "metadata": {},
   "outputs": [
    {
     "name": "stdout",
     "output_type": "stream",
     "text": [
      "+----------------+------+---------------+--------------------+-----+\n",
      "|     Player Name|Season|      Statistic|            Variable|Value|\n",
      "+----------------+------+---------------+--------------------+-----+\n",
      "|      Joe Durant|  2010|Putting Average|Putting Average -...|    3|\n",
      "|Kevin Sutherland|  2010|Putting Average|Putting Average -...|    2|\n",
      "|     John Senden|  2010|Putting Average|Putting Average -...|    1|\n",
      "|     David Duval|  2010|   Total Eagles|Total Eagles - (T...|    3|\n",
      "|       Ernie Els|  2010|   Total Eagles|Total Eagles - (T...|    3|\n",
      "+----------------+------+---------------+--------------------+-----+\n",
      "only showing top 5 rows\n",
      "\n"
     ]
    }
   ],
   "source": [
    "tour[tour.Value.isin([1, 2, 3])].show(5)"
   ]
  },
  {
   "cell_type": "code",
   "execution_count": null,
   "id": "7f6af1f9-4150-4610-b665-680c4ec679cf",
   "metadata": {},
   "outputs": [],
   "source": []
  },
  {
   "cell_type": "markdown",
   "id": "50ee2f80-f4ac-4c87-8ae2-cc56df62067c",
   "metadata": {},
   "source": [
    "#### like(other)"
   ]
  },
  {
   "cell_type": "code",
   "execution_count": 56,
   "id": "a4780b7d-70b6-4453-80bc-30d3fe5e6d2b",
   "metadata": {},
   "outputs": [
    {
     "name": "stdout",
     "output_type": "stream",
     "text": [
      "+--------------+------+--------------------+--------------------+------+\n",
      "|   Player Name|Season|           Statistic|            Variable| Value|\n",
      "+--------------+------+--------------------+--------------------+------+\n",
      "|Robert Allenby|  2010|    Driving Distance|Driving Distance ...|    76|\n",
      "|Robert Allenby|  2010|    Driving Distance|Driving Distance ...| 289.1|\n",
      "|Robert Allenby|  2010|    Driving Distance|Driving Distance ...|42,505|\n",
      "|Robert Allenby|  2010|    Driving Distance|Driving Distance ...|   147|\n",
      "|Robert Allenby|  2010|Driving Accuracy ...|Driving Accuracy ...|    76|\n",
      "+--------------+------+--------------------+--------------------+------+\n",
      "only showing top 5 rows\n",
      "\n"
     ]
    }
   ],
   "source": [
    "tour.filter(tour[\"Player name\"].like('%All%')).show(5)"
   ]
  },
  {
   "cell_type": "code",
   "execution_count": null,
   "id": "d6c9abe7-a10a-4c73-9158-ce8e84f64562",
   "metadata": {},
   "outputs": [],
   "source": []
  },
  {
   "cell_type": "code",
   "execution_count": null,
   "id": "61439121-5a88-40cc-8edf-923666fd0ce3",
   "metadata": {},
   "outputs": [],
   "source": []
  },
  {
   "cell_type": "markdown",
   "id": "5ad4c9f7-9fbd-40da-85f6-4c9e0ba325b8",
   "metadata": {},
   "source": [
    "#### name(*alias, **kwargs)"
   ]
  },
  {
   "cell_type": "code",
   "execution_count": 57,
   "id": "c407b52d-ff81-4cec-9c99-36f5325cd91b",
   "metadata": {},
   "outputs": [
    {
     "data": {
      "text/plain": [
       "Column<'multialias(Value)'>"
      ]
     },
     "execution_count": 57,
     "metadata": {},
     "output_type": "execute_result"
    }
   ],
   "source": [
    "tour[\"Value\"].name()"
   ]
  },
  {
   "cell_type": "code",
   "execution_count": 58,
   "id": "f8283c7f-453e-42b1-a645-3101aa7c64f1",
   "metadata": {},
   "outputs": [
    {
     "data": {
      "text/plain": [
       "Column<'multialias(first_name)'>"
      ]
     },
     "execution_count": 58,
     "metadata": {},
     "output_type": "execute_result"
    }
   ],
   "source": [
    "data = [(\"John\", \"Doe\", 25), (\"Jane\", \"Smith\", 22)]\n",
    "columns = [\"first_name\", \"last_name\", \"age\"]\n",
    "df = spark.createDataFrame(data, columns)\n",
    "\n",
    "df[\"first_name\"].name()\n",
    "\n",
    "# name = df[\"first_name\"].name()\n",
    "# print(name)"
   ]
  },
  {
   "cell_type": "markdown",
   "id": "3c7fa941-0e2c-4839-a2b8-ff088e6cf35f",
   "metadata": {},
   "source": [
    "#### otherwise(value)"
   ]
  },
  {
   "cell_type": "code",
   "execution_count": 59,
   "id": "097ee5fb-053d-4bcb-be19-9a6816096335",
   "metadata": {},
   "outputs": [
    {
     "name": "stdout",
     "output_type": "stream",
     "text": [
      "+------+--------------+---------------------------+------------+-----------------------+----------+-------------+-------------+\n",
      "|gender|race/ethnicity|parental level of education|       lunch|test preparation course|math score|reading score|writing score|\n",
      "+------+--------------+---------------------------+------------+-----------------------+----------+-------------+-------------+\n",
      "|female|       group B|          bachelor's degree|    standard|                   none|        72|           72|           74|\n",
      "|female|       group C|               some college|    standard|              completed|        69|           90|           88|\n",
      "|female|       group B|            master's degree|    standard|                   none|        90|           95|           93|\n",
      "|  male|       group A|         associate's degree|    standard|                   none|        47|           57|           44|\n",
      "|  male|       group C|               some college|    standard|                   none|        76|           78|           75|\n",
      "|female|       group B|         associate's degree|    standard|                   none|        71|           83|           78|\n",
      "|female|       group B|               some college|    standard|              completed|        88|           95|           92|\n",
      "|  male|       group B|               some college|    standard|                   none|        40|           43|           39|\n",
      "|  male|       group D|                high school|    standard|              completed|        64|           64|           67|\n",
      "|female|       group B|                high school|free/reduced|                   none|        38|           60|           50|\n",
      "|  male|       group C|         associate's degree|    standard|                   none|        58|           54|           52|\n",
      "|  male|       group D|         associate's degree|    standard|                   none|        40|           52|           43|\n",
      "|female|       group B|                high school|    standard|                   none|        65|           81|           73|\n",
      "|  male|       group A|               some college|    standard|              completed|        78|           72|           70|\n",
      "|female|       group A|            master's degree|    standard|                   none|        50|           53|           58|\n",
      "|female|       group C|           some high school|    standard|                   none|        69|           75|           78|\n",
      "|  male|       group C|                high school|    standard|                   none|        88|           89|           86|\n",
      "|female|       group B|           some high school|free/reduced|                   none|        18|           32|           28|\n",
      "|  male|       group C|            master's degree|    standard|              completed|        46|           42|           46|\n",
      "|female|       group C|         associate's degree|free/reduced|                   none|        54|           58|           61|\n",
      "+------+--------------+---------------------------+------------+-----------------------+----------+-------------+-------------+\n",
      "only showing top 20 rows\n",
      "\n"
     ]
    }
   ],
   "source": [
    "students.withColumn(\"lunch\", when(col(\"gender\") == \"male\", \"standard\").otherwise(col(\"lunch\"))).show()"
   ]
  },
  {
   "cell_type": "code",
   "execution_count": null,
   "id": "6b24264e-439e-4b4c-9944-314c722845b3",
   "metadata": {},
   "outputs": [],
   "source": []
  },
  {
   "cell_type": "markdown",
   "id": "ef63404f-93c8-4463-9ce7-c921c12ba469",
   "metadata": {},
   "source": [
    "#### over(window)"
   ]
  },
  {
   "cell_type": "code",
   "execution_count": 60,
   "id": "86b57579-8a91-4409-a23c-d3fca5824296",
   "metadata": {},
   "outputs": [
    {
     "name": "stderr",
     "output_type": "stream",
     "text": [
      "[Stage 111:=================>                                      (4 + 9) / 13]\r"
     ]
    },
    {
     "name": "stdout",
     "output_type": "stream",
     "text": [
      "+---------------+------+--------------------+--------------------+--------------------+-----+------------+\n",
      "|    Player Name|Season|           Statistic|            Variable|               Value| rank|         min|\n",
      "+---------------+------+--------------------+--------------------+--------------------+-----+------------+\n",
      "|    Kenny Perry|  2018|        Lowest Round|Lowest Round - (T...|     the Memorial/Mu| 2147| $10,260,000|\n",
      "|    Andrew Dorn|  2018|        Lowest Round|Lowest Round - (T...|     the Memorial/Mu|  117|  $1,602,000|\n",
      "|    Harry Ellis|  2018|        Lowest Round|Lowest Round - (T...|     the Memorial/Mu|   86|           1|\n",
      "|   Ryan Ruffels|  2016|        Lowest Round|Lowest Round - (T...|     the Memorial/Mu|  336|     $11,131|\n",
      "|   Jason Dufner|  2017|        Lowest Round|Lowest Round - (T...|     the Memorial/Mu|13163|  $1,007,996|\n",
      "|      John Hahn|  2016|        Lowest Round|Lowest Round - (T...|     the Memorial/Mu|  102|      -12.97|\n",
      "|    Vijay Singh|  2018|        Lowest Round|Lowest Round - (T...|     the Memorial/Mu|10472|  $1,045,028|\n",
      "| Soren Kjeldsen|  2016|        Lowest Round|Lowest Round - (T...|     the Memorial/Mu| 1833|$108,200,000|\n",
      "|  Scott Gregory|  2017|        Lowest Round|Lowest Round - (T...|     the Memorial/Mu|  133|         023|\n",
      "|   Jeff Overton|  2010|       Longest Putts|Longest Putts - (...|the Memorial Tour...|10404|  $1,115,466|\n",
      "|     Adam Scott|  2010|Longest Hole Outs...|Longest Hole Outs...|the Memorial Tour...|13097|  $1,382,364|\n",
      "|  Rickie Fowler|  2010|Longest Hole Outs...|Longest Hole Outs...|the Memorial Tour...|13337|  $1,816,740|\n",
      "|   Chad Collins|  2010|Longest Hole Outs...|Longest Hole Outs...|the Memorial Tour...| 7568|     $11,469|\n",
      "|    Luke Donald|  2013|       Longest Putts|Longest Putts - (...|the Memorial Tour...|11638|  $1,026,641|\n",
      "|   Jason Dufner|  2014|Longest Hole Outs...|Longest Hole Outs...|the Memorial Tour...|13162|  $1,007,996|\n",
      "| Steve Stricker|  2011|Longest Hole Outs...|Longest Hole Outs...|the Memorial Tour...| 7810|  $1,002,036|\n",
      "|    Chez Reavie|  2011|Longest Hole Outs...|Longest Hole Outs...|the Memorial Tour...|10373|  $1,086,960|\n",
      "| Steve Stricker|  2014|Longest Hole Outs...|Longest Hole Outs...|the Memorial Tour...| 7810|  $1,002,036|\n",
      "|Brett Wetterich|  2010|Longest Hole Outs...|Longest Hole Outs...|the Memorial Tour...| 1877| $14,958,000|\n",
      "| Dustin Johnson|  2011|Longest Hole Outs...|Longest Hole Outs...|the Memorial Tour...|13115|$126,300,000|\n",
      "+---------------+------+--------------------+--------------------+--------------------+-----+------------+\n",
      "only showing top 20 rows\n",
      "\n"
     ]
    },
    {
     "name": "stderr",
     "output_type": "stream",
     "text": [
      "                                                                                \r"
     ]
    }
   ],
   "source": [
    "from pyspark.sql import Window\n",
    "window = Window.partitionBy(\"Player name\").orderBy(\"Value\").rowsBetween(Window.unboundedPreceding, Window.currentRow)\n",
    "tour.withColumn(\"rank\", rank().over(window)).withColumn(\"min\", min('Value').over(window)).sort(desc(\"Value\")).show()"
   ]
  },
  {
   "cell_type": "code",
   "execution_count": null,
   "id": "f8317ba9-e7ae-425f-b243-5c7044dd3736",
   "metadata": {},
   "outputs": [],
   "source": []
  },
  {
   "cell_type": "markdown",
   "id": "0c2fb166-6059-447f-8b75-9efda4c7c83b",
   "metadata": {},
   "source": [
    "#### rlike(other)"
   ]
  },
  {
   "cell_type": "code",
   "execution_count": 61,
   "id": "ba80ca7f-9a57-4c12-b30b-495a71a98826",
   "metadata": {},
   "outputs": [
    {
     "name": "stdout",
     "output_type": "stream",
     "text": [
      "+--------------+------+--------------------+--------------------+------+\n",
      "|   Player Name|Season|           Statistic|            Variable| Value|\n",
      "+--------------+------+--------------------+--------------------+------+\n",
      "|Robert Allenby|  2010|    Driving Distance|Driving Distance ...|    76|\n",
      "|Robert Allenby|  2010|    Driving Distance|Driving Distance ...| 289.1|\n",
      "|Robert Allenby|  2010|    Driving Distance|Driving Distance ...|42,505|\n",
      "|Robert Allenby|  2010|    Driving Distance|Driving Distance ...|   147|\n",
      "|Robert Allenby|  2010|Driving Accuracy ...|Driving Accuracy ...|    76|\n",
      "+--------------+------+--------------------+--------------------+------+\n",
      "only showing top 5 rows\n",
      "\n"
     ]
    }
   ],
   "source": [
    "tour.filter(tour[\"Player name\"].rlike('.?All.?')).show(5)"
   ]
  },
  {
   "cell_type": "code",
   "execution_count": null,
   "id": "b31b31c1-f31d-4d48-a551-f38bbf140e15",
   "metadata": {},
   "outputs": [],
   "source": []
  },
  {
   "cell_type": "markdown",
   "id": "ec5ec67a-248f-4018-b30a-dfbf10e6e815",
   "metadata": {},
   "source": [
    "#### startswith(other)"
   ]
  },
  {
   "cell_type": "code",
   "execution_count": 62,
   "id": "44f3b32b-e4b2-433c-a85e-d87bf2fc6722",
   "metadata": {},
   "outputs": [
    {
     "name": "stdout",
     "output_type": "stream",
     "text": [
      "+-----------+------+----------------+--------------------+------+\n",
      "|Player Name|Season|       Statistic|            Variable| Value|\n",
      "+-----------+------+----------------+--------------------+------+\n",
      "| Alex Prugh|  2010|Driving Distance|Driving Distance ...|    88|\n",
      "| Alex Cejka|  2010|Driving Distance|Driving Distance ...|    81|\n",
      "| Alex Prugh|  2010|Driving Distance|Driving Distance ...| 295.7|\n",
      "| Alex Cejka|  2010|Driving Distance|Driving Distance ...| 277.4|\n",
      "| Alex Prugh|  2010|Driving Distance|Driving Distance ...|50,856|\n",
      "+-----------+------+----------------+--------------------+------+\n",
      "only showing top 5 rows\n",
      "\n"
     ]
    }
   ],
   "source": [
    "tour.filter(tour[\"Player name\"].startswith('Al')).show(5)"
   ]
  },
  {
   "cell_type": "code",
   "execution_count": 63,
   "id": "83332c04-22de-4444-bad8-4fa9b60a9b49",
   "metadata": {},
   "outputs": [
    {
     "data": {
      "text/plain": [
       "[]"
      ]
     },
     "execution_count": 63,
     "metadata": {},
     "output_type": "execute_result"
    }
   ],
   "source": [
    "tour.filter(tour[\"Player name\"].startswith('^Al')).collect()"
   ]
  },
  {
   "cell_type": "markdown",
   "id": "b73ac332-bd36-4d28-98c3-eedfcbd92b75",
   "metadata": {},
   "source": [
    "#### substr(startPos, length)"
   ]
  },
  {
   "cell_type": "code",
   "execution_count": 64,
   "id": "a8190ff1-f624-4bfb-b370-f08597b29057",
   "metadata": {},
   "outputs": [
    {
     "name": "stdout",
     "output_type": "stream",
     "text": [
      "+--------------+\n",
      "|First 5 letter|\n",
      "+--------------+\n",
      "|         Rober|\n",
      "|         Bubba|\n",
      "|         Dusti|\n",
      "|         Brett|\n",
      "|         J.B. |\n",
      "+--------------+\n",
      "only showing top 5 rows\n",
      "\n"
     ]
    }
   ],
   "source": [
    "tour.limit(1000).select(tour[\"Player name\"].substr(1, 5).alias(\"First 5 letter\")).show(5)"
   ]
  },
  {
   "cell_type": "code",
   "execution_count": null,
   "id": "6f173cb9-0ae7-4ca7-bb67-3c37c5bcbf43",
   "metadata": {},
   "outputs": [],
   "source": []
  },
  {
   "cell_type": "markdown",
   "id": "a67b1945-4309-4500-866b-b3e1c1b9fcd0",
   "metadata": {},
   "source": [
    "#### when(condition, value)"
   ]
  },
  {
   "cell_type": "code",
   "execution_count": 65,
   "id": "c6fbb58c-14a8-4b5a-8aa5-72a8191af3a4",
   "metadata": {},
   "outputs": [
    {
     "name": "stdout",
     "output_type": "stream",
     "text": [
      "+---------------------------+----------------------------------------------------------------------------+\n",
      "|parental level of education|CASE WHEN (math score > 90) THEN 1 WHEN (math score < 50) THEN -1 ELSE 0 END|\n",
      "+---------------------------+----------------------------------------------------------------------------+\n",
      "|          bachelor's degree|                                                                           0|\n",
      "|               some college|                                                                           0|\n",
      "|            master's degree|                                                                           0|\n",
      "|         associate's degree|                                                                          -1|\n",
      "|               some college|                                                                           0|\n",
      "|         associate's degree|                                                                           0|\n",
      "|               some college|                                                                           0|\n",
      "|               some college|                                                                          -1|\n",
      "|                high school|                                                                           0|\n",
      "|                high school|                                                                          -1|\n",
      "|         associate's degree|                                                                           0|\n",
      "|         associate's degree|                                                                          -1|\n",
      "|                high school|                                                                           0|\n",
      "|               some college|                                                                           0|\n",
      "|            master's degree|                                                                           0|\n",
      "|           some high school|                                                                           0|\n",
      "|                high school|                                                                           0|\n",
      "|           some high school|                                                                          -1|\n",
      "|            master's degree|                                                                          -1|\n",
      "|         associate's degree|                                                                           0|\n",
      "+---------------------------+----------------------------------------------------------------------------+\n",
      "only showing top 20 rows\n",
      "\n"
     ]
    }
   ],
   "source": [
    "students.select(students[\"parental level of education\"], when(students[\"math score\"] > 90, 1).when(students[\"math score\"] < 50, -1).otherwise(0)).show()"
   ]
  },
  {
   "cell_type": "markdown",
   "id": "0c98c33b-1381-48c7-b2b9-a92a91cc497b",
   "metadata": {},
   "source": [
    "## Row"
   ]
  },
  {
   "cell_type": "code",
   "execution_count": 66,
   "id": "2a04e749-925c-49f6-842b-b298ea33a774",
   "metadata": {},
   "outputs": [
    {
     "data": {
      "text/plain": [
       "Row(name='Alice', age=11)"
      ]
     },
     "execution_count": 66,
     "metadata": {},
     "output_type": "execute_result"
    }
   ],
   "source": [
    "row = Row(name=\"Alice\", age=11)\n",
    "row"
   ]
  },
  {
   "cell_type": "code",
   "execution_count": 67,
   "id": "f0168af3-541c-47fe-b8df-4b6679e0824e",
   "metadata": {},
   "outputs": [
    {
     "data": {
      "text/plain": [
       "('Alice', 11)"
      ]
     },
     "execution_count": 67,
     "metadata": {},
     "output_type": "execute_result"
    }
   ],
   "source": [
    "row['name'], row['age']"
   ]
  },
  {
   "cell_type": "code",
   "execution_count": 68,
   "id": "aa1aea96-e0a9-452f-8320-5b3accbe1c40",
   "metadata": {},
   "outputs": [
    {
     "data": {
      "text/plain": [
       "('Alice', 11)"
      ]
     },
     "execution_count": 68,
     "metadata": {},
     "output_type": "execute_result"
    }
   ],
   "source": [
    "row.name, row.age"
   ]
  },
  {
   "cell_type": "code",
   "execution_count": 69,
   "id": "e6dc7d92-105c-401b-b51b-15d95498e584",
   "metadata": {},
   "outputs": [
    {
     "data": {
      "text/plain": [
       "True"
      ]
     },
     "execution_count": 69,
     "metadata": {},
     "output_type": "execute_result"
    }
   ],
   "source": [
    "'name' in row"
   ]
  },
  {
   "cell_type": "code",
   "execution_count": 70,
   "id": "afd3a5db-c53d-48de-8a97-e91b346afdcf",
   "metadata": {},
   "outputs": [
    {
     "data": {
      "text/plain": [
       "False"
      ]
     },
     "execution_count": 70,
     "metadata": {},
     "output_type": "execute_result"
    }
   ],
   "source": [
    "'wrong_key' in row"
   ]
  },
  {
   "cell_type": "code",
   "execution_count": 71,
   "id": "7a8dd8aa-0069-4be4-aa43-7b7f4cf3f028",
   "metadata": {},
   "outputs": [
    {
     "data": {
      "text/plain": [
       "<Row('name', 'age')>"
      ]
     },
     "execution_count": 71,
     "metadata": {},
     "output_type": "execute_result"
    }
   ],
   "source": [
    "Person = Row(\"name\", \"age\")\n",
    "Person"
   ]
  },
  {
   "cell_type": "code",
   "execution_count": 72,
   "id": "4228704e-4899-4eb4-94d8-d5a8262995cb",
   "metadata": {},
   "outputs": [
    {
     "data": {
      "text/plain": [
       "Row(name='Alice', age=11)"
      ]
     },
     "execution_count": 72,
     "metadata": {},
     "output_type": "execute_result"
    }
   ],
   "source": [
    "Person(\"Alice\", 11)"
   ]
  },
  {
   "cell_type": "markdown",
   "id": "9c7fcef4-364e-4b53-9248-9bef1aff5d12",
   "metadata": {},
   "source": [
    "##### треба переглянути"
   ]
  },
  {
   "cell_type": "code",
   "execution_count": 73,
   "id": "f7586c17-f4d2-42ff-9ad8-ce69190f0e88",
   "metadata": {},
   "outputs": [
    {
     "data": {
      "text/plain": [
       "True"
      ]
     },
     "execution_count": 73,
     "metadata": {},
     "output_type": "execute_result"
    }
   ],
   "source": [
    "row1 = Row(\"Alice\", 11)\n",
    "row2 = Row(name=\"Alice\", age=11)\n",
    "row1 == row2\n",
    "# В документації тут False"
   ]
  },
  {
   "cell_type": "code",
   "execution_count": 74,
   "id": "0c074309-5652-445e-a739-47e0e83e752b",
   "metadata": {},
   "outputs": [
    {
     "data": {
      "text/plain": [
       "True"
      ]
     },
     "execution_count": 74,
     "metadata": {},
     "output_type": "execute_result"
    }
   ],
   "source": [
    "row3 = Row(a=\"Alice\", b=11)\n",
    "row1 == row3"
   ]
  },
  {
   "cell_type": "markdown",
   "id": "a7b2306c-6a8b-4886-852c-d408f2fcbf3e",
   "metadata": {},
   "source": [
    "#### asDict(recursive=False)"
   ]
  },
  {
   "cell_type": "code",
   "execution_count": 75,
   "id": "4bb50311-840a-4f5e-ac77-61722dd0f695",
   "metadata": {},
   "outputs": [
    {
     "data": {
      "text/plain": [
       "{'Player Name': 'Robert Garrigus',\n",
       " 'Season': 2010,\n",
       " 'Statistic': 'Driving Distance',\n",
       " 'Variable': 'Driving Distance - (ROUNDS)',\n",
       " 'Value': '71'}"
      ]
     },
     "execution_count": 75,
     "metadata": {},
     "output_type": "execute_result"
    }
   ],
   "source": [
    "tour.first().asDict()"
   ]
  },
  {
   "cell_type": "markdown",
   "id": "7836360b-fdff-4f06-a7cb-882fca864afe",
   "metadata": {},
   "source": [
    "#### count(value)"
   ]
  },
  {
   "cell_type": "code",
   "execution_count": 76,
   "id": "b5ee4a3e-a230-42e2-a7df-36be3743f294",
   "metadata": {},
   "outputs": [
    {
     "data": {
      "text/plain": [
       "1"
      ]
     },
     "execution_count": 76,
     "metadata": {},
     "output_type": "execute_result"
    }
   ],
   "source": [
    "tour.first().count(2010)"
   ]
  },
  {
   "cell_type": "code",
   "execution_count": null,
   "id": "530d3734-8bfa-4319-afa7-ad4c972bba20",
   "metadata": {},
   "outputs": [],
   "source": []
  },
  {
   "cell_type": "markdown",
   "id": "232fced5-6214-4692-af5d-df47eb563784",
   "metadata": {},
   "source": [
    "#### index(value[, start[, stop]])\n",
    "##### треба переглянути"
   ]
  },
  {
   "cell_type": "code",
   "execution_count": 77,
   "id": "4dcde440-a252-47c3-a6c4-41231038ce91",
   "metadata": {},
   "outputs": [],
   "source": [
    "row = Row(name=\"John\", age=30, city=\"New York\")\n",
    "\n",
    "#name_index = row.index(\"name\")\n",
    "#age_index = row.index(\"age\")\n",
    "#city_index = row.index(\"city\")\n",
    "\n",
    "#print(name_index)\n",
    "#print(age_index)\n",
    "#print(city_index)"
   ]
  },
  {
   "cell_type": "markdown",
   "id": "95186211-c1eb-41ef-8dba-9a42a0cb692d",
   "metadata": {},
   "source": [
    "#### drop(how=\"any\", thresh=None, subset=None)\n",
    "##### треба переглянути"
   ]
  },
  {
   "cell_type": "code",
   "execution_count": 78,
   "id": "93382fcc-e42d-4b69-b3b4-f593a51d6112",
   "metadata": {},
   "outputs": [
    {
     "data": {
      "text/plain": [
       "2740403"
      ]
     },
     "execution_count": 78,
     "metadata": {},
     "output_type": "execute_result"
    }
   ],
   "source": [
    "tour.count()"
   ]
  },
  {
   "cell_type": "code",
   "execution_count": 79,
   "id": "c863833f-4839-4a58-9eec-7dd964d755a7",
   "metadata": {},
   "outputs": [
    {
     "name": "stderr",
     "output_type": "stream",
     "text": [
      "                                                                                \r"
     ]
    },
    {
     "data": {
      "text/plain": [
       "2696905"
      ]
     },
     "execution_count": 79,
     "metadata": {},
     "output_type": "execute_result"
    }
   ],
   "source": [
    "tour.dropna().count()"
   ]
  },
  {
   "cell_type": "code",
   "execution_count": 80,
   "id": "4644ea7e-dd03-4861-97b5-796f255d4c15",
   "metadata": {},
   "outputs": [],
   "source": [
    "row = Row(name=\"Alice\", age=25, city=\"New York\")\n",
    "# row.drop(\"age\")"
   ]
  },
  {
   "cell_type": "code",
   "execution_count": null,
   "id": "f761f74f-a58b-4f3c-b6d1-2994fe7205ee",
   "metadata": {},
   "outputs": [],
   "source": []
  },
  {
   "cell_type": "markdown",
   "id": "9ebb874b-b08d-4751-ad6a-ea5deaa320fa",
   "metadata": {},
   "source": [
    "#### fill(value, subset=None)\n",
    "\n",
    "##### Replace null values, alias for na.fill(). DataFrame.fillna() and DataFrameNaFunctions.fill() are aliases of each other."
   ]
  },
  {
   "cell_type": "code",
   "execution_count": 81,
   "id": "1a1371e8-d118-43c9-a75c-f78845f6fe2a",
   "metadata": {},
   "outputs": [],
   "source": [
    "#data = [(\"John\", None), (\"Jane\", 25), (\"Mike\", None)]\n",
    "#columns = [\"name\", \"age\"]\n",
    "#df = spark.createDataFrame(data, columns)\n",
    "\n",
    "#df_filled = df.first().fill(0, subset=[\"age\"])\n",
    "#df_filled.show()"
   ]
  },
  {
   "cell_type": "code",
   "execution_count": 82,
   "id": "eab3fe00-22a2-49c8-b9dc-f85a3549386f",
   "metadata": {},
   "outputs": [
    {
     "name": "stdout",
     "output_type": "stream",
     "text": [
      "+----------------+------+--------------------+--------------------+-----+\n",
      "|     Player Name|Season|           Statistic|            Variable|Value|\n",
      "+----------------+------+--------------------+--------------------+-----+\n",
      "|     John Senden|  2010|Greens in Regulat...|Greens in Regulat...|-0.23|\n",
      "|Kevin Sutherland|  2010|Greens in Regulat...|Greens in Regulat...|-0.24|\n",
      "|      Joe Durant|  2010|Greens in Regulat...|Greens in Regulat...|-0.25|\n",
      "|  Charles Warren|  2010|Greens in Regulat...|Greens in Regulat...|-0.25|\n",
      "|   Troy Matteson|  2010|Greens in Regulat...|Greens in Regulat...|-0.22|\n",
      "|   Graham DeLaet|  2010|Greens in Regulat...|Greens in Regulat...|-0.25|\n",
      "|     D.J. Trahan|  2010|Greens in Regulat...|Greens in Regulat...|-0.26|\n",
      "|     Kris Blanks|  2010|Greens in Regulat...|Greens in Regulat...|-0.20|\n",
      "| Paul Stankowski|  2010|Greens in Regulat...|Greens in Regulat...|-0.28|\n",
      "|      Aron Price|  2010|Greens in Regulat...|Greens in Regulat...|-0.25|\n",
      "|   Cameron Percy|  2010|Greens in Regulat...|Greens in Regulat...|-0.23|\n",
      "|     Mark Wilson|  2010|Greens in Regulat...|Greens in Regulat...|-0.22|\n",
      "|  Davis Love III|  2010|Greens in Regulat...|Greens in Regulat...|-0.24|\n",
      "|    John Merrick|  2010|Greens in Regulat...|Greens in Regulat...|-0.24|\n",
      "|Cameron Tringale|  2010|Greens in Regulat...|Greens in Regulat...|-0.21|\n",
      "|   Brett Quigley|  2010|Greens in Regulat...|Greens in Regulat...|-0.24|\n",
      "|Brendon de Jonge|  2010|Greens in Regulat...|Greens in Regulat...|-0.28|\n",
      "|    Garth Mulroy|  2010|Greens in Regulat...|Greens in Regulat...|-0.22|\n",
      "|     Boo Weekley|  2010|Greens in Regulat...|Greens in Regulat...|-0.22|\n",
      "|   Jonathan Byrd|  2010|Greens in Regulat...|Greens in Regulat...|-0.25|\n",
      "+----------------+------+--------------------+--------------------+-----+\n",
      "only showing top 20 rows\n",
      "\n"
     ]
    }
   ],
   "source": [
    "#df = tour.filter(col(\"Value\").isNull())\n",
    "df = tour.filter(tour.Value < 2)\n",
    "\n",
    "#Replace 0 for null for all integer columns\n",
    "df.na.fill(value=0).show()\n",
    "\n",
    "#Replace 0 for null on only population column \n",
    "#df.na.fill(value=0,subset=[\"population\"]).show()"
   ]
  },
  {
   "cell_type": "code",
   "execution_count": 83,
   "id": "053a0fbc-2131-4c47-8873-46615a3862a0",
   "metadata": {},
   "outputs": [
    {
     "name": "stdout",
     "output_type": "stream",
     "text": [
      "+----------------+------+-------------------------------+------------------------------------------------+-----+\n",
      "|Player Name     |Season|Statistic                      |Variable                                        |Value|\n",
      "+----------------+------+-------------------------------+------------------------------------------------+-----+\n",
      "|John Senden     |2010  |Greens in Regulation Percentage|Greens in Regulation Percentage - (RELATIVE/PAR)|-0.23|\n",
      "|Kevin Sutherland|2010  |Greens in Regulation Percentage|Greens in Regulation Percentage - (RELATIVE/PAR)|-0.24|\n",
      "|Joe Durant      |2010  |Greens in Regulation Percentage|Greens in Regulation Percentage - (RELATIVE/PAR)|-0.25|\n",
      "|Charles Warren  |2010  |Greens in Regulation Percentage|Greens in Regulation Percentage - (RELATIVE/PAR)|-0.25|\n",
      "|Troy Matteson   |2010  |Greens in Regulation Percentage|Greens in Regulation Percentage - (RELATIVE/PAR)|-0.22|\n",
      "+----------------+------+-------------------------------+------------------------------------------------+-----+\n",
      "only showing top 5 rows\n",
      "\n"
     ]
    }
   ],
   "source": [
    "df.na.fill(\"\").show(5, False)"
   ]
  },
  {
   "cell_type": "code",
   "execution_count": null,
   "id": "c13e5431-9ee7-4abd-a3c1-529a4fb9cc3a",
   "metadata": {},
   "outputs": [],
   "source": []
  },
  {
   "cell_type": "markdown",
   "id": "579eb231-065d-4ef1-9856-b6e08d888fbe",
   "metadata": {},
   "source": [
    "#### replace(to_replace, value=<no value>, subset=None)\n",
    "##### треба переглянути, метод є для дф, а з роу,\n",
    "Returns a new DataFrame replacing a value with another value. DataFrame.replace() and DataFrameNaFunctions.replace() are aliases of each other. Values to_replace and value must have the same type and can only be numerics, booleans, or strings. Value can have None. When replacing, the new value will be cast to the type of the existing column. For numeric replacements all values to be replaced should have unique floating point representation. In case of conflicts (for example with {42: -1, 42.0: 1}) and arbitrary replacement will be used.\n",
    "\n",
    "Parameters\n",
    "to_replace – bool, int, long, float, string, list or dict. Value to be replaced. If the value is a dict, then value is ignored or can be omitted, and to_replace must be a mapping between a value and a replacement.\n",
    "\n",
    "value – bool, int, long, float, string, list or None. The replacement value must be a bool, int, long, float, string or None. If value is a list, value should be of the same length and type as to_replace. If value is a scalar and to_replace is a sequence, then value is used as a replacement for each item in to_replace.\n",
    "\n",
    "subset – optional list of column names to consider. Columns specified in subset that do not have matching data type are ignored. For example, if value is a string, and subset contains a non-string column, then the non-string column is simply ignored."
   ]
  },
  {
   "cell_type": "code",
   "execution_count": null,
   "id": "cd1eab73-2ad0-47de-a6a4-a27b396d96d4",
   "metadata": {},
   "outputs": [],
   "source": []
  },
  {
   "cell_type": "code",
   "execution_count": null,
   "id": "e962186c-1cbe-41c4-a03a-f56aef336a06",
   "metadata": {},
   "outputs": [],
   "source": []
  },
  {
   "cell_type": "code",
   "execution_count": null,
   "id": "8e50a153-c8d0-4d0a-b6d7-9e32701ea34c",
   "metadata": {},
   "outputs": [],
   "source": []
  },
  {
   "cell_type": "code",
   "execution_count": null,
   "id": "c1863d48-20af-4a26-a56d-40b6b0c05702",
   "metadata": {},
   "outputs": [],
   "source": []
  },
  {
   "cell_type": "code",
   "execution_count": null,
   "id": "36344da0-1889-4403-af47-73df05857f96",
   "metadata": {},
   "outputs": [],
   "source": []
  },
  {
   "cell_type": "code",
   "execution_count": null,
   "id": "9f22af74-9cbf-4c3c-a5da-43deb8c0036d",
   "metadata": {},
   "outputs": [],
   "source": []
  },
  {
   "cell_type": "code",
   "execution_count": null,
   "id": "2bd299bf-afe3-4de9-9564-9eaa26b88b08",
   "metadata": {},
   "outputs": [],
   "source": []
  },
  {
   "cell_type": "code",
   "execution_count": null,
   "id": "d4f704e8-a62f-4860-88d7-64f582788cd8",
   "metadata": {},
   "outputs": [],
   "source": []
  },
  {
   "cell_type": "code",
   "execution_count": null,
   "id": "710308d4-73e6-42d3-b94d-8eb443b6e40b",
   "metadata": {},
   "outputs": [],
   "source": []
  },
  {
   "cell_type": "code",
   "execution_count": null,
   "id": "6e15e27a-549f-48d2-9713-ff28d53e313d",
   "metadata": {},
   "outputs": [],
   "source": []
  },
  {
   "cell_type": "code",
   "execution_count": null,
   "id": "ad38be7a-f0ed-416c-9cca-9d42121675c2",
   "metadata": {},
   "outputs": [],
   "source": []
  }
 ],
 "metadata": {
  "kernelspec": {
   "display_name": "Python 3 (ipykernel)",
   "language": "python",
   "name": "python3"
  },
  "language_info": {
   "codemirror_mode": {
    "name": "ipython",
    "version": 3
   },
   "file_extension": ".py",
   "mimetype": "text/x-python",
   "name": "python",
   "nbconvert_exporter": "python",
   "pygments_lexer": "ipython3",
   "version": "3.11.5"
  }
 },
 "nbformat": 4,
 "nbformat_minor": 5
}
