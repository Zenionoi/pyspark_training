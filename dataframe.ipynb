{
 "cells": [
  {
   "cell_type": "code",
   "execution_count": 1,
   "id": "fd231694-8782-47cf-8892-d611fc39aa6f",
   "metadata": {},
   "outputs": [
    {
     "name": "stderr",
     "output_type": "stream",
     "text": [
      "Setting default log level to \"WARN\".\n",
      "To adjust logging level use sc.setLogLevel(newLevel). For SparkR, use setLogLevel(newLevel).\n",
      "23/10/04 10:34:15 WARN NativeCodeLoader: Unable to load native-hadoop library for your platform... using builtin-java classes where applicable\n"
     ]
    },
    {
     "data": {
      "text/html": [
       "\n",
       "            <div>\n",
       "                <p><b>SparkSession - in-memory</b></p>\n",
       "                \n",
       "        <div>\n",
       "            <p><b>SparkContext</b></p>\n",
       "\n",
       "            <p><a href=\"http://192.168.0.179:4040\">Spark UI</a></p>\n",
       "\n",
       "            <dl>\n",
       "              <dt>Version</dt>\n",
       "                <dd><code>v3.5.0</code></dd>\n",
       "              <dt>Master</dt>\n",
       "                <dd><code>local[*]</code></dd>\n",
       "              <dt>AppName</dt>\n",
       "                <dd><code>dataframe</code></dd>\n",
       "            </dl>\n",
       "        </div>\n",
       "        \n",
       "            </div>\n",
       "        "
      ],
      "text/plain": [
       "<pyspark.sql.session.SparkSession at 0x10a1e3e10>"
      ]
     },
     "execution_count": 1,
     "metadata": {},
     "output_type": "execute_result"
    }
   ],
   "source": [
    "import pyspark\n",
    "from pyspark.sql.functions import *\n",
    "\n",
    "spark = pyspark.sql.SparkSession.builder.appName(\"dataframe\").getOrCreate()\n",
    "\n",
    "spark"
   ]
  },
  {
   "cell_type": "code",
   "execution_count": 2,
   "id": "b8aec98b-3968-4e79-8065-13e1ab366461",
   "metadata": {},
   "outputs": [
    {
     "name": "stdout",
     "output_type": "stream",
     "text": [
      "+------+--------------+---------------------------+------------+-----------------------+----------+-------------+-------------+\n",
      "|gender|race/ethnicity|parental level of education|       lunch|test preparation course|math score|reading score|writing score|\n",
      "+------+--------------+---------------------------+------------+-----------------------+----------+-------------+-------------+\n",
      "|female|       group B|          bachelor's degree|    standard|                   none|        72|           72|           74|\n",
      "|female|       group C|               some college|    standard|              completed|        69|           90|           88|\n",
      "|female|       group B|            master's degree|    standard|                   none|        90|           95|           93|\n",
      "|  male|       group A|         associate's degree|free/reduced|                   none|        47|           57|           44|\n",
      "|  male|       group C|               some college|    standard|                   none|        76|           78|           75|\n",
      "+------+--------------+---------------------------+------------+-----------------------+----------+-------------+-------------+\n",
      "only showing top 5 rows\n",
      "\n"
     ]
    }
   ],
   "source": [
    "path = \"datasets/\"\n",
    "students = spark.read.csv(path+\"students.csv\", inferSchema=True, header=True)\n",
    "\n",
    "# students.limit(5).toPandas() #need to import pandas\n",
    "students.show(5)"
   ]
  },
  {
   "cell_type": "markdown",
   "id": "82344564-99b5-48da-a640-6bddd3ded225",
   "metadata": {},
   "source": [
    "#### Get columns"
   ]
  },
  {
   "cell_type": "code",
   "execution_count": 3,
   "id": "bfe81b6a-4042-4c03-88ba-e4fc71749c3f",
   "metadata": {},
   "outputs": [
    {
     "data": {
      "text/plain": [
       "Column<'lunch'>"
      ]
     },
     "execution_count": 3,
     "metadata": {},
     "output_type": "execute_result"
    }
   ],
   "source": [
    "students.lunch\n",
    "#students[\"lunch\"]\n",
    "#from pyspark.sql.functions import col\n",
    "#col(\"lunch\")\n",
    "#students.select(\"lunch\") # return - DataFrame"
   ]
  },
  {
   "cell_type": "markdown",
   "id": "95574a79-e765-48c6-acca-370571772f6e",
   "metadata": {},
   "source": [
    "#### agg()"
   ]
  },
  {
   "cell_type": "code",
   "execution_count": 4,
   "id": "1bb090e4-21be-4029-83fc-486e3c14f967",
   "metadata": {},
   "outputs": [
    {
     "data": {
      "text/plain": [
       "[Row(max(math score)=100)]"
      ]
     },
     "execution_count": 4,
     "metadata": {},
     "output_type": "execute_result"
    }
   ],
   "source": [
    "students.agg({\"math score\": \"max\"}).collect()"
   ]
  },
  {
   "cell_type": "code",
   "execution_count": 5,
   "id": "ee7c96ae-55d4-4be0-97d3-2f0216e1c6f0",
   "metadata": {},
   "outputs": [
    {
     "data": {
      "text/plain": [
       "[Row(min(math score)=0)]"
      ]
     },
     "execution_count": 5,
     "metadata": {},
     "output_type": "execute_result"
    }
   ],
   "source": [
    "students.agg(min(students[\"`math score`\"])).collect()"
   ]
  },
  {
   "cell_type": "markdown",
   "id": "00fac600-78ee-432c-8cec-c6be4a9e92d9",
   "metadata": {},
   "source": [
    "#### alias()"
   ]
  },
  {
   "cell_type": "code",
   "execution_count": 6,
   "id": "077721c5-f18a-41e6-9217-01d3d4479e25",
   "metadata": {},
   "outputs": [
    {
     "name": "stdout",
     "output_type": "stream",
     "text": [
      "+------+-----------------+\n",
      "|gender|          average|\n",
      "+------+-----------------+\n",
      "|female|79.16981132075472|\n",
      "|  male| 87.6842105263158|\n",
      "+------+-----------------+\n",
      "\n"
     ]
    }
   ],
   "source": [
    "students.filter(students[\"reading score\"] > 80).groupBy(\"gender\").agg(avg(col(\"math score\")).alias(\"average\")).show()"
   ]
  },
  {
   "cell_type": "code",
   "execution_count": 7,
   "id": "86c86641-abfe-463f-aaa5-05c9b031e902",
   "metadata": {},
   "outputs": [
    {
     "name": "stderr",
     "output_type": "stream",
     "text": [
      "[Stage 13:>                                                       (0 + 12) / 12]\r"
     ]
    },
    {
     "name": "stdout",
     "output_type": "stream",
     "text": [
      "+---------------+------+----------------+--------------------+-----+\n",
      "|    Player Name|Season|       Statistic|            Variable|Value|\n",
      "+---------------+------+----------------+--------------------+-----+\n",
      "|Robert Garrigus|  2010|Driving Distance|Driving Distance ...|   71|\n",
      "|   Bubba Watson|  2010|Driving Distance|Driving Distance ...|   77|\n",
      "| Dustin Johnson|  2010|Driving Distance|Driving Distance ...|   83|\n",
      "|Brett Wetterich|  2010|Driving Distance|Driving Distance ...|   54|\n",
      "|    J.B. Holmes|  2010|Driving Distance|Driving Distance ...|  100|\n",
      "+---------------+------+----------------+--------------------+-----+\n",
      "only showing top 5 rows\n",
      "\n"
     ]
    },
    {
     "name": "stderr",
     "output_type": "stream",
     "text": [
      "                                                                                \r"
     ]
    }
   ],
   "source": [
    "tour = spark.read.csv(path+\"pga_tour_historical.csv\", inferSchema=True, header=True)\n",
    "tour.show(5)"
   ]
  },
  {
   "cell_type": "code",
   "execution_count": 8,
   "id": "b700317b-ab63-4409-a34b-aedc28e92167",
   "metadata": {},
   "outputs": [
    {
     "data": {
      "text/plain": [
       "[Row(Player Name='Robert Garrigus', Player Name='Robert Garrigus', Value='71'),\n",
       " Row(Player Name='John Daly', Player Name='John Daly', Value='63'),\n",
       " Row(Player Name='J.B. Holmes', Player Name='J.B. Holmes', Value='100'),\n",
       " Row(Player Name='Graham DeLaet', Player Name='Graham DeLaet', Value='88'),\n",
       " Row(Player Name='Dustin Johnson', Player Name='Dustin Johnson', Value='83'),\n",
       " Row(Player Name='D.J. Trahan', Player Name='D.J. Trahan', Value='92'),\n",
       " Row(Player Name='Charles Warren', Player Name='Charles Warren', Value='64'),\n",
       " Row(Player Name='Bubba Watson', Player Name='Bubba Watson', Value='77'),\n",
       " Row(Player Name='Brett Wetterich', Player Name='Brett Wetterich', Value='54'),\n",
       " Row(Player Name='Angel Cabrera', Player Name='Angel Cabrera', Value='64')]"
      ]
     },
     "execution_count": 8,
     "metadata": {},
     "output_type": "execute_result"
    }
   ],
   "source": [
    "df = tour.limit(10)\n",
    "df_as1 = df.alias(\"df_as1\")\n",
    "df_as2 = df.alias(\"df_as2\")\n",
    "joined_df = df_as1.join(df_as2, col(\"df_as1.Player Name\") == col(\"df_as2.Player Name\"), 'inner')\n",
    "joined_df.select(\"df_as1.Player Name\", \"df_as2.Player Name\", \"df_as2.Value\").sort(desc(\"df_as1.Player Name\")).collect()"
   ]
  },
  {
   "cell_type": "markdown",
   "id": "dfb26f21-0f76-4a46-be02-6b3b99f3b39a",
   "metadata": {},
   "source": [
    "#### approxQuantile()"
   ]
  },
  {
   "cell_type": "code",
   "execution_count": 9,
   "id": "ed0ba621-20ef-434e-a783-7fc09523069c",
   "metadata": {},
   "outputs": [
    {
     "name": "stdout",
     "output_type": "stream",
     "text": [
      "Approximate Quantiles:\n",
      "25th Percentile (Q1): [0.0, 0.0, 0.0]\n",
      "50th Percentile (Median, Q2): [17.0, 17.0, 17.0]\n",
      "75th Percentile (Q3): [10.0, 10.0, 10.0]\n"
     ]
    }
   ],
   "source": [
    "quantiles = students.approxQuantile(col=[\"math score\", \"reading score\", \"writing score\"], probabilities=[0.25, 0.5, 0.75], relativeError=1)\n",
    "# students.columns - list of columns' name\n",
    "print(\"Approximate Quantiles:\")\n",
    "print(\"25th Percentile (Q1):\", quantiles[0])\n",
    "print(\"50th Percentile (Median, Q2):\", quantiles[1])\n",
    "print(\"75th Percentile (Q3):\", quantiles[2])"
   ]
  },
  {
   "cell_type": "markdown",
   "id": "61c1ade7-7acb-4c84-9bf8-a5f36b6f58c0",
   "metadata": {},
   "source": [
    "#### cashe()\n",
    "##### треба глянути"
   ]
  },
  {
   "cell_type": "code",
   "execution_count": 10,
   "id": "bbf5228a-8cee-40e1-bd74-07a69a589070",
   "metadata": {},
   "outputs": [
    {
     "name": "stdout",
     "output_type": "stream",
     "text": [
      "+------+---------------+\n",
      "|gender|avg(math score)|\n",
      "+------+---------------+\n",
      "|female|           76.0|\n",
      "|  male|           87.0|\n",
      "+------+---------------+\n",
      "\n",
      "+------+---------------+\n",
      "|gender|avg(math score)|\n",
      "+------+---------------+\n",
      "|female|          57.05|\n",
      "|  male|           59.0|\n",
      "+------+---------------+\n",
      "\n",
      "execution_time - 0.42634105682373047\n"
     ]
    }
   ],
   "source": [
    "import time\n",
    "df = students.limit(50)\n",
    "\n",
    "df.cache()\n",
    "\n",
    "start_time = time.time()\n",
    "\n",
    "result1 = df.filter(df[\"reading score\"] > 80).groupBy(\"gender\").agg({\"math score\": \"avg\"})\n",
    "result2 = df.filter(df[\"reading score\"] < 80).groupBy(\"gender\").agg({\"math score\": \"avg\"})\n",
    "\n",
    "result1.show()\n",
    "result2.show()\n",
    "\n",
    "print(f\"execution_time - {time.time() - start_time}\")"
   ]
  },
  {
   "cell_type": "code",
   "execution_count": 11,
   "id": "d6bfa40b-25fc-478a-a1fd-139ca15e05d3",
   "metadata": {},
   "outputs": [
    {
     "name": "stdout",
     "output_type": "stream",
     "text": [
      "+------+---------------+\n",
      "|gender|avg(math score)|\n",
      "+------+---------------+\n",
      "|female|           76.0|\n",
      "|  male|           87.0|\n",
      "+------+---------------+\n",
      "\n",
      "+------+---------------+\n",
      "|gender|avg(math score)|\n",
      "+------+---------------+\n",
      "|female|          57.05|\n",
      "|  male|           59.0|\n",
      "+------+---------------+\n",
      "\n",
      "execution_time - 0.19073891639709473\n"
     ]
    }
   ],
   "source": [
    "start_time = time.time()\n",
    "\n",
    "result3 = df.filter(df[\"reading score\"] > 80).groupBy(\"gender\").agg({\"math score\": \"avg\"})\n",
    "result4 = df.filter(df[\"reading score\"] < 80).groupBy(\"gender\").agg({\"math score\": \"avg\"})\n",
    "\n",
    "result3.show()\n",
    "result4.show()\n",
    "\n",
    "print(f\"execution_time - {time.time() - start_time}\")"
   ]
  },
  {
   "cell_type": "code",
   "execution_count": null,
   "id": "c9b028cf-6608-400a-8662-b5f203f92799",
   "metadata": {},
   "outputs": [],
   "source": []
  },
  {
   "cell_type": "code",
   "execution_count": 12,
   "id": "e8589170-4347-439b-bf6b-28848e9f54ed",
   "metadata": {},
   "outputs": [
    {
     "name": "stderr",
     "output_type": "stream",
     "text": [
      "23/10/04 10:34:25 WARN CacheManager: Asked to cache already cached data.\n"
     ]
    },
    {
     "name": "stdout",
     "output_type": "stream",
     "text": [
      "+------+-----+\n",
      "|gender|count|\n",
      "+------+-----+\n",
      "|female|   27|\n",
      "|  male|   23|\n",
      "+------+-----+\n",
      "\n",
      "+---------------------------+------------------+------------------+------------------+\n",
      "|parental level of education|avg(reading score)|avg(writing score)|   avg(math score)|\n",
      "+---------------------------+------------------+------------------+------------------+\n",
      "|          bachelor's degree| 70.66666666666667| 76.33333333333333|              71.0|\n",
      "|               some college| 68.76923076923077| 66.38461538461539| 65.92307692307692|\n",
      "|            master's degree| 67.66666666666667| 68.16666666666667|62.833333333333336|\n",
      "|         associate's degree|           65.8125|           63.8125|            59.375|\n",
      "|                high school|              73.5|             70.25|            67.375|\n",
      "|           some high school|              61.0|              59.5|              51.5|\n",
      "+---------------------------+------------------+------------------+------------------+\n",
      "\n",
      "execution_time - 0.2996370792388916\n",
      "+------+-----+\n",
      "|gender|count|\n",
      "+------+-----+\n",
      "|female|   27|\n",
      "|  male|   23|\n",
      "+------+-----+\n",
      "\n",
      "+---------------------------+------------------+------------------+------------------+\n",
      "|parental level of education|avg(reading score)|avg(writing score)|   avg(math score)|\n",
      "+---------------------------+------------------+------------------+------------------+\n",
      "|          bachelor's degree| 70.66666666666667| 76.33333333333333|              71.0|\n",
      "|               some college| 68.76923076923077| 66.38461538461539| 65.92307692307692|\n",
      "|            master's degree| 67.66666666666667| 68.16666666666667|62.833333333333336|\n",
      "|         associate's degree|           65.8125|           63.8125|            59.375|\n",
      "|                high school|              73.5|             70.25|            67.375|\n",
      "|           some high school|              61.0|              59.5|              51.5|\n",
      "+---------------------------+------------------+------------------+------------------+\n",
      "\n",
      "execution_time - 0.33988404273986816\n"
     ]
    }
   ],
   "source": [
    "df.cache()\n",
    "start_time = time.time()\n",
    "result1 = df.groupBy(\"gender\").count()\n",
    "result2 = df.groupBy(\"parental level of education\").agg({\"math score\": \"avg\", \"writing score\": \"avg\", \"reading score\": \"avg\"})\n",
    "\n",
    "result1.show()\n",
    "result2.show()\n",
    "\n",
    "print(f\"execution_time - {time.time() - start_time}\")\n",
    "df.unpersist()\n",
    "start_time = time.time()\n",
    "\n",
    "result3 = df.groupBy(\"gender\").count()\n",
    "result4 = df.groupBy(\"parental level of education\").agg({\"math score\": \"avg\", \"writing score\": \"avg\", \"reading score\": \"avg\"})\n",
    "\n",
    "result3.show()\n",
    "result4.show()\n",
    "\n",
    "print(f\"execution_time - {time.time() - start_time}\")"
   ]
  },
  {
   "cell_type": "code",
   "execution_count": null,
   "id": "4c1cc879-48c9-4938-9104-021802a37a3f",
   "metadata": {},
   "outputs": [],
   "source": []
  },
  {
   "cell_type": "markdown",
   "id": "1e00dac8-86a3-43d7-851a-83eee8733863",
   "metadata": {},
   "source": [
    "#### checkpoint()\n",
    "##### треба глянути\n",
    "\n",
    "#### Returns a checkpointed version of this Dataset. Checkpointing can be used to truncate the logical plan of this DataFrame, which is especially useful in iterative algorithms where the plan may grow exponentially. It will be saved to files inside the checkpoint directory set with SparkContext.setCheckpointDir().\n",
    "\n",
    "Parameters\n",
    "eager – Whether to checkpoint this DataFrame immediately\n",
    "\n",
    "#### Note: Experimental"
   ]
  },
  {
   "cell_type": "code",
   "execution_count": null,
   "id": "110bfa1c-387f-44de-8c2e-506f9debb8b1",
   "metadata": {},
   "outputs": [],
   "source": []
  },
  {
   "cell_type": "code",
   "execution_count": null,
   "id": "eef8cf80-673b-4d76-9775-e65024926642",
   "metadata": {},
   "outputs": [],
   "source": []
  },
  {
   "cell_type": "markdown",
   "id": "c9dbe4d9-d822-477e-b054-aae0494510e1",
   "metadata": {},
   "source": [
    "#### coalesce()"
   ]
  },
  {
   "cell_type": "code",
   "execution_count": 13,
   "id": "25bc4bc6-a97a-45b5-b527-43501d43dca9",
   "metadata": {},
   "outputs": [
    {
     "name": "stdout",
     "output_type": "stream",
     "text": [
      "1\n",
      "1\n",
      "2\n",
      "1\n",
      "1\n"
     ]
    }
   ],
   "source": [
    "print(f\"{students.rdd.getNumPartitions()}\\n\"\n",
    "      f\"{df.rdd.getNumPartitions()}\\n\"\n",
    "      f\"{students.repartition(2).rdd.getNumPartitions()}\\n\"\n",
    "      f\"{students.rdd.getNumPartitions()}\\n\"\n",
    "      f\"{df.coalesce(1).rdd.getNumPartitions()}\")"
   ]
  },
  {
   "cell_type": "markdown",
   "id": "2e0aa4e4-d69f-4e73-99cd-9105731be96f",
   "metadata": {},
   "source": [
    "#### colRegex()"
   ]
  },
  {
   "cell_type": "code",
   "execution_count": 14,
   "id": "be8ec25e-ff26-4041-acf5-f6311fcafd34",
   "metadata": {},
   "outputs": [
    {
     "name": "stdout",
     "output_type": "stream",
     "text": [
      "+----------+-------------+-------------+\n",
      "|math score|reading score|writing score|\n",
      "+----------+-------------+-------------+\n",
      "|        72|           72|           74|\n",
      "|        69|           90|           88|\n",
      "|        90|           95|           93|\n",
      "|        47|           57|           44|\n",
      "|        76|           78|           75|\n",
      "+----------+-------------+-------------+\n",
      "only showing top 5 rows\n",
      "\n"
     ]
    }
   ],
   "source": [
    "df.select(df.colRegex(\"`.+score.?`\")).show(5)"
   ]
  },
  {
   "cell_type": "markdown",
   "id": "f659c629-f49c-48e8-8e3c-b82ff874e8b2",
   "metadata": {},
   "source": [
    "#### collect()"
   ]
  },
  {
   "cell_type": "code",
   "execution_count": 15,
   "id": "e5052dbc-df6e-4d4a-bbe1-4349bc54d907",
   "metadata": {},
   "outputs": [
    {
     "data": {
      "text/plain": [
       "[Row(math score=97, reading score=87, writing score=82),\n",
       " Row(math score=90, reading score=95, writing score=93),\n",
       " Row(math score=88, reading score=95, writing score=92),\n",
       " Row(math score=88, reading score=89, writing score=86),\n",
       " Row(math score=82, reading score=84, writing score=82)]"
      ]
     },
     "execution_count": 15,
     "metadata": {},
     "output_type": "execute_result"
    }
   ],
   "source": [
    "df.select(\"math score\", \"reading score\", \"writing score\").sort(desc(\"math score\")).limit(5).collect()"
   ]
  },
  {
   "cell_type": "markdown",
   "id": "96775740-323b-488c-a386-dc19328ed1d3",
   "metadata": {},
   "source": [
    "#### corr()"
   ]
  },
  {
   "cell_type": "code",
   "execution_count": 16,
   "id": "e9883c64-dc83-47fe-8e98-72ce1992fe14",
   "metadata": {},
   "outputs": [
    {
     "data": {
      "text/plain": [
       "0.9545980771462476"
      ]
     },
     "execution_count": 16,
     "metadata": {},
     "output_type": "execute_result"
    }
   ],
   "source": [
    "students.corr(\"reading score\", \"writing score\")"
   ]
  },
  {
   "cell_type": "code",
   "execution_count": 17,
   "id": "ded13bd0-65c3-4405-afdb-0906cc7365eb",
   "metadata": {},
   "outputs": [
    {
     "data": {
      "text/plain": [
       "0.8026420459498075"
      ]
     },
     "execution_count": 17,
     "metadata": {},
     "output_type": "execute_result"
    }
   ],
   "source": [
    "students.corr(\"math score\", \"writing score\")"
   ]
  },
  {
   "cell_type": "code",
   "execution_count": 18,
   "id": "f312a9a9-d75e-4237-9b19-5ef3354ab087",
   "metadata": {},
   "outputs": [
    {
     "data": {
      "text/plain": [
       "0.8175796636720539"
      ]
     },
     "execution_count": 18,
     "metadata": {},
     "output_type": "execute_result"
    }
   ],
   "source": [
    "students.corr(\"math score\", \"reading score\")"
   ]
  },
  {
   "cell_type": "markdown",
   "id": "17eafe39-7cfc-4858-9ee5-77eb60d560ec",
   "metadata": {},
   "source": [
    "#### count()"
   ]
  },
  {
   "cell_type": "code",
   "execution_count": 19,
   "id": "86846254-d470-4279-b5e9-8b851db8a20c",
   "metadata": {},
   "outputs": [
    {
     "data": {
      "text/plain": [
       "50"
      ]
     },
     "execution_count": 19,
     "metadata": {},
     "output_type": "execute_result"
    }
   ],
   "source": [
    "df.count()"
   ]
  },
  {
   "cell_type": "code",
   "execution_count": 20,
   "id": "92193ec5-02ce-49f3-9e00-1cb59301a221",
   "metadata": {},
   "outputs": [
    {
     "data": {
      "text/plain": [
       "1000"
      ]
     },
     "execution_count": 20,
     "metadata": {},
     "output_type": "execute_result"
    }
   ],
   "source": [
    "students.count()"
   ]
  },
  {
   "cell_type": "code",
   "execution_count": 21,
   "id": "c238b1a0-5221-47a3-bb29-6e0bf251243b",
   "metadata": {},
   "outputs": [
    {
     "data": {
      "text/plain": [
       "2740403"
      ]
     },
     "execution_count": 21,
     "metadata": {},
     "output_type": "execute_result"
    }
   ],
   "source": [
    "tour.count()"
   ]
  },
  {
   "cell_type": "markdown",
   "id": "a1b97715-6cf2-4b58-ae58-c4c8f0601c8f",
   "metadata": {},
   "source": [
    "#### cov()"
   ]
  },
  {
   "cell_type": "code",
   "execution_count": 22,
   "id": "665e0bb9-fd13-412a-821c-6d09ed36beba",
   "metadata": {},
   "outputs": [
    {
     "data": {
      "text/plain": [
       "200.49632653061224"
      ]
     },
     "execution_count": 22,
     "metadata": {},
     "output_type": "execute_result"
    }
   ],
   "source": [
    "df.cov(\"reading score\", \"writing score\")"
   ]
  },
  {
   "cell_type": "code",
   "execution_count": 23,
   "id": "faf81137-d68f-4ea5-9b3d-ed51d4cef75a",
   "metadata": {},
   "outputs": [
    {
     "data": {
      "text/plain": [
       "211.7866606606608"
      ]
     },
     "execution_count": 23,
     "metadata": {},
     "output_type": "execute_result"
    }
   ],
   "source": [
    "students.cov(\"reading score\", \"writing score\")"
   ]
  },
  {
   "cell_type": "markdown",
   "id": "e7dcea2b-210f-46c6-bf15-e56f8566369e",
   "metadata": {},
   "source": [
    "#### createGlobalTempView()"
   ]
  },
  {
   "cell_type": "code",
   "execution_count": 24,
   "id": "cbff436a-839c-4f45-a420-3d6a39ec176b",
   "metadata": {},
   "outputs": [],
   "source": [
    "#spark.catalog.dropGlobalTempView(\"students\")\n",
    "#students.createGlobalTempView(\"students\")\n",
    "students.createOrReplaceGlobalTempView(\"students\")"
   ]
  },
  {
   "cell_type": "code",
   "execution_count": 25,
   "id": "1c9567d1-d12e-4a19-8ce4-9feea17b8da3",
   "metadata": {},
   "outputs": [
    {
     "name": "stdout",
     "output_type": "stream",
     "text": [
      "+------+--------------+---------------------------+------------+-----------------------+----------+-------------+-------------+\n",
      "|gender|race/ethnicity|parental level of education|       lunch|test preparation course|math score|reading score|writing score|\n",
      "+------+--------------+---------------------------+------------+-----------------------+----------+-------------+-------------+\n",
      "|female|       group B|            master's degree|    standard|                   none|        90|           95|           93|\n",
      "|female|       group B|               some college|    standard|              completed|        88|           95|           92|\n",
      "|  male|       group C|                high school|    standard|                   none|        88|           89|           86|\n",
      "|  male|       group E|               some college|    standard|                   none|        97|           87|           82|\n",
      "|  male|       group E|         associate's degree|    standard|              completed|        81|           81|           79|\n",
      "|  male|       group C|                high school|    standard|              completed|        82|           84|           82|\n",
      "|  male|       group D|                high school|    standard|                   none|        88|           78|           75|\n",
      "|female|       group E|         associate's degree|    standard|              completed|        82|           85|           86|\n",
      "|female|       group D|         associate's degree|    standard|                   none|        85|           91|           89|\n",
      "|  male|       group C|               some college|    standard|              completed|        98|           86|           90|\n",
      "|female|       group D|            master's degree|    standard|                   none|        87|          100|          100|\n",
      "|female|       group E|          bachelor's degree|    standard|              completed|        99|          100|          100|\n",
      "|  male|       group C|                high school|    standard|                   none|        84|           77|           74|\n",
      "|  male|       group B|         associate's degree|    standard|              completed|        91|           89|           92|\n",
      "|female|       group C|               some college|    standard|              completed|        88|           93|           93|\n",
      "|  male|       group E|               some college|    standard|                   none|        83|           80|           73|\n",
      "|female|       group B|                high school|    standard|                   none|        87|           95|           86|\n",
      "|  male|       group D|            master's degree|    standard|                   none|        82|           82|           74|\n",
      "|  male|       group D|            master's degree|    standard|                   none|        89|           84|           82|\n",
      "|  male|       group E|               some college|free/reduced|              completed|        87|           74|           70|\n",
      "+------+--------------+---------------------------+------------+-----------------------+----------+-------------+-------------+\n",
      "only showing top 20 rows\n",
      "\n"
     ]
    }
   ],
   "source": [
    "result = spark.sql(\"SELECT * FROM global_temp.students WHERE `math score` > 80\")\n",
    "result.show()"
   ]
  },
  {
   "cell_type": "markdown",
   "id": "d6b04011-016d-4997-a939-ac7ad7630a31",
   "metadata": {},
   "source": [
    "#### crossJoin()"
   ]
  },
  {
   "cell_type": "code",
   "execution_count": 28,
   "id": "93012616-8737-495a-921b-dc5c8a5bc242",
   "metadata": {},
   "outputs": [
    {
     "name": "stdout",
     "output_type": "stream",
     "text": [
      "+-----+---------------+------+\n",
      "|Value|    Player name|Season|\n",
      "+-----+---------------+------+\n",
      "|   71|Robert Garrigus|  2010|\n",
      "|   71|Robert Garrigus|  2010|\n",
      "|   71|Robert Garrigus|  2010|\n",
      "|   71|Robert Garrigus|  2010|\n",
      "|   71|Robert Garrigus|  2010|\n",
      "|   77|   Bubba Watson|  2010|\n",
      "|   77|   Bubba Watson|  2010|\n",
      "|   77|   Bubba Watson|  2010|\n",
      "|   77|   Bubba Watson|  2010|\n",
      "|   77|   Bubba Watson|  2010|\n",
      "|   83| Dustin Johnson|  2010|\n",
      "|   83| Dustin Johnson|  2010|\n",
      "|   83| Dustin Johnson|  2010|\n",
      "|   83| Dustin Johnson|  2010|\n",
      "|   83| Dustin Johnson|  2010|\n",
      "|   54|Brett Wetterich|  2010|\n",
      "|   54|Brett Wetterich|  2010|\n",
      "|   54|Brett Wetterich|  2010|\n",
      "|   54|Brett Wetterich|  2010|\n",
      "|   54|Brett Wetterich|  2010|\n",
      "+-----+---------------+------+\n",
      "only showing top 20 rows\n",
      "\n"
     ]
    }
   ],
   "source": [
    "df = tour.limit(5).select(\"Value\", \"Player name\")\n",
    "df2 = tour.limit(5).select(\"Player name\", \"Season\")\n",
    "df.crossJoin(df2.select(\"Season\")).select(\"Value\", \"Player name\", \"Season\").show()"
   ]
  },
  {
   "cell_type": "code",
   "execution_count": null,
   "id": "048ede76-0f6f-4602-9ad8-f96c58120794",
   "metadata": {},
   "outputs": [],
   "source": []
  },
  {
   "cell_type": "code",
   "execution_count": null,
   "id": "e8357359-ec78-4183-9a03-23a08b2e8d08",
   "metadata": {},
   "outputs": [],
   "source": []
  },
  {
   "cell_type": "markdown",
   "id": "07466d16-804d-409a-b18e-8990df717644",
   "metadata": {},
   "source": [
    "#### crosstab()"
   ]
  },
  {
   "cell_type": "code",
   "execution_count": 29,
   "id": "04413c82-07d8-41cc-ad48-352a40d2e2ca",
   "metadata": {},
   "outputs": [
    {
     "name": "stderr",
     "output_type": "stream",
     "text": [
      "                                                                                \r"
     ]
    },
    {
     "name": "stdout",
     "output_type": "stream",
     "text": [
      "+------------+---+---+---+\n",
      "|Gender_Grade|  A|  B|  C|\n",
      "+------------+---+---+---+\n",
      "|      Female|  1|  1|  0|\n",
      "|        Male|  1|  1|  1|\n",
      "+------------+---+---+---+\n",
      "\n"
     ]
    }
   ],
   "source": [
    "data = [(\"Alice\", \"Female\", \"A\"),\n",
    "        (\"Bob\", \"Male\", \"B\"),\n",
    "        (\"Charlie\", \"Male\", \"A\"),\n",
    "        (\"David\", \"Male\", \"C\"),\n",
    "        (\"Eve\", \"Female\", \"B\")]\n",
    "\n",
    "columns = [\"Name\", \"Gender\", \"Grade\"]\n",
    "df = spark.createDataFrame(data, columns)\n",
    "\n",
    "cross_tab = df.crosstab(\"Gender\", \"Grade\")\n",
    "cross_tab.show()"
   ]
  },
  {
   "cell_type": "markdown",
   "id": "ed37fc7e-936b-41a3-8b12-13b31d4681a5",
   "metadata": {},
   "source": [
    "#### cube()\n",
    "\n",
    "##### Create a multi-dimensional cube for the current DataFrame using the specified columns, so we can run aggregations on them."
   ]
  },
  {
   "cell_type": "code",
   "execution_count": 30,
   "id": "fab25d1b-6cdb-41ae-be78-1f4fb162c9d5",
   "metadata": {},
   "outputs": [
    {
     "name": "stderr",
     "output_type": "stream",
     "text": [
      "[Stage 89:>                                                       (0 + 12) / 13]\r"
     ]
    },
    {
     "name": "stdout",
     "output_type": "stream",
     "text": [
      "+-----------+----------+-------+\n",
      "|Player name|     Value|  count|\n",
      "+-----------+----------+-------+\n",
      "|       NULL|      NULL|  43498|\n",
      "|       NULL|      NULL|2740403|\n",
      "|       NULL|$1,001,580|      1|\n",
      "|       NULL|$1,001,581|      2|\n",
      "|       NULL|$1,002,036|      4|\n",
      "|       NULL|$1,003,359|      1|\n",
      "|       NULL|$1,003,362|      2|\n",
      "|       NULL|$1,003,363|      2|\n",
      "|       NULL|$1,004,033|      1|\n",
      "|       NULL|$1,004,034|      2|\n",
      "|       NULL|$1,004,035|      2|\n",
      "|       NULL|$1,004,159|      1|\n",
      "|       NULL|$1,004,160|      2|\n",
      "|       NULL|$1,004,161|      2|\n",
      "|       NULL|$1,004,693|      1|\n",
      "|       NULL|$1,004,696|      4|\n",
      "|       NULL|$1,005,321|      1|\n",
      "|       NULL|$1,005,322|      2|\n",
      "|       NULL|$1,007,218|      3|\n",
      "|       NULL|$1,007,219|      2|\n",
      "+-----------+----------+-------+\n",
      "only showing top 20 rows\n",
      "\n"
     ]
    },
    {
     "name": "stderr",
     "output_type": "stream",
     "text": [
      "                                                                                \r"
     ]
    }
   ],
   "source": [
    "tour.cube(\"Player name\", tour.Value).count().orderBy(\"Player name\", \"Value\").show()"
   ]
  },
  {
   "cell_type": "markdown",
   "id": "5f51c2d9-8f01-4cb6-b953-04969b01dcb2",
   "metadata": {},
   "source": [
    "#### describe()"
   ]
  },
  {
   "cell_type": "code",
   "execution_count": 31,
   "id": "3b79fd8d-fc3c-439b-b4d0-c44002a43843",
   "metadata": {},
   "outputs": [
    {
     "name": "stdout",
     "output_type": "stream",
     "text": [
      "+-------+------------------+------------------+-----------------+\n",
      "|summary|        math score|     reading score|    writing score|\n",
      "+-------+------------------+------------------+-----------------+\n",
      "|  count|              1000|              1000|             1000|\n",
      "|   mean|            66.089|            69.169|           68.054|\n",
      "| stddev|15.163080096009454|14.600191937252223|15.19565701086966|\n",
      "|    min|                 0|                17|               10|\n",
      "|    max|               100|               100|              100|\n",
      "+-------+------------------+------------------+-----------------+\n",
      "\n"
     ]
    }
   ],
   "source": [
    "students.describe(\"math score\", \"reading score\", \"writing score\").show()"
   ]
  },
  {
   "cell_type": "code",
   "execution_count": null,
   "id": "d6ceba8c-c02f-4fa4-a28f-ca7989662fec",
   "metadata": {},
   "outputs": [],
   "source": []
  },
  {
   "cell_type": "markdown",
   "id": "04c1658a-3d0a-4719-a3ca-eaf53da491b8",
   "metadata": {},
   "source": [
    "#### distinct()"
   ]
  },
  {
   "cell_type": "code",
   "execution_count": 33,
   "id": "96706ca7-b968-4a4a-a83b-424079cec30f",
   "metadata": {},
   "outputs": [
    {
     "data": {
      "text/plain": [
       "2740403"
      ]
     },
     "execution_count": 33,
     "metadata": {},
     "output_type": "execute_result"
    }
   ],
   "source": [
    "tour.count()"
   ]
  },
  {
   "cell_type": "code",
   "execution_count": 36,
   "id": "b4954a92-6c5c-4571-9c47-5e7c79616824",
   "metadata": {},
   "outputs": [
    {
     "name": "stderr",
     "output_type": "stream",
     "text": [
      "23/10/04 10:42:55 WARN RowBasedKeyValueBatch: Calling spill() on RowBasedKeyValueBatch. Will not spill but return 0.\n",
      "23/10/04 10:42:55 WARN RowBasedKeyValueBatch: Calling spill() on RowBasedKeyValueBatch. Will not spill but return 0.\n",
      "23/10/04 10:42:55 WARN RowBasedKeyValueBatch: Calling spill() on RowBasedKeyValueBatch. Will not spill but return 0.\n",
      "23/10/04 10:42:55 WARN RowBasedKeyValueBatch: Calling spill() on RowBasedKeyValueBatch. Will not spill but return 0.\n",
      "23/10/04 10:42:55 WARN RowBasedKeyValueBatch: Calling spill() on RowBasedKeyValueBatch. Will not spill but return 0.\n",
      "23/10/04 10:42:55 WARN RowBasedKeyValueBatch: Calling spill() on RowBasedKeyValueBatch. Will not spill but return 0.\n",
      "23/10/04 10:42:55 WARN RowBasedKeyValueBatch: Calling spill() on RowBasedKeyValueBatch. Will not spill but return 0.\n",
      "23/10/04 10:42:55 WARN RowBasedKeyValueBatch: Calling spill() on RowBasedKeyValueBatch. Will not spill but return 0.\n",
      "23/10/04 10:42:55 WARN RowBasedKeyValueBatch: Calling spill() on RowBasedKeyValueBatch. Will not spill but return 0.\n",
      "23/10/04 10:42:55 WARN RowBasedKeyValueBatch: Calling spill() on RowBasedKeyValueBatch. Will not spill but return 0.\n",
      "23/10/04 10:42:55 WARN RowBasedKeyValueBatch: Calling spill() on RowBasedKeyValueBatch. Will not spill but return 0.\n",
      "23/10/04 10:42:55 WARN RowBasedKeyValueBatch: Calling spill() on RowBasedKeyValueBatch. Will not spill but return 0.\n",
      "23/10/04 10:42:55 WARN RowBasedKeyValueBatch: Calling spill() on RowBasedKeyValueBatch. Will not spill but return 0.\n",
      "23/10/04 10:42:55 WARN RowBasedKeyValueBatch: Calling spill() on RowBasedKeyValueBatch. Will not spill but return 0.\n",
      "23/10/04 10:42:55 WARN RowBasedKeyValueBatch: Calling spill() on RowBasedKeyValueBatch. Will not spill but return 0.\n",
      "23/10/04 10:42:55 WARN RowBasedKeyValueBatch: Calling spill() on RowBasedKeyValueBatch. Will not spill but return 0.\n",
      "23/10/04 10:42:55 WARN RowBasedKeyValueBatch: Calling spill() on RowBasedKeyValueBatch. Will not spill but return 0.\n",
      "23/10/04 10:42:55 WARN RowBasedKeyValueBatch: Calling spill() on RowBasedKeyValueBatch. Will not spill but return 0.\n",
      "23/10/04 10:42:55 WARN RowBasedKeyValueBatch: Calling spill() on RowBasedKeyValueBatch. Will not spill but return 0.\n",
      "23/10/04 10:42:55 WARN RowBasedKeyValueBatch: Calling spill() on RowBasedKeyValueBatch. Will not spill but return 0.\n",
      "23/10/04 10:42:55 WARN RowBasedKeyValueBatch: Calling spill() on RowBasedKeyValueBatch. Will not spill but return 0.\n",
      "23/10/04 10:42:55 WARN RowBasedKeyValueBatch: Calling spill() on RowBasedKeyValueBatch. Will not spill but return 0.\n",
      "23/10/04 10:42:55 WARN RowBasedKeyValueBatch: Calling spill() on RowBasedKeyValueBatch. Will not spill but return 0.\n",
      "23/10/04 10:42:55 WARN RowBasedKeyValueBatch: Calling spill() on RowBasedKeyValueBatch. Will not spill but return 0.\n",
      "23/10/04 10:42:57 WARN RowBasedKeyValueBatch: Calling spill() on RowBasedKeyValueBatch. Will not spill but return 0.\n",
      "23/10/04 10:42:57 WARN RowBasedKeyValueBatch: Calling spill() on RowBasedKeyValueBatch. Will not spill but return 0.\n",
      "23/10/04 10:42:57 WARN RowBasedKeyValueBatch: Calling spill() on RowBasedKeyValueBatch. Will not spill but return 0.\n",
      "23/10/04 10:42:57 WARN RowBasedKeyValueBatch: Calling spill() on RowBasedKeyValueBatch. Will not spill but return 0.\n",
      "23/10/04 10:42:57 WARN RowBasedKeyValueBatch: Calling spill() on RowBasedKeyValueBatch. Will not spill but return 0.\n",
      "23/10/04 10:42:57 WARN RowBasedKeyValueBatch: Calling spill() on RowBasedKeyValueBatch. Will not spill but return 0.\n",
      "23/10/04 10:42:58 WARN RowBasedKeyValueBatch: Calling spill() on RowBasedKeyValueBatch. Will not spill but return 0.\n",
      "23/10/04 10:42:58 WARN RowBasedKeyValueBatch: Calling spill() on RowBasedKeyValueBatch. Will not spill but return 0.\n",
      "23/10/04 10:42:58 WARN RowBasedKeyValueBatch: Calling spill() on RowBasedKeyValueBatch. Will not spill but return 0.\n",
      "23/10/04 10:42:58 WARN RowBasedKeyValueBatch: Calling spill() on RowBasedKeyValueBatch. Will not spill but return 0.\n",
      "23/10/04 10:42:58 WARN RowBasedKeyValueBatch: Calling spill() on RowBasedKeyValueBatch. Will not spill but return 0.\n",
      "23/10/04 10:42:58 WARN RowBasedKeyValueBatch: Calling spill() on RowBasedKeyValueBatch. Will not spill but return 0.\n",
      "23/10/04 10:42:58 WARN RowBasedKeyValueBatch: Calling spill() on RowBasedKeyValueBatch. Will not spill but return 0.\n",
      "23/10/04 10:42:58 WARN RowBasedKeyValueBatch: Calling spill() on RowBasedKeyValueBatch. Will not spill but return 0.\n",
      "23/10/04 10:42:58 WARN RowBasedKeyValueBatch: Calling spill() on RowBasedKeyValueBatch. Will not spill but return 0.\n",
      "23/10/04 10:42:58 WARN RowBasedKeyValueBatch: Calling spill() on RowBasedKeyValueBatch. Will not spill but return 0.\n",
      "23/10/04 10:42:58 WARN RowBasedKeyValueBatch: Calling spill() on RowBasedKeyValueBatch. Will not spill but return 0.\n",
      "23/10/04 10:42:58 WARN RowBasedKeyValueBatch: Calling spill() on RowBasedKeyValueBatch. Will not spill but return 0.\n",
      "23/10/04 10:42:58 WARN RowBasedKeyValueBatch: Calling spill() on RowBasedKeyValueBatch. Will not spill but return 0.\n",
      "23/10/04 10:42:58 WARN RowBasedKeyValueBatch: Calling spill() on RowBasedKeyValueBatch. Will not spill but return 0.\n",
      "23/10/04 10:42:58 WARN RowBasedKeyValueBatch: Calling spill() on RowBasedKeyValueBatch. Will not spill but return 0.\n",
      "23/10/04 10:42:58 WARN RowBasedKeyValueBatch: Calling spill() on RowBasedKeyValueBatch. Will not spill but return 0.\n",
      "23/10/04 10:42:58 WARN RowBasedKeyValueBatch: Calling spill() on RowBasedKeyValueBatch. Will not spill but return 0.\n",
      "23/10/04 10:42:58 WARN RowBasedKeyValueBatch: Calling spill() on RowBasedKeyValueBatch. Will not spill but return 0.\n",
      "                                                                                \r"
     ]
    },
    {
     "data": {
      "text/plain": [
       "2740403"
      ]
     },
     "execution_count": 36,
     "metadata": {},
     "output_type": "execute_result"
    }
   ],
   "source": [
    "tour.distinct().count()"
   ]
  },
  {
   "cell_type": "markdown",
   "id": "35cb94f7-3a42-4ab0-9371-522e62ff2897",
   "metadata": {},
   "source": [
    "#### drop()"
   ]
  },
  {
   "cell_type": "code",
   "execution_count": 39,
   "id": "2555a4e8-aa8e-4010-9ba0-31600e163fc9",
   "metadata": {},
   "outputs": [
    {
     "name": "stdout",
     "output_type": "stream",
     "text": [
      "+---------------+------+----------------+---------------------------+\n",
      "|Player Name    |Season|Statistic       |Variable                   |\n",
      "+---------------+------+----------------+---------------------------+\n",
      "|Robert Garrigus|2010  |Driving Distance|Driving Distance - (ROUNDS)|\n",
      "|Bubba Watson   |2010  |Driving Distance|Driving Distance - (ROUNDS)|\n",
      "|Dustin Johnson |2010  |Driving Distance|Driving Distance - (ROUNDS)|\n",
      "|Brett Wetterich|2010  |Driving Distance|Driving Distance - (ROUNDS)|\n",
      "|J.B. Holmes    |2010  |Driving Distance|Driving Distance - (ROUNDS)|\n",
      "+---------------+------+----------------+---------------------------+\n",
      "\n"
     ]
    }
   ],
   "source": [
    "tour.limit(5).drop(\"Value\").show(5, False)"
   ]
  },
  {
   "cell_type": "code",
   "execution_count": 48,
   "id": "b774bc5d-fe90-45b8-ab8c-34f3ffa9adcf",
   "metadata": {},
   "outputs": [
    {
     "name": "stdout",
     "output_type": "stream",
     "text": [
      "+------+--------------+---------------------------+------------+-----------------------+\n",
      "|gender|race/ethnicity|parental level of education|lunch       |test preparation course|\n",
      "+------+--------------+---------------------------+------------+-----------------------+\n",
      "|female|group B       |bachelor's degree          |standard    |none                   |\n",
      "|female|group C       |some college               |standard    |completed              |\n",
      "|female|group B       |master's degree            |standard    |none                   |\n",
      "|male  |group A       |associate's degree         |free/reduced|none                   |\n",
      "|male  |group C       |some college               |standard    |none                   |\n",
      "+------+--------------+---------------------------+------------+-----------------------+\n",
      "only showing top 5 rows\n",
      "\n"
     ]
    }
   ],
   "source": [
    "students.drop(\"math score\", \"reading score\", \"writing score\").show(5, False)"
   ]
  },
  {
   "cell_type": "code",
   "execution_count": null,
   "id": "b955b9a3-4808-48db-9c32-c7346da31c13",
   "metadata": {},
   "outputs": [],
   "source": []
  },
  {
   "cell_type": "markdown",
   "id": "9717c80f-47a7-4ff7-a710-9ae7d0e2ecc7",
   "metadata": {},
   "source": [
    "#### dropDuplicates() / drop_duplicates()"
   ]
  },
  {
   "cell_type": "code",
   "execution_count": 51,
   "id": "26110931-513d-4444-a3b5-cf85acb4c5f5",
   "metadata": {},
   "outputs": [
    {
     "name": "stdout",
     "output_type": "stream",
     "text": [
      "+-----+---+------+\n",
      "| name|age|height|\n",
      "+-----+---+------+\n",
      "|Alice|  5|    80|\n",
      "|Alice| 10|    80|\n",
      "+-----+---+------+\n",
      "\n"
     ]
    }
   ],
   "source": [
    "df = spark.createDataFrame([ \\\n",
    "    Row(name='Alice', age=5, height=80), \\\n",
    "    Row(name='Alice', age=5, height=80), \\\n",
    "    Row(name='Alice', age=10, height=80)])\n",
    "df.dropDuplicates().show()"
   ]
  },
  {
   "cell_type": "code",
   "execution_count": 52,
   "id": "2541fb42-7a91-4a65-9fd6-2385804031c0",
   "metadata": {},
   "outputs": [
    {
     "name": "stdout",
     "output_type": "stream",
     "text": [
      "+-----+---+------+\n",
      "| name|age|height|\n",
      "+-----+---+------+\n",
      "|Alice|  5|    80|\n",
      "+-----+---+------+\n",
      "\n"
     ]
    }
   ],
   "source": [
    "df.dropDuplicates(['name', 'height']).show()"
   ]
  },
  {
   "cell_type": "code",
   "execution_count": 54,
   "id": "c8ba31a6-ebe6-4462-9e7c-b5092cb00fff",
   "metadata": {},
   "outputs": [
    {
     "name": "stderr",
     "output_type": "stream",
     "text": [
      "                                                                                \r"
     ]
    },
    {
     "data": {
      "text/plain": [
       "3053"
      ]
     },
     "execution_count": 54,
     "metadata": {},
     "output_type": "execute_result"
    }
   ],
   "source": [
    "tour.dropDuplicates([\"Player name\"]).count()"
   ]
  },
  {
   "cell_type": "markdown",
   "id": "b31db8bf-bf03-4697-854e-e0a161e18c0d",
   "metadata": {},
   "source": [
    "#### dropna()"
   ]
  },
  {
   "cell_type": "code",
   "execution_count": 55,
   "id": "78808050-b271-47a9-a32d-5a8dada84787",
   "metadata": {},
   "outputs": [
    {
     "name": "stderr",
     "output_type": "stream",
     "text": [
      "                                                                                \r"
     ]
    },
    {
     "data": {
      "text/plain": [
       "2696905"
      ]
     },
     "execution_count": 55,
     "metadata": {},
     "output_type": "execute_result"
    }
   ],
   "source": [
    "tour.dropna().count()"
   ]
  },
  {
   "cell_type": "code",
   "execution_count": 56,
   "id": "2e10b9f3-fb91-40df-86a8-a966a8f7ee0d",
   "metadata": {},
   "outputs": [
    {
     "data": {
      "text/plain": [
       "1000"
      ]
     },
     "execution_count": 56,
     "metadata": {},
     "output_type": "execute_result"
    }
   ],
   "source": [
    "students.dropna().count()"
   ]
  },
  {
   "cell_type": "code",
   "execution_count": null,
   "id": "516491b7-e468-4192-b935-2363729f08ac",
   "metadata": {},
   "outputs": [],
   "source": []
  },
  {
   "cell_type": "markdown",
   "id": "6bcf27e3-b88d-4f21-810c-573516ae3e5b",
   "metadata": {},
   "source": [
    "#### dtypes (property)"
   ]
  },
  {
   "cell_type": "code",
   "execution_count": 57,
   "id": "0bb0b647-6aa9-4b81-ba27-79c3990bf492",
   "metadata": {},
   "outputs": [
    {
     "data": {
      "text/plain": [
       "[('Player Name', 'string'),\n",
       " ('Season', 'int'),\n",
       " ('Statistic', 'string'),\n",
       " ('Variable', 'string'),\n",
       " ('Value', 'string')]"
      ]
     },
     "execution_count": 57,
     "metadata": {},
     "output_type": "execute_result"
    }
   ],
   "source": [
    "tour.dtypes"
   ]
  },
  {
   "cell_type": "code",
   "execution_count": 58,
   "id": "43aab690-2a0a-4e85-ab34-26e0c2d088b8",
   "metadata": {},
   "outputs": [
    {
     "data": {
      "text/plain": [
       "[('gender', 'string'),\n",
       " ('race/ethnicity', 'string'),\n",
       " ('parental level of education', 'string'),\n",
       " ('lunch', 'string'),\n",
       " ('test preparation course', 'string'),\n",
       " ('math score', 'int'),\n",
       " ('reading score', 'int'),\n",
       " ('writing score', 'int')]"
      ]
     },
     "execution_count": 58,
     "metadata": {},
     "output_type": "execute_result"
    }
   ],
   "source": [
    "students.dtypes"
   ]
  },
  {
   "cell_type": "code",
   "execution_count": null,
   "id": "51162874-7d99-41a4-8fdd-ae80735e26e8",
   "metadata": {},
   "outputs": [],
   "source": []
  },
  {
   "cell_type": "markdown",
   "id": "0dbb831a-11ad-4a6c-b832-bf31b11d6689",
   "metadata": {},
   "source": [
    "#### exceptAll()\n",
    "##### Return a new DataFrame containing rows in this DataFrame but not in another DataFrame while preserving duplicates.\n",
    "\n",
    "This is equivalent to EXCEPT ALL in SQL."
   ]
  },
  {
   "cell_type": "code",
   "execution_count": 60,
   "id": "4a8b5adf-6ef4-480c-9c78-d8ea9caa27ef",
   "metadata": {},
   "outputs": [
    {
     "name": "stdout",
     "output_type": "stream",
     "text": [
      "+---+---+\n",
      "| C1| C2|\n",
      "+---+---+\n",
      "|  a|  1|\n",
      "|  a|  1|\n",
      "|  a|  2|\n",
      "|  c|  4|\n",
      "+---+---+\n",
      "\n"
     ]
    }
   ],
   "source": [
    "df1 = spark.createDataFrame([(\"a\", 1), (\"a\", 1), (\"a\", 1), (\"a\", 2), (\"b\",  3), (\"c\", 4)], [\"C1\", \"C2\"])\n",
    "df2 = spark.createDataFrame([(\"a\", 1), (\"b\", 3)], [\"C1\", \"C2\"])\n",
    "df1.exceptAll(df2).show()\n",
    "# Also as standard in SQL, this function resolves columns by position (not by name)."
   ]
  },
  {
   "cell_type": "code",
   "execution_count": null,
   "id": "6edb0772-b78d-45da-885d-8bf10245e246",
   "metadata": {},
   "outputs": [],
   "source": []
  },
  {
   "cell_type": "markdown",
   "id": "e5b8916d-445f-4a4a-a7d4-81e5e2425b76",
   "metadata": {},
   "source": [
    "#### explain()"
   ]
  },
  {
   "cell_type": "code",
   "execution_count": 61,
   "id": "de19b4b0-c196-4846-9f66-62a951b6d677",
   "metadata": {},
   "outputs": [
    {
     "name": "stdout",
     "output_type": "stream",
     "text": [
      "== Physical Plan ==\n",
      "FileScan csv [Player Name#156,Season#157,Statistic#158,Variable#159,Value#160] Batched: false, DataFilters: [], Format: CSV, Location: InMemoryFileIndex(1 paths)[file:/Users/zsavchenko/spark_env/training/datasets/pga_tour_historical..., PartitionFilters: [], PushedFilters: [], ReadSchema: struct<Player Name:string,Season:int,Statistic:string,Variable:string,Value:string>\n",
      "\n",
      "\n"
     ]
    }
   ],
   "source": [
    "tour.explain()"
   ]
  },
  {
   "cell_type": "code",
   "execution_count": 64,
   "id": "b5656a5d-fb91-4994-bddd-aff789471b15",
   "metadata": {},
   "outputs": [
    {
     "name": "stdout",
     "output_type": "stream",
     "text": [
      "== Physical Plan ==\n",
      "Scan csv  (1)\n",
      "\n",
      "\n",
      "(1) Scan csv \n",
      "Output [5]: [Player Name#156, Season#157, Statistic#158, Variable#159, Value#160]\n",
      "Batched: false\n",
      "Location: InMemoryFileIndex [file:/Users/zsavchenko/spark_env/training/datasets/pga_tour_historical.csv]\n",
      "ReadSchema: struct<Player Name:string,Season:int,Statistic:string,Variable:string,Value:string>\n",
      "\n",
      "\n"
     ]
    }
   ],
   "source": [
    "tour.explain(mode=\"formatted\")"
   ]
  },
  {
   "cell_type": "code",
   "execution_count": 65,
   "id": "942d0648-6091-42b6-88b7-b81564f5f484",
   "metadata": {},
   "outputs": [
    {
     "name": "stdout",
     "output_type": "stream",
     "text": [
      "== Parsed Logical Plan ==\n",
      "Relation [Player Name#156,Season#157,Statistic#158,Variable#159,Value#160] csv\n",
      "\n",
      "== Analyzed Logical Plan ==\n",
      "Player Name: string, Season: int, Statistic: string, Variable: string, Value: string\n",
      "Relation [Player Name#156,Season#157,Statistic#158,Variable#159,Value#160] csv\n",
      "\n",
      "== Optimized Logical Plan ==\n",
      "Relation [Player Name#156,Season#157,Statistic#158,Variable#159,Value#160] csv\n",
      "\n",
      "== Physical Plan ==\n",
      "FileScan csv [Player Name#156,Season#157,Statistic#158,Variable#159,Value#160] Batched: false, DataFilters: [], Format: CSV, Location: InMemoryFileIndex(1 paths)[file:/Users/zsavchenko/spark_env/training/datasets/pga_tour_historical..., PartitionFilters: [], PushedFilters: [], ReadSchema: struct<Player Name:string,Season:int,Statistic:string,Variable:string,Value:string>\n",
      "\n"
     ]
    }
   ],
   "source": [
    "tour.explain(True)"
   ]
  },
  {
   "cell_type": "markdown",
   "id": "935280bc-afcc-4cb0-8d44-05b4bed6c940",
   "metadata": {},
   "source": [
    "#### fillna()\n",
    "Replace null values, alias for na.fill()."
   ]
  },
  {
   "cell_type": "code",
   "execution_count": 67,
   "id": "03602c4b-99ac-44b8-bbb4-fd2565be2265",
   "metadata": {},
   "outputs": [
    {
     "data": {
      "text/plain": [
       "2696905"
      ]
     },
     "execution_count": 67,
     "metadata": {},
     "output_type": "execute_result"
    }
   ],
   "source": [
    "tour.na.fill(50).dropna().count()"
   ]
  },
  {
   "cell_type": "code",
   "execution_count": 75,
   "id": "1f307718-52e4-4a7b-aca1-5849b1057348",
   "metadata": {},
   "outputs": [
    {
     "data": {
      "text/plain": [
       "2740403"
      ]
     },
     "execution_count": 75,
     "metadata": {},
     "output_type": "execute_result"
    }
   ],
   "source": [
    "df = tour.na.fill({'Value': 50, 'Player name': 'unknown'})\n",
    "df.count()"
   ]
  },
  {
   "cell_type": "code",
   "execution_count": 76,
   "id": "87fc20f4-a7fc-42f6-9bd9-dbccd1596574",
   "metadata": {},
   "outputs": [
    {
     "name": "stderr",
     "output_type": "stream",
     "text": [
      "                                                                                \r"
     ]
    },
    {
     "data": {
      "text/plain": [
       "2740403"
      ]
     },
     "execution_count": 76,
     "metadata": {},
     "output_type": "execute_result"
    }
   ],
   "source": [
    "df.dropna().count()"
   ]
  },
  {
   "cell_type": "markdown",
   "id": "e717db9c-21a4-458f-8528-90249c49bdcd",
   "metadata": {},
   "source": [
    "#### filter()"
   ]
  },
  {
   "cell_type": "code",
   "execution_count": 80,
   "id": "7d6e0684-d41f-44ca-89b9-65465f694dff",
   "metadata": {},
   "outputs": [
    {
     "name": "stdout",
     "output_type": "stream",
     "text": [
      "+---------------+------+----------------+--------------------+-----+\n",
      "|    Player Name|Season|       Statistic|            Variable|Value|\n",
      "+---------------+------+----------------+--------------------+-----+\n",
      "|Robert Garrigus|  2010|Driving Distance|Driving Distance ...|   71|\n",
      "|   Bubba Watson|  2010|Driving Distance|Driving Distance ...|   77|\n",
      "| Dustin Johnson|  2010|Driving Distance|Driving Distance ...|   83|\n",
      "|Brett Wetterich|  2010|Driving Distance|Driving Distance ...|   54|\n",
      "|    J.B. Holmes|  2010|Driving Distance|Driving Distance ...|  100|\n",
      "+---------------+------+----------------+--------------------+-----+\n",
      "only showing top 5 rows\n",
      "\n",
      "+----------------+------+---------------+--------------------+-----+\n",
      "|     Player Name|Season|      Statistic|            Variable|Value|\n",
      "+----------------+------+---------------+--------------------+-----+\n",
      "|Kevin Sutherland|  2010|Putting Average|Putting Average -...|    2|\n",
      "| Cameron Beckman|  2010|   Total Eagles|Total Eagles - (T...|    2|\n",
      "|     Kris Blanks|  2010|   Total Eagles|Total Eagles - (T...|    2|\n",
      "|    Justin Bolli|  2010|   Total Eagles|Total Eagles - (T...|    2|\n",
      "| Michael Bradley|  2010|   Total Eagles|Total Eagles - (T...|    2|\n",
      "+----------------+------+---------------+--------------------+-----+\n",
      "only showing top 5 rows\n",
      "\n"
     ]
    }
   ],
   "source": [
    "df.filter(df.Value > 3).show(5)\n",
    "df.where(df.Value == 2).show(5)"
   ]
  },
  {
   "cell_type": "code",
   "execution_count": 82,
   "id": "a62f6f32-6d37-42d6-b863-749655a02fd5",
   "metadata": {},
   "outputs": [
    {
     "name": "stdout",
     "output_type": "stream",
     "text": [
      "+---------------+------+----------------+--------------------+-----+\n",
      "|    Player Name|Season|       Statistic|            Variable|Value|\n",
      "+---------------+------+----------------+--------------------+-----+\n",
      "|Robert Garrigus|  2010|Driving Distance|Driving Distance ...|   71|\n",
      "|   Bubba Watson|  2010|Driving Distance|Driving Distance ...|   77|\n",
      "| Dustin Johnson|  2010|Driving Distance|Driving Distance ...|   83|\n",
      "|Brett Wetterich|  2010|Driving Distance|Driving Distance ...|   54|\n",
      "|    J.B. Holmes|  2010|Driving Distance|Driving Distance ...|  100|\n",
      "+---------------+------+----------------+--------------------+-----+\n",
      "only showing top 5 rows\n",
      "\n",
      "+----------------+------+---------------+--------------------+-----+\n",
      "|     Player Name|Season|      Statistic|            Variable|Value|\n",
      "+----------------+------+---------------+--------------------+-----+\n",
      "|Kevin Sutherland|  2010|Putting Average|Putting Average -...|    2|\n",
      "| Cameron Beckman|  2010|   Total Eagles|Total Eagles - (T...|    2|\n",
      "|     Kris Blanks|  2010|   Total Eagles|Total Eagles - (T...|    2|\n",
      "|    Justin Bolli|  2010|   Total Eagles|Total Eagles - (T...|    2|\n",
      "| Michael Bradley|  2010|   Total Eagles|Total Eagles - (T...|    2|\n",
      "+----------------+------+---------------+--------------------+-----+\n",
      "only showing top 5 rows\n",
      "\n"
     ]
    }
   ],
   "source": [
    "df.filter(\"Value > 3\").show(5)\n",
    "df.where(\"Value = 2\").show(5)"
   ]
  },
  {
   "cell_type": "code",
   "execution_count": null,
   "id": "a1ebd4b3-51b0-4c41-9925-e0bed188152e",
   "metadata": {},
   "outputs": [],
   "source": []
  },
  {
   "cell_type": "markdown",
   "id": "f541ef46-a07c-47d4-b641-bf9b62f0392a",
   "metadata": {},
   "source": [
    "#### first()"
   ]
  },
  {
   "cell_type": "code",
   "execution_count": 83,
   "id": "2f3ce941-9b47-4856-ac7d-2d0f6323abe7",
   "metadata": {},
   "outputs": [
    {
     "data": {
      "text/plain": [
       "Row(Player Name='Robert Garrigus', Season=2010, Statistic='Driving Distance', Variable='Driving Distance - (ROUNDS)', Value='71')"
      ]
     },
     "execution_count": 83,
     "metadata": {},
     "output_type": "execute_result"
    }
   ],
   "source": [
    "df.first()"
   ]
  },
  {
   "cell_type": "markdown",
   "id": "e2b1b157-6778-4f22-b1ec-0763737314ad",
   "metadata": {},
   "source": [
    "#### foreach()"
   ]
  },
  {
   "cell_type": "code",
   "execution_count": 98,
   "id": "fe76f5bd-b93e-4341-85ff-8163f7ce10a7",
   "metadata": {},
   "outputs": [
    {
     "name": "stderr",
     "output_type": "stream",
     "text": [
      "71\n",
      "77\n",
      "83\n",
      "54\n",
      "100\n",
      "63\n",
      "88\n",
      "64\n",
      "64\n",
      "92\n"
     ]
    }
   ],
   "source": [
    "def f(person):\n",
    "    # if person.Value == 100:\n",
    "    print(person.Value)\n",
    "df.limit(10).foreach(f)"
   ]
  },
  {
   "cell_type": "markdown",
   "id": "c83546e5-a774-418c-9ac8-74b00d8c0667",
   "metadata": {},
   "source": [
    "#### foreachPosition()"
   ]
  },
  {
   "cell_type": "code",
   "execution_count": 99,
   "id": "b5674931-ebeb-4d6f-ac42-ddda75700cf9",
   "metadata": {},
   "outputs": [
    {
     "name": "stderr",
     "output_type": "stream",
     "text": [
      "71\n",
      "77\n",
      "83\n",
      "54\n",
      "100\n"
     ]
    }
   ],
   "source": [
    "def f(people):\n",
    "    for person in people:\n",
    "        print(person.Value)\n",
    "df.limit(5).foreachPartition(f)"
   ]
  },
  {
   "cell_type": "markdown",
   "id": "e5629df6-b266-4c42-83e3-9475e4573a08",
   "metadata": {},
   "source": [
    "#### freqItems()\n",
    "##### DataFrame.freqItems() and DataFrameStatFunctions.freqItems() are aliases."
   ]
  },
  {
   "cell_type": "code",
   "execution_count": 106,
   "id": "67eda12f-0270-48cc-9166-cee63b9813e4",
   "metadata": {},
   "outputs": [
    {
     "name": "stdout",
     "output_type": "stream",
     "text": [
      "+--------------------+\n",
      "|     Value_freqItems|\n",
      "+--------------------+\n",
      "|[8, 6.7, 67, 27, ...|\n",
      "+--------------------+\n",
      "\n"
     ]
    },
    {
     "name": "stderr",
     "output_type": "stream",
     "text": [
      "                                                                                \r"
     ]
    }
   ],
   "source": [
    "tour.freqItems([\"Value\"]).show()"
   ]
  },
  {
   "cell_type": "code",
   "execution_count": null,
   "id": "cfc4ec10-320b-4f25-ac39-e70acb14b494",
   "metadata": {},
   "outputs": [],
   "source": []
  },
  {
   "cell_type": "markdown",
   "id": "cd930c13-afca-4c2b-9a66-f302c8ba0db2",
   "metadata": {},
   "source": [
    "#### groupBy() / groupby()"
   ]
  },
  {
   "cell_type": "code",
   "execution_count": 107,
   "id": "28356ff6-6be2-480f-93e5-37cbe92e0ae6",
   "metadata": {},
   "outputs": [
    {
     "data": {
      "text/plain": [
       "[Row(avg(math score)=66.089, avg(reading score)=69.169, avg(writing score)=68.054)]"
      ]
     },
     "execution_count": 107,
     "metadata": {},
     "output_type": "execute_result"
    }
   ],
   "source": [
    "students.groupBy().avg().collect()"
   ]
  },
  {
   "cell_type": "code",
   "execution_count": 108,
   "id": "88732796-5a44-4a0c-a34c-2b0860cdff30",
   "metadata": {},
   "outputs": [
    {
     "data": {
      "text/plain": [
       "[Row(gender='female', avg(math score)=63.633204633204635),\n",
       " Row(gender='male', avg(math score)=68.72821576763485)]"
      ]
     },
     "execution_count": 108,
     "metadata": {},
     "output_type": "execute_result"
    }
   ],
   "source": [
    "sorted(students.groupBy('gender').agg({'math score': 'mean'}).collect())"
   ]
  },
  {
   "cell_type": "code",
   "execution_count": 109,
   "id": "2ebb1fad-95ff-4f4b-95b7-45d51a7d4795",
   "metadata": {},
   "outputs": [
    {
     "data": {
      "text/plain": [
       "[Row(gender='female', gender='female', count=518),\n",
       " Row(gender='male', gender='male', count=482)]"
      ]
     },
     "execution_count": 109,
     "metadata": {},
     "output_type": "execute_result"
    }
   ],
   "source": [
    "sorted(students.groupBy(['gender', students.gender]).count().collect())"
   ]
  },
  {
   "cell_type": "code",
   "execution_count": 111,
   "id": "ace0f906-d991-4fef-aa8c-8030b95ff887",
   "metadata": {},
   "outputs": [
    {
     "data": {
      "text/plain": [
       "[Row(gender='female', avg(math score)=63.633204633204635, avg(reading score)=72.60810810810811, avg(writing score)=72.46718146718146),\n",
       " Row(gender='male', avg(math score)=68.72821576763485, avg(reading score)=65.47302904564316, avg(writing score)=63.31120331950208)]"
      ]
     },
     "execution_count": 111,
     "metadata": {},
     "output_type": "execute_result"
    }
   ],
   "source": [
    "sorted(students.groupBy(students.gender).avg().collect())"
   ]
  },
  {
   "cell_type": "markdown",
   "id": "46f9dca0-60df-4e9c-a59f-a958013a6b8c",
   "metadata": {},
   "source": [
    "#### head()"
   ]
  },
  {
   "cell_type": "code",
   "execution_count": 116,
   "id": "0cba37bf-b4ee-475a-bc70-d52ded01da82",
   "metadata": {},
   "outputs": [
    {
     "data": {
      "text/plain": [
       "[Row(gender='female', race/ethnicity='group B', parental level of education=\"bachelor's degree\", lunch='standard', test preparation course='none', math score=72, reading score=72, writing score=74),\n",
       " Row(gender='female', race/ethnicity='group C', parental level of education='some college', lunch='standard', test preparation course='completed', math score=69, reading score=90, writing score=88),\n",
       " Row(gender='female', race/ethnicity='group B', parental level of education=\"master's degree\", lunch='standard', test preparation course='none', math score=90, reading score=95, writing score=93),\n",
       " Row(gender='male', race/ethnicity='group A', parental level of education=\"associate's degree\", lunch='free/reduced', test preparation course='none', math score=47, reading score=57, writing score=44),\n",
       " Row(gender='male', race/ethnicity='group C', parental level of education='some college', lunch='standard', test preparation course='none', math score=76, reading score=78, writing score=75)]"
      ]
     },
     "execution_count": 116,
     "metadata": {},
     "output_type": "execute_result"
    }
   ],
   "source": [
    "students.head(5)\n",
    "# n – int, default 1. Number of rows to return."
   ]
  },
  {
   "cell_type": "markdown",
   "id": "8aa5d67f-ccda-4a3e-8b02-a7af907298cb",
   "metadata": {},
   "source": [
    "#### hint()\n",
    "Specifies some hint on the current DataFrame.\n",
    "\n",
    "Parameters:\n",
    "name – A name of the hint.\n",
    "parameters – Optional parameters.\n",
    "\n",
    "Returns - DataFrame"
   ]
  },
  {
   "cell_type": "code",
   "execution_count": 118,
   "id": "ac18742c-7c96-42ec-a926-58a6ca1c48f6",
   "metadata": {},
   "outputs": [
    {
     "data": {
      "text/html": [
       "<div>\n",
       "<style scoped>\n",
       "    .dataframe tbody tr th:only-of-type {\n",
       "        vertical-align: middle;\n",
       "    }\n",
       "\n",
       "    .dataframe tbody tr th {\n",
       "        vertical-align: top;\n",
       "    }\n",
       "\n",
       "    .dataframe thead th {\n",
       "        text-align: right;\n",
       "    }\n",
       "</style>\n",
       "<table border=\"1\" class=\"dataframe\">\n",
       "  <thead>\n",
       "    <tr style=\"text-align: right;\">\n",
       "      <th></th>\n",
       "      <th>gender</th>\n",
       "      <th>race/ethnicity</th>\n",
       "      <th>parental level of education</th>\n",
       "      <th>lunch</th>\n",
       "      <th>test preparation course</th>\n",
       "      <th>math score</th>\n",
       "      <th>reading score</th>\n",
       "      <th>writing score</th>\n",
       "      <th>race/ethnicity</th>\n",
       "      <th>parental level of education</th>\n",
       "      <th>lunch</th>\n",
       "      <th>test preparation course</th>\n",
       "      <th>math score</th>\n",
       "      <th>reading score</th>\n",
       "      <th>writing score</th>\n",
       "    </tr>\n",
       "  </thead>\n",
       "  <tbody>\n",
       "    <tr>\n",
       "      <th>0</th>\n",
       "      <td>female</td>\n",
       "      <td>group B</td>\n",
       "      <td>bachelor's degree</td>\n",
       "      <td>standard</td>\n",
       "      <td>none</td>\n",
       "      <td>72</td>\n",
       "      <td>72</td>\n",
       "      <td>74</td>\n",
       "      <td>group B</td>\n",
       "      <td>high school</td>\n",
       "      <td>free/reduced</td>\n",
       "      <td>none</td>\n",
       "      <td>38</td>\n",
       "      <td>60</td>\n",
       "      <td>50</td>\n",
       "    </tr>\n",
       "    <tr>\n",
       "      <th>1</th>\n",
       "      <td>female</td>\n",
       "      <td>group B</td>\n",
       "      <td>bachelor's degree</td>\n",
       "      <td>standard</td>\n",
       "      <td>none</td>\n",
       "      <td>72</td>\n",
       "      <td>72</td>\n",
       "      <td>74</td>\n",
       "      <td>group B</td>\n",
       "      <td>some college</td>\n",
       "      <td>standard</td>\n",
       "      <td>completed</td>\n",
       "      <td>88</td>\n",
       "      <td>95</td>\n",
       "      <td>92</td>\n",
       "    </tr>\n",
       "    <tr>\n",
       "      <th>2</th>\n",
       "      <td>female</td>\n",
       "      <td>group B</td>\n",
       "      <td>bachelor's degree</td>\n",
       "      <td>standard</td>\n",
       "      <td>none</td>\n",
       "      <td>72</td>\n",
       "      <td>72</td>\n",
       "      <td>74</td>\n",
       "      <td>group B</td>\n",
       "      <td>associate's degree</td>\n",
       "      <td>standard</td>\n",
       "      <td>none</td>\n",
       "      <td>71</td>\n",
       "      <td>83</td>\n",
       "      <td>78</td>\n",
       "    </tr>\n",
       "    <tr>\n",
       "      <th>3</th>\n",
       "      <td>female</td>\n",
       "      <td>group B</td>\n",
       "      <td>bachelor's degree</td>\n",
       "      <td>standard</td>\n",
       "      <td>none</td>\n",
       "      <td>72</td>\n",
       "      <td>72</td>\n",
       "      <td>74</td>\n",
       "      <td>group B</td>\n",
       "      <td>master's degree</td>\n",
       "      <td>standard</td>\n",
       "      <td>none</td>\n",
       "      <td>90</td>\n",
       "      <td>95</td>\n",
       "      <td>93</td>\n",
       "    </tr>\n",
       "    <tr>\n",
       "      <th>4</th>\n",
       "      <td>female</td>\n",
       "      <td>group B</td>\n",
       "      <td>bachelor's degree</td>\n",
       "      <td>standard</td>\n",
       "      <td>none</td>\n",
       "      <td>72</td>\n",
       "      <td>72</td>\n",
       "      <td>74</td>\n",
       "      <td>group C</td>\n",
       "      <td>some college</td>\n",
       "      <td>standard</td>\n",
       "      <td>completed</td>\n",
       "      <td>69</td>\n",
       "      <td>90</td>\n",
       "      <td>88</td>\n",
       "    </tr>\n",
       "    <tr>\n",
       "      <th>5</th>\n",
       "      <td>female</td>\n",
       "      <td>group B</td>\n",
       "      <td>bachelor's degree</td>\n",
       "      <td>standard</td>\n",
       "      <td>none</td>\n",
       "      <td>72</td>\n",
       "      <td>72</td>\n",
       "      <td>74</td>\n",
       "      <td>group B</td>\n",
       "      <td>bachelor's degree</td>\n",
       "      <td>standard</td>\n",
       "      <td>none</td>\n",
       "      <td>72</td>\n",
       "      <td>72</td>\n",
       "      <td>74</td>\n",
       "    </tr>\n",
       "    <tr>\n",
       "      <th>6</th>\n",
       "      <td>female</td>\n",
       "      <td>group C</td>\n",
       "      <td>some college</td>\n",
       "      <td>standard</td>\n",
       "      <td>completed</td>\n",
       "      <td>69</td>\n",
       "      <td>90</td>\n",
       "      <td>88</td>\n",
       "      <td>group B</td>\n",
       "      <td>high school</td>\n",
       "      <td>free/reduced</td>\n",
       "      <td>none</td>\n",
       "      <td>38</td>\n",
       "      <td>60</td>\n",
       "      <td>50</td>\n",
       "    </tr>\n",
       "    <tr>\n",
       "      <th>7</th>\n",
       "      <td>female</td>\n",
       "      <td>group C</td>\n",
       "      <td>some college</td>\n",
       "      <td>standard</td>\n",
       "      <td>completed</td>\n",
       "      <td>69</td>\n",
       "      <td>90</td>\n",
       "      <td>88</td>\n",
       "      <td>group B</td>\n",
       "      <td>some college</td>\n",
       "      <td>standard</td>\n",
       "      <td>completed</td>\n",
       "      <td>88</td>\n",
       "      <td>95</td>\n",
       "      <td>92</td>\n",
       "    </tr>\n",
       "    <tr>\n",
       "      <th>8</th>\n",
       "      <td>female</td>\n",
       "      <td>group C</td>\n",
       "      <td>some college</td>\n",
       "      <td>standard</td>\n",
       "      <td>completed</td>\n",
       "      <td>69</td>\n",
       "      <td>90</td>\n",
       "      <td>88</td>\n",
       "      <td>group B</td>\n",
       "      <td>associate's degree</td>\n",
       "      <td>standard</td>\n",
       "      <td>none</td>\n",
       "      <td>71</td>\n",
       "      <td>83</td>\n",
       "      <td>78</td>\n",
       "    </tr>\n",
       "    <tr>\n",
       "      <th>9</th>\n",
       "      <td>female</td>\n",
       "      <td>group C</td>\n",
       "      <td>some college</td>\n",
       "      <td>standard</td>\n",
       "      <td>completed</td>\n",
       "      <td>69</td>\n",
       "      <td>90</td>\n",
       "      <td>88</td>\n",
       "      <td>group B</td>\n",
       "      <td>master's degree</td>\n",
       "      <td>standard</td>\n",
       "      <td>none</td>\n",
       "      <td>90</td>\n",
       "      <td>95</td>\n",
       "      <td>93</td>\n",
       "    </tr>\n",
       "    <tr>\n",
       "      <th>10</th>\n",
       "      <td>female</td>\n",
       "      <td>group C</td>\n",
       "      <td>some college</td>\n",
       "      <td>standard</td>\n",
       "      <td>completed</td>\n",
       "      <td>69</td>\n",
       "      <td>90</td>\n",
       "      <td>88</td>\n",
       "      <td>group C</td>\n",
       "      <td>some college</td>\n",
       "      <td>standard</td>\n",
       "      <td>completed</td>\n",
       "      <td>69</td>\n",
       "      <td>90</td>\n",
       "      <td>88</td>\n",
       "    </tr>\n",
       "    <tr>\n",
       "      <th>11</th>\n",
       "      <td>female</td>\n",
       "      <td>group C</td>\n",
       "      <td>some college</td>\n",
       "      <td>standard</td>\n",
       "      <td>completed</td>\n",
       "      <td>69</td>\n",
       "      <td>90</td>\n",
       "      <td>88</td>\n",
       "      <td>group B</td>\n",
       "      <td>bachelor's degree</td>\n",
       "      <td>standard</td>\n",
       "      <td>none</td>\n",
       "      <td>72</td>\n",
       "      <td>72</td>\n",
       "      <td>74</td>\n",
       "    </tr>\n",
       "    <tr>\n",
       "      <th>12</th>\n",
       "      <td>female</td>\n",
       "      <td>group B</td>\n",
       "      <td>master's degree</td>\n",
       "      <td>standard</td>\n",
       "      <td>none</td>\n",
       "      <td>90</td>\n",
       "      <td>95</td>\n",
       "      <td>93</td>\n",
       "      <td>group B</td>\n",
       "      <td>high school</td>\n",
       "      <td>free/reduced</td>\n",
       "      <td>none</td>\n",
       "      <td>38</td>\n",
       "      <td>60</td>\n",
       "      <td>50</td>\n",
       "    </tr>\n",
       "    <tr>\n",
       "      <th>13</th>\n",
       "      <td>female</td>\n",
       "      <td>group B</td>\n",
       "      <td>master's degree</td>\n",
       "      <td>standard</td>\n",
       "      <td>none</td>\n",
       "      <td>90</td>\n",
       "      <td>95</td>\n",
       "      <td>93</td>\n",
       "      <td>group B</td>\n",
       "      <td>some college</td>\n",
       "      <td>standard</td>\n",
       "      <td>completed</td>\n",
       "      <td>88</td>\n",
       "      <td>95</td>\n",
       "      <td>92</td>\n",
       "    </tr>\n",
       "    <tr>\n",
       "      <th>14</th>\n",
       "      <td>female</td>\n",
       "      <td>group B</td>\n",
       "      <td>master's degree</td>\n",
       "      <td>standard</td>\n",
       "      <td>none</td>\n",
       "      <td>90</td>\n",
       "      <td>95</td>\n",
       "      <td>93</td>\n",
       "      <td>group B</td>\n",
       "      <td>associate's degree</td>\n",
       "      <td>standard</td>\n",
       "      <td>none</td>\n",
       "      <td>71</td>\n",
       "      <td>83</td>\n",
       "      <td>78</td>\n",
       "    </tr>\n",
       "    <tr>\n",
       "      <th>15</th>\n",
       "      <td>female</td>\n",
       "      <td>group B</td>\n",
       "      <td>master's degree</td>\n",
       "      <td>standard</td>\n",
       "      <td>none</td>\n",
       "      <td>90</td>\n",
       "      <td>95</td>\n",
       "      <td>93</td>\n",
       "      <td>group B</td>\n",
       "      <td>master's degree</td>\n",
       "      <td>standard</td>\n",
       "      <td>none</td>\n",
       "      <td>90</td>\n",
       "      <td>95</td>\n",
       "      <td>93</td>\n",
       "    </tr>\n",
       "    <tr>\n",
       "      <th>16</th>\n",
       "      <td>female</td>\n",
       "      <td>group B</td>\n",
       "      <td>master's degree</td>\n",
       "      <td>standard</td>\n",
       "      <td>none</td>\n",
       "      <td>90</td>\n",
       "      <td>95</td>\n",
       "      <td>93</td>\n",
       "      <td>group C</td>\n",
       "      <td>some college</td>\n",
       "      <td>standard</td>\n",
       "      <td>completed</td>\n",
       "      <td>69</td>\n",
       "      <td>90</td>\n",
       "      <td>88</td>\n",
       "    </tr>\n",
       "    <tr>\n",
       "      <th>17</th>\n",
       "      <td>female</td>\n",
       "      <td>group B</td>\n",
       "      <td>master's degree</td>\n",
       "      <td>standard</td>\n",
       "      <td>none</td>\n",
       "      <td>90</td>\n",
       "      <td>95</td>\n",
       "      <td>93</td>\n",
       "      <td>group B</td>\n",
       "      <td>bachelor's degree</td>\n",
       "      <td>standard</td>\n",
       "      <td>none</td>\n",
       "      <td>72</td>\n",
       "      <td>72</td>\n",
       "      <td>74</td>\n",
       "    </tr>\n",
       "    <tr>\n",
       "      <th>18</th>\n",
       "      <td>male</td>\n",
       "      <td>group A</td>\n",
       "      <td>associate's degree</td>\n",
       "      <td>free/reduced</td>\n",
       "      <td>none</td>\n",
       "      <td>47</td>\n",
       "      <td>57</td>\n",
       "      <td>44</td>\n",
       "      <td>group D</td>\n",
       "      <td>high school</td>\n",
       "      <td>free/reduced</td>\n",
       "      <td>completed</td>\n",
       "      <td>64</td>\n",
       "      <td>64</td>\n",
       "      <td>67</td>\n",
       "    </tr>\n",
       "    <tr>\n",
       "      <th>19</th>\n",
       "      <td>male</td>\n",
       "      <td>group A</td>\n",
       "      <td>associate's degree</td>\n",
       "      <td>free/reduced</td>\n",
       "      <td>none</td>\n",
       "      <td>47</td>\n",
       "      <td>57</td>\n",
       "      <td>44</td>\n",
       "      <td>group B</td>\n",
       "      <td>some college</td>\n",
       "      <td>free/reduced</td>\n",
       "      <td>none</td>\n",
       "      <td>40</td>\n",
       "      <td>43</td>\n",
       "      <td>39</td>\n",
       "    </tr>\n",
       "    <tr>\n",
       "      <th>20</th>\n",
       "      <td>male</td>\n",
       "      <td>group A</td>\n",
       "      <td>associate's degree</td>\n",
       "      <td>free/reduced</td>\n",
       "      <td>none</td>\n",
       "      <td>47</td>\n",
       "      <td>57</td>\n",
       "      <td>44</td>\n",
       "      <td>group C</td>\n",
       "      <td>some college</td>\n",
       "      <td>standard</td>\n",
       "      <td>none</td>\n",
       "      <td>76</td>\n",
       "      <td>78</td>\n",
       "      <td>75</td>\n",
       "    </tr>\n",
       "    <tr>\n",
       "      <th>21</th>\n",
       "      <td>male</td>\n",
       "      <td>group A</td>\n",
       "      <td>associate's degree</td>\n",
       "      <td>free/reduced</td>\n",
       "      <td>none</td>\n",
       "      <td>47</td>\n",
       "      <td>57</td>\n",
       "      <td>44</td>\n",
       "      <td>group A</td>\n",
       "      <td>associate's degree</td>\n",
       "      <td>free/reduced</td>\n",
       "      <td>none</td>\n",
       "      <td>47</td>\n",
       "      <td>57</td>\n",
       "      <td>44</td>\n",
       "    </tr>\n",
       "    <tr>\n",
       "      <th>22</th>\n",
       "      <td>male</td>\n",
       "      <td>group C</td>\n",
       "      <td>some college</td>\n",
       "      <td>standard</td>\n",
       "      <td>none</td>\n",
       "      <td>76</td>\n",
       "      <td>78</td>\n",
       "      <td>75</td>\n",
       "      <td>group D</td>\n",
       "      <td>high school</td>\n",
       "      <td>free/reduced</td>\n",
       "      <td>completed</td>\n",
       "      <td>64</td>\n",
       "      <td>64</td>\n",
       "      <td>67</td>\n",
       "    </tr>\n",
       "    <tr>\n",
       "      <th>23</th>\n",
       "      <td>male</td>\n",
       "      <td>group C</td>\n",
       "      <td>some college</td>\n",
       "      <td>standard</td>\n",
       "      <td>none</td>\n",
       "      <td>76</td>\n",
       "      <td>78</td>\n",
       "      <td>75</td>\n",
       "      <td>group B</td>\n",
       "      <td>some college</td>\n",
       "      <td>free/reduced</td>\n",
       "      <td>none</td>\n",
       "      <td>40</td>\n",
       "      <td>43</td>\n",
       "      <td>39</td>\n",
       "    </tr>\n",
       "    <tr>\n",
       "      <th>24</th>\n",
       "      <td>male</td>\n",
       "      <td>group C</td>\n",
       "      <td>some college</td>\n",
       "      <td>standard</td>\n",
       "      <td>none</td>\n",
       "      <td>76</td>\n",
       "      <td>78</td>\n",
       "      <td>75</td>\n",
       "      <td>group C</td>\n",
       "      <td>some college</td>\n",
       "      <td>standard</td>\n",
       "      <td>none</td>\n",
       "      <td>76</td>\n",
       "      <td>78</td>\n",
       "      <td>75</td>\n",
       "    </tr>\n",
       "    <tr>\n",
       "      <th>25</th>\n",
       "      <td>male</td>\n",
       "      <td>group C</td>\n",
       "      <td>some college</td>\n",
       "      <td>standard</td>\n",
       "      <td>none</td>\n",
       "      <td>76</td>\n",
       "      <td>78</td>\n",
       "      <td>75</td>\n",
       "      <td>group A</td>\n",
       "      <td>associate's degree</td>\n",
       "      <td>free/reduced</td>\n",
       "      <td>none</td>\n",
       "      <td>47</td>\n",
       "      <td>57</td>\n",
       "      <td>44</td>\n",
       "    </tr>\n",
       "  </tbody>\n",
       "</table>\n",
       "</div>"
      ],
      "text/plain": [
       "    gender race/ethnicity parental level of education         lunch  \\\n",
       "0   female        group B           bachelor's degree      standard   \n",
       "1   female        group B           bachelor's degree      standard   \n",
       "2   female        group B           bachelor's degree      standard   \n",
       "3   female        group B           bachelor's degree      standard   \n",
       "4   female        group B           bachelor's degree      standard   \n",
       "5   female        group B           bachelor's degree      standard   \n",
       "6   female        group C                some college      standard   \n",
       "7   female        group C                some college      standard   \n",
       "8   female        group C                some college      standard   \n",
       "9   female        group C                some college      standard   \n",
       "10  female        group C                some college      standard   \n",
       "11  female        group C                some college      standard   \n",
       "12  female        group B             master's degree      standard   \n",
       "13  female        group B             master's degree      standard   \n",
       "14  female        group B             master's degree      standard   \n",
       "15  female        group B             master's degree      standard   \n",
       "16  female        group B             master's degree      standard   \n",
       "17  female        group B             master's degree      standard   \n",
       "18    male        group A          associate's degree  free/reduced   \n",
       "19    male        group A          associate's degree  free/reduced   \n",
       "20    male        group A          associate's degree  free/reduced   \n",
       "21    male        group A          associate's degree  free/reduced   \n",
       "22    male        group C                some college      standard   \n",
       "23    male        group C                some college      standard   \n",
       "24    male        group C                some college      standard   \n",
       "25    male        group C                some college      standard   \n",
       "\n",
       "   test preparation course  math score  reading score  writing score  \\\n",
       "0                     none          72             72             74   \n",
       "1                     none          72             72             74   \n",
       "2                     none          72             72             74   \n",
       "3                     none          72             72             74   \n",
       "4                     none          72             72             74   \n",
       "5                     none          72             72             74   \n",
       "6                completed          69             90             88   \n",
       "7                completed          69             90             88   \n",
       "8                completed          69             90             88   \n",
       "9                completed          69             90             88   \n",
       "10               completed          69             90             88   \n",
       "11               completed          69             90             88   \n",
       "12                    none          90             95             93   \n",
       "13                    none          90             95             93   \n",
       "14                    none          90             95             93   \n",
       "15                    none          90             95             93   \n",
       "16                    none          90             95             93   \n",
       "17                    none          90             95             93   \n",
       "18                    none          47             57             44   \n",
       "19                    none          47             57             44   \n",
       "20                    none          47             57             44   \n",
       "21                    none          47             57             44   \n",
       "22                    none          76             78             75   \n",
       "23                    none          76             78             75   \n",
       "24                    none          76             78             75   \n",
       "25                    none          76             78             75   \n",
       "\n",
       "   race/ethnicity parental level of education         lunch  \\\n",
       "0         group B                 high school  free/reduced   \n",
       "1         group B                some college      standard   \n",
       "2         group B          associate's degree      standard   \n",
       "3         group B             master's degree      standard   \n",
       "4         group C                some college      standard   \n",
       "5         group B           bachelor's degree      standard   \n",
       "6         group B                 high school  free/reduced   \n",
       "7         group B                some college      standard   \n",
       "8         group B          associate's degree      standard   \n",
       "9         group B             master's degree      standard   \n",
       "10        group C                some college      standard   \n",
       "11        group B           bachelor's degree      standard   \n",
       "12        group B                 high school  free/reduced   \n",
       "13        group B                some college      standard   \n",
       "14        group B          associate's degree      standard   \n",
       "15        group B             master's degree      standard   \n",
       "16        group C                some college      standard   \n",
       "17        group B           bachelor's degree      standard   \n",
       "18        group D                 high school  free/reduced   \n",
       "19        group B                some college  free/reduced   \n",
       "20        group C                some college      standard   \n",
       "21        group A          associate's degree  free/reduced   \n",
       "22        group D                 high school  free/reduced   \n",
       "23        group B                some college  free/reduced   \n",
       "24        group C                some college      standard   \n",
       "25        group A          associate's degree  free/reduced   \n",
       "\n",
       "   test preparation course  math score  reading score  writing score  \n",
       "0                     none          38             60             50  \n",
       "1                completed          88             95             92  \n",
       "2                     none          71             83             78  \n",
       "3                     none          90             95             93  \n",
       "4                completed          69             90             88  \n",
       "5                     none          72             72             74  \n",
       "6                     none          38             60             50  \n",
       "7                completed          88             95             92  \n",
       "8                     none          71             83             78  \n",
       "9                     none          90             95             93  \n",
       "10               completed          69             90             88  \n",
       "11                    none          72             72             74  \n",
       "12                    none          38             60             50  \n",
       "13               completed          88             95             92  \n",
       "14                    none          71             83             78  \n",
       "15                    none          90             95             93  \n",
       "16               completed          69             90             88  \n",
       "17                    none          72             72             74  \n",
       "18               completed          64             64             67  \n",
       "19                    none          40             43             39  \n",
       "20                    none          76             78             75  \n",
       "21                    none          47             57             44  \n",
       "22               completed          64             64             67  \n",
       "23                    none          40             43             39  \n",
       "24                    none          76             78             75  \n",
       "25                    none          47             57             44  "
      ]
     },
     "execution_count": 118,
     "metadata": {},
     "output_type": "execute_result"
    }
   ],
   "source": [
    "students.limit(5).join(students.limit(10).hint(\"broadcast\"), \"gender\").toPandas()"
   ]
  },
  {
   "cell_type": "code",
   "execution_count": null,
   "id": "f2ebc42f-12ef-4e8c-994d-85df91c50e1d",
   "metadata": {},
   "outputs": [],
   "source": []
  },
  {
   "cell_type": "markdown",
   "id": "f97a6c83-6e01-4136-be2c-8fa7d3ff34f6",
   "metadata": {},
   "source": [
    "#### intersect()"
   ]
  },
  {
   "cell_type": "code",
   "execution_count": 128,
   "id": "608351d4-4724-4a94-b07b-21430d152554",
   "metadata": {},
   "outputs": [],
   "source": [
    "data1 = [(\"Alice\", 25), (\"Bob\", 30), (\"Charlie\", 28)]\n",
    "data2 = [(\"Alice\", 25), (\"David\", 32), (\"Eve\", 26)]\n",
    "columns = [\"name\", \"age\"]\n",
    "\n",
    "df1 = spark.createDataFrame(data1, columns)\n",
    "df2 = spark.createDataFrame(data2, columns)"
   ]
  },
  {
   "cell_type": "code",
   "execution_count": 129,
   "id": "1fa56a51-0881-49a4-bbbc-64217ad64e40",
   "metadata": {},
   "outputs": [
    {
     "name": "stdout",
     "output_type": "stream",
     "text": [
      "+-----+---+\n",
      "| name|age|\n",
      "+-----+---+\n",
      "|Alice| 25|\n",
      "+-----+---+\n",
      "\n"
     ]
    }
   ],
   "source": [
    "intersect_df = df1.intersect(df2)\n",
    "intersect_df.show()"
   ]
  },
  {
   "cell_type": "code",
   "execution_count": null,
   "id": "7b57a950-934e-422f-bc78-8dcdfb2f210b",
   "metadata": {},
   "outputs": [],
   "source": []
  },
  {
   "cell_type": "markdown",
   "id": "3eb1d5e7-df7e-4d85-bbe3-7164915c17e9",
   "metadata": {},
   "source": [
    "#### intersectAll()"
   ]
  },
  {
   "cell_type": "code",
   "execution_count": 131,
   "id": "e80beac9-9371-4cae-9eb1-bfdbd60ef10b",
   "metadata": {},
   "outputs": [],
   "source": [
    "data3 = [(\"Alice\", 25), (\"Charlie\", 28), (\"Frank\", 22)]\n",
    "df3 = spark.createDataFrame(data3, columns)"
   ]
  },
  {
   "cell_type": "code",
   "execution_count": 132,
   "id": "b8b64a87-3eef-4ee3-914e-b6ece6d35fc5",
   "metadata": {},
   "outputs": [
    {
     "name": "stdout",
     "output_type": "stream",
     "text": [
      "+-----+---+\n",
      "| name|age|\n",
      "+-----+---+\n",
      "|Alice| 25|\n",
      "+-----+---+\n",
      "\n",
      "+-----+---+\n",
      "| name|age|\n",
      "+-----+---+\n",
      "|Alice| 25|\n",
      "+-----+---+\n",
      "\n"
     ]
    }
   ],
   "source": [
    "df1.intersectAll(df2).show()\n",
    "intersect_all_df = df1.intersectAll(df2).intersectAll(df3).show()"
   ]
  },
  {
   "cell_type": "markdown",
   "id": "213e393f-a679-4959-aa60-f04fe2a8fd3a",
   "metadata": {},
   "source": [
    "#### isLocal()"
   ]
  },
  {
   "cell_type": "code",
   "execution_count": 135,
   "id": "eec47f90-76af-4b32-a53c-0a8c8acc7fb3",
   "metadata": {},
   "outputs": [
    {
     "name": "stdout",
     "output_type": "stream",
     "text": [
      "Local\n"
     ]
    }
   ],
   "source": [
    "if tour.isLocal:\n",
    "    print(\"Local\")\n",
    "else:\n",
    "    print(\"Cluster\")"
   ]
  },
  {
   "cell_type": "code",
   "execution_count": null,
   "id": "eb7085cd-24a8-46fd-9205-98f061a66565",
   "metadata": {},
   "outputs": [],
   "source": []
  },
  {
   "cell_type": "markdown",
   "id": "f62a783f-99a4-49a3-a853-dd5f7111e3b5",
   "metadata": {},
   "source": [
    "#### isStreaming (property)"
   ]
  },
  {
   "cell_type": "code",
   "execution_count": 138,
   "id": "b6d7dad8-c013-4598-9e65-3fedb6ae0f54",
   "metadata": {},
   "outputs": [
    {
     "data": {
      "text/plain": [
       "False"
      ]
     },
     "execution_count": 138,
     "metadata": {},
     "output_type": "execute_result"
    }
   ],
   "source": [
    "tour.isStreaming"
   ]
  },
  {
   "cell_type": "code",
   "execution_count": null,
   "id": "a66bc6df-ad0b-47fc-9fb7-2b98150eb413",
   "metadata": {},
   "outputs": [],
   "source": []
  },
  {
   "cell_type": "markdown",
   "id": "d0da8bb7-3545-4ce6-a927-515fdbedd493",
   "metadata": {},
   "source": [
    "### join"
   ]
  },
  {
   "cell_type": "code",
   "execution_count": null,
   "id": "bf0197b6-ec5e-4252-9487-f3e46face03c",
   "metadata": {},
   "outputs": [],
   "source": []
  },
  {
   "cell_type": "code",
   "execution_count": null,
   "id": "dd5eed20-6c6a-4e19-a1c4-36f5008bc6e7",
   "metadata": {},
   "outputs": [],
   "source": []
  },
  {
   "cell_type": "code",
   "execution_count": null,
   "id": "51e5102f-0e44-489d-a558-1dd001047209",
   "metadata": {},
   "outputs": [],
   "source": []
  },
  {
   "cell_type": "code",
   "execution_count": null,
   "id": "b121a8b5-6f74-442d-a663-ef6cf75ba257",
   "metadata": {},
   "outputs": [],
   "source": []
  },
  {
   "cell_type": "code",
   "execution_count": null,
   "id": "78a1dc25-861f-494c-9424-af823ba8a1f4",
   "metadata": {},
   "outputs": [],
   "source": []
  },
  {
   "cell_type": "code",
   "execution_count": null,
   "id": "f050cc3d-114a-4d3a-b344-0e874ead6461",
   "metadata": {},
   "outputs": [],
   "source": []
  },
  {
   "cell_type": "code",
   "execution_count": null,
   "id": "b29bf718-05da-4d43-a4a6-6eafef39629c",
   "metadata": {},
   "outputs": [],
   "source": []
  },
  {
   "cell_type": "code",
   "execution_count": null,
   "id": "a7a05a47-67b2-449e-93b8-760196e11706",
   "metadata": {},
   "outputs": [],
   "source": []
  },
  {
   "cell_type": "code",
   "execution_count": null,
   "id": "c70200e5-9e07-44e3-8e68-c161be0f0691",
   "metadata": {},
   "outputs": [],
   "source": []
  },
  {
   "cell_type": "code",
   "execution_count": null,
   "id": "91b5df5f-d2a0-496c-b2b4-e7ef05dd0334",
   "metadata": {},
   "outputs": [],
   "source": []
  },
  {
   "cell_type": "code",
   "execution_count": null,
   "id": "185fd076-bfc1-4bb5-a4be-077a7427e20c",
   "metadata": {},
   "outputs": [],
   "source": []
  },
  {
   "cell_type": "markdown",
   "id": "eeffb96e-fcf2-4472-8b3d-d5027103e4e7",
   "metadata": {},
   "source": [
    "#### limit()"
   ]
  },
  {
   "cell_type": "code",
   "execution_count": 119,
   "id": "1ee82221-30cd-4751-b6bb-cf0681fd7557",
   "metadata": {},
   "outputs": [
    {
     "data": {
      "text/plain": [
       "DataFrame[Player Name: string, Season: int, Statistic: string, Variable: string, Value: string]"
      ]
     },
     "execution_count": 119,
     "metadata": {},
     "output_type": "execute_result"
    }
   ],
   "source": [
    "tour.limit(5)"
   ]
  },
  {
   "cell_type": "markdown",
   "id": "3baaa165-aa85-4001-ba40-f9d364f923a3",
   "metadata": {},
   "source": [
    "#### localCheckpoint()"
   ]
  },
  {
   "cell_type": "code",
   "execution_count": null,
   "id": "03df9d26-9128-4e3f-b8f6-3036f465eb6f",
   "metadata": {},
   "outputs": [],
   "source": []
  },
  {
   "cell_type": "code",
   "execution_count": null,
   "id": "bd9b34d0-1b2f-432e-91e8-5f929071cfd1",
   "metadata": {},
   "outputs": [],
   "source": []
  },
  {
   "cell_type": "markdown",
   "id": "5a784486-d4e2-4297-b442-f539bc6bbf28",
   "metadata": {},
   "source": [
    "#### mapInPandas()"
   ]
  },
  {
   "cell_type": "code",
   "execution_count": null,
   "id": "9aad1706-0c32-44e5-bd5d-1ce1497d874e",
   "metadata": {},
   "outputs": [],
   "source": []
  },
  {
   "cell_type": "code",
   "execution_count": null,
   "id": "9427db6b-49b3-47dc-b6eb-e2bec618c1c6",
   "metadata": {},
   "outputs": [],
   "source": []
  },
  {
   "cell_type": "code",
   "execution_count": null,
   "id": "7f3a8519-ed2b-4431-9892-a8a7615f26f1",
   "metadata": {},
   "outputs": [],
   "source": []
  },
  {
   "cell_type": "markdown",
   "id": "3fecdb93-3895-4b05-a242-037b84a43dd8",
   "metadata": {},
   "source": [
    "#### na (property)"
   ]
  },
  {
   "cell_type": "code",
   "execution_count": 122,
   "id": "2d56d4f3-07be-4e21-819c-90e422fc8029",
   "metadata": {},
   "outputs": [
    {
     "data": {
      "text/plain": [
       "<pyspark.sql.dataframe.DataFrameNaFunctions at 0x11f666550>"
      ]
     },
     "execution_count": 122,
     "metadata": {},
     "output_type": "execute_result"
    }
   ],
   "source": [
    "tour.na"
   ]
  },
  {
   "cell_type": "code",
   "execution_count": null,
   "id": "e329d718-dfe3-4688-9772-751f941b4805",
   "metadata": {},
   "outputs": [],
   "source": []
  },
  {
   "cell_type": "code",
   "execution_count": null,
   "id": "e501c36f-2ffb-49b9-968c-869825488028",
   "metadata": {},
   "outputs": [],
   "source": []
  },
  {
   "cell_type": "markdown",
   "id": "6338d966-be40-4636-970d-a97c77becf45",
   "metadata": {},
   "source": [
    "#### orderBy()"
   ]
  },
  {
   "cell_type": "code",
   "execution_count": null,
   "id": "bb03e0f7-8204-48b5-b975-09f11cf86198",
   "metadata": {},
   "outputs": [],
   "source": []
  },
  {
   "cell_type": "code",
   "execution_count": null,
   "id": "60a4b0ba-5686-474b-8b1c-e3835c4f4750",
   "metadata": {},
   "outputs": [],
   "source": []
  },
  {
   "cell_type": "code",
   "execution_count": null,
   "id": "e1a091d6-eabe-4078-9791-19635c8033e0",
   "metadata": {},
   "outputs": [],
   "source": []
  },
  {
   "cell_type": "code",
   "execution_count": null,
   "id": "1e3aa755-d6d8-4f5f-b4ff-0cce3d9543b7",
   "metadata": {},
   "outputs": [],
   "source": []
  },
  {
   "cell_type": "markdown",
   "id": "d2041e00-8589-4f51-acb1-4fff0d0e490c",
   "metadata": {},
   "source": [
    "#### persist()"
   ]
  },
  {
   "cell_type": "code",
   "execution_count": null,
   "id": "9b956545-0383-477e-a388-1470d7cacbbc",
   "metadata": {},
   "outputs": [],
   "source": []
  },
  {
   "cell_type": "code",
   "execution_count": null,
   "id": "1dbc5dd2-1dbb-4dbb-ad65-e43dbcde3dd6",
   "metadata": {},
   "outputs": [],
   "source": []
  },
  {
   "cell_type": "markdown",
   "id": "54519abb-22fd-4851-b20d-fd8c327ee1bb",
   "metadata": {},
   "source": [
    "#### printSchema()"
   ]
  },
  {
   "cell_type": "code",
   "execution_count": 123,
   "id": "728b2f4f-0dec-49a9-a400-625890a66699",
   "metadata": {},
   "outputs": [
    {
     "name": "stdout",
     "output_type": "stream",
     "text": [
      "root\n",
      " |-- Player Name: string (nullable = true)\n",
      " |-- Season: integer (nullable = true)\n",
      " |-- Statistic: string (nullable = true)\n",
      " |-- Variable: string (nullable = true)\n",
      " |-- Value: string (nullable = true)\n",
      "\n"
     ]
    }
   ],
   "source": [
    "tour.printSchema()"
   ]
  },
  {
   "cell_type": "code",
   "execution_count": null,
   "id": "d711277c-d395-4055-9516-ce932f3ee9dd",
   "metadata": {},
   "outputs": [],
   "source": []
  },
  {
   "cell_type": "markdown",
   "id": "948eb80a-ca40-49e6-8bae-07451bef4538",
   "metadata": {},
   "source": [
    "#### randomSplit()"
   ]
  },
  {
   "cell_type": "code",
   "execution_count": 126,
   "id": "b6f3ee4b-0c81-4d24-9bb2-0903a5d8719f",
   "metadata": {},
   "outputs": [
    {
     "data": {
      "text/plain": [
       "[DataFrame[Player Name: string, Season: int, Statistic: string, Variable: string, Value: string],\n",
       " DataFrame[Player Name: string, Season: int, Statistic: string, Variable: string, Value: string]]"
      ]
     },
     "execution_count": 126,
     "metadata": {},
     "output_type": "execute_result"
    }
   ],
   "source": [
    "tour.randomSplit([1.0, 2.0], 24)"
   ]
  },
  {
   "cell_type": "code",
   "execution_count": null,
   "id": "b498a52e-1f5e-427b-b4b5-df02654ef80c",
   "metadata": {},
   "outputs": [],
   "source": []
  },
  {
   "cell_type": "markdown",
   "id": "c61e58ab-453d-4de3-b112-f1d23f03defc",
   "metadata": {},
   "source": [
    "#### rdd (property)"
   ]
  },
  {
   "cell_type": "code",
   "execution_count": 127,
   "id": "577db880-b24c-4994-8160-0f874b6dcb2c",
   "metadata": {},
   "outputs": [
    {
     "data": {
      "text/plain": [
       "MapPartitionsRDD[681] at javaToPython at NativeMethodAccessorImpl.java:0"
      ]
     },
     "execution_count": 127,
     "metadata": {},
     "output_type": "execute_result"
    }
   ],
   "source": [
    "tour.rdd"
   ]
  },
  {
   "cell_type": "code",
   "execution_count": null,
   "id": "4b345fdc-b22b-42c6-a830-3fd13cd5725c",
   "metadata": {},
   "outputs": [],
   "source": []
  },
  {
   "cell_type": "markdown",
   "id": "47ea6d46-5933-4bd2-9187-842b6af99d93",
   "metadata": {},
   "source": [
    "#### registerTempTable()"
   ]
  },
  {
   "cell_type": "code",
   "execution_count": null,
   "id": "68fc1d68-c81e-465d-851d-f619f13cf46a",
   "metadata": {},
   "outputs": [],
   "source": []
  },
  {
   "cell_type": "code",
   "execution_count": null,
   "id": "f10c029e-12b8-460b-99b4-2e8e98c03a5a",
   "metadata": {},
   "outputs": [],
   "source": []
  },
  {
   "cell_type": "code",
   "execution_count": null,
   "id": "ddb459c3-773e-47ca-bca1-5c866c6ff50b",
   "metadata": {},
   "outputs": [],
   "source": []
  },
  {
   "cell_type": "code",
   "execution_count": null,
   "id": "1e802468-26f3-4301-86bc-78534d5b15c2",
   "metadata": {},
   "outputs": [],
   "source": []
  },
  {
   "cell_type": "markdown",
   "id": "788d1294-fbb5-4e73-845a-a738b53875a8",
   "metadata": {},
   "source": [
    "#### repartition()"
   ]
  },
  {
   "cell_type": "code",
   "execution_count": null,
   "id": "7f25abf2-c19c-4946-89e8-6ed0c4d230c7",
   "metadata": {},
   "outputs": [],
   "source": []
  },
  {
   "cell_type": "code",
   "execution_count": null,
   "id": "0bde8735-2c45-4029-9701-a5dd549100dc",
   "metadata": {},
   "outputs": [],
   "source": []
  },
  {
   "cell_type": "code",
   "execution_count": null,
   "id": "e5f43589-e8ea-4b8e-91b0-b2f0db480a27",
   "metadata": {},
   "outputs": [],
   "source": []
  },
  {
   "cell_type": "markdown",
   "id": "1ca63880-d942-403f-8da8-d710f50327db",
   "metadata": {},
   "source": [
    "#### repartitionByRange()"
   ]
  },
  {
   "cell_type": "code",
   "execution_count": null,
   "id": "0e88a1a1-0572-425b-8661-7ed78cd0fa58",
   "metadata": {},
   "outputs": [],
   "source": []
  },
  {
   "cell_type": "code",
   "execution_count": null,
   "id": "36601429-2a9c-43d4-97a2-f30bc5e81d0b",
   "metadata": {},
   "outputs": [],
   "source": []
  },
  {
   "cell_type": "code",
   "execution_count": null,
   "id": "912bb9f7-ebce-4d13-9166-9d7801304d41",
   "metadata": {},
   "outputs": [],
   "source": []
  },
  {
   "cell_type": "markdown",
   "id": "8fa70b41-4b9d-4079-a89b-2d844081c6e1",
   "metadata": {},
   "source": [
    "#### replace()"
   ]
  },
  {
   "cell_type": "code",
   "execution_count": null,
   "id": "4abed7a6-c396-47fe-a7b0-0a36f1c9d9d3",
   "metadata": {},
   "outputs": [],
   "source": []
  },
  {
   "cell_type": "code",
   "execution_count": null,
   "id": "35ae1afd-a8e2-4d93-a63c-5831c8401009",
   "metadata": {},
   "outputs": [],
   "source": []
  },
  {
   "cell_type": "markdown",
   "id": "1cb39119-e6a1-403e-abf2-ca60a7f18834",
   "metadata": {},
   "source": [
    "#### rollup()"
   ]
  },
  {
   "cell_type": "code",
   "execution_count": null,
   "id": "0401b914-f886-4ac4-a6dc-58b8f367a5b2",
   "metadata": {},
   "outputs": [],
   "source": []
  },
  {
   "cell_type": "code",
   "execution_count": null,
   "id": "2bf350f2-00c5-41af-b063-7830b1daa142",
   "metadata": {},
   "outputs": [],
   "source": []
  },
  {
   "cell_type": "code",
   "execution_count": null,
   "id": "c80f803c-c7c2-4c4f-b730-0f9da3f60b3b",
   "metadata": {},
   "outputs": [],
   "source": []
  },
  {
   "cell_type": "code",
   "execution_count": null,
   "id": "6b254428-9f9b-493f-bd6d-20af3dfdb189",
   "metadata": {},
   "outputs": [],
   "source": []
  },
  {
   "cell_type": "markdown",
   "id": "ac39f877-a137-4668-bc8e-6a0c88ef23f6",
   "metadata": {},
   "source": [
    "#### sample()"
   ]
  },
  {
   "cell_type": "code",
   "execution_count": null,
   "id": "df4fa27f-8c50-482b-8dc8-5bd8f8e20ef8",
   "metadata": {},
   "outputs": [],
   "source": []
  },
  {
   "cell_type": "code",
   "execution_count": null,
   "id": "43f3ef62-fd19-4478-8fc7-b9624633e61e",
   "metadata": {},
   "outputs": [],
   "source": []
  },
  {
   "cell_type": "code",
   "execution_count": null,
   "id": "293336bc-d822-4341-aa43-b9c5dbaebdc7",
   "metadata": {},
   "outputs": [],
   "source": []
  },
  {
   "cell_type": "markdown",
   "id": "50446661-16a9-47a5-9b23-32f5061ae073",
   "metadata": {},
   "source": [
    "#### sampleBy()"
   ]
  },
  {
   "cell_type": "code",
   "execution_count": null,
   "id": "85cb66ad-462e-4dc0-ba32-18ed6904b974",
   "metadata": {},
   "outputs": [],
   "source": []
  },
  {
   "cell_type": "code",
   "execution_count": null,
   "id": "db6dba89-a845-409a-b880-a00b63de9d2e",
   "metadata": {},
   "outputs": [],
   "source": []
  },
  {
   "cell_type": "code",
   "execution_count": null,
   "id": "f478c8e9-4152-4b3f-b793-9f14cc622863",
   "metadata": {},
   "outputs": [],
   "source": []
  },
  {
   "cell_type": "markdown",
   "id": "ba332a39-a1ac-4ddd-83b1-34dc33207cc4",
   "metadata": {},
   "source": [
    "#### schema (property)"
   ]
  },
  {
   "cell_type": "code",
   "execution_count": null,
   "id": "fe4bfbf9-fd77-4a50-8f98-9c3d600b0a10",
   "metadata": {},
   "outputs": [],
   "source": []
  },
  {
   "cell_type": "code",
   "execution_count": null,
   "id": "308714df-104a-4909-9575-2c8424905ffb",
   "metadata": {},
   "outputs": [],
   "source": []
  },
  {
   "cell_type": "code",
   "execution_count": null,
   "id": "8291a9ac-ecde-476e-b341-2e6ac2a9d5c1",
   "metadata": {},
   "outputs": [],
   "source": []
  },
  {
   "cell_type": "markdown",
   "id": "b94ad4ec-39d6-4783-be38-492cc4bcd894",
   "metadata": {},
   "source": [
    "#### select()"
   ]
  },
  {
   "cell_type": "code",
   "execution_count": null,
   "id": "ca2621b0-d2ca-4615-bdfa-b76ef439403a",
   "metadata": {},
   "outputs": [],
   "source": []
  },
  {
   "cell_type": "code",
   "execution_count": null,
   "id": "87740f87-e0e6-4bfa-8cb4-292d9a8f62ae",
   "metadata": {},
   "outputs": [],
   "source": []
  },
  {
   "cell_type": "code",
   "execution_count": null,
   "id": "f40e0219-45b9-424e-9b13-b05d8a7a0a78",
   "metadata": {},
   "outputs": [],
   "source": []
  },
  {
   "cell_type": "markdown",
   "id": "50ded84e-aea8-49da-b6e4-a84d87deb556",
   "metadata": {},
   "source": [
    "#### selectExpr()"
   ]
  },
  {
   "cell_type": "code",
   "execution_count": null,
   "id": "daee265d-2833-47b6-a85d-e11a50a11610",
   "metadata": {},
   "outputs": [],
   "source": []
  },
  {
   "cell_type": "code",
   "execution_count": null,
   "id": "62d847c5-fd62-4dd5-9204-601d6db4779c",
   "metadata": {},
   "outputs": [],
   "source": []
  },
  {
   "cell_type": "code",
   "execution_count": null,
   "id": "8d1e5178-fa3c-4268-a220-d890f92fc137",
   "metadata": {},
   "outputs": [],
   "source": []
  },
  {
   "cell_type": "markdown",
   "id": "e6312bfe-c8db-4dda-888f-193d0c52189d",
   "metadata": {},
   "source": [
    "#### show()"
   ]
  },
  {
   "cell_type": "code",
   "execution_count": null,
   "id": "96bb4e73-73e7-49a3-b6af-7780380e1ca6",
   "metadata": {},
   "outputs": [],
   "source": []
  },
  {
   "cell_type": "code",
   "execution_count": null,
   "id": "dad2abe2-1b63-4f29-89b0-9ffafc39b437",
   "metadata": {},
   "outputs": [],
   "source": []
  },
  {
   "cell_type": "code",
   "execution_count": null,
   "id": "9f1fd21d-f7f4-4126-96a7-4c01f51c2549",
   "metadata": {},
   "outputs": [],
   "source": []
  },
  {
   "cell_type": "code",
   "execution_count": null,
   "id": "1d8a614b-6f7d-4105-9e5d-67e3e0607bab",
   "metadata": {},
   "outputs": [],
   "source": []
  },
  {
   "cell_type": "markdown",
   "id": "663e1238-afcd-4813-94b8-06d44c912042",
   "metadata": {},
   "source": [
    "#### sort()"
   ]
  },
  {
   "cell_type": "code",
   "execution_count": null,
   "id": "2b0939b4-eff7-4616-8bf4-ca59272c4a8b",
   "metadata": {},
   "outputs": [],
   "source": []
  },
  {
   "cell_type": "code",
   "execution_count": null,
   "id": "61ca310a-1c68-4f99-a84c-ba8752452e00",
   "metadata": {},
   "outputs": [],
   "source": []
  },
  {
   "cell_type": "code",
   "execution_count": null,
   "id": "63a01a8b-a5d3-4560-909f-ff1d8306ca06",
   "metadata": {},
   "outputs": [],
   "source": []
  },
  {
   "cell_type": "code",
   "execution_count": null,
   "id": "8f0030a8-b89d-42a4-b065-ef4f0d585078",
   "metadata": {},
   "outputs": [],
   "source": []
  },
  {
   "cell_type": "code",
   "execution_count": null,
   "id": "d0f89037-b5e6-4966-ad13-7472359c7464",
   "metadata": {},
   "outputs": [],
   "source": []
  },
  {
   "cell_type": "markdown",
   "id": "aaf502ca-82f3-4379-b738-eb42759f0576",
   "metadata": {},
   "source": [
    "#### sortWithinPartitions()"
   ]
  },
  {
   "cell_type": "code",
   "execution_count": null,
   "id": "461b20d2-3099-4816-9be4-b2eb421d431b",
   "metadata": {},
   "outputs": [],
   "source": []
  },
  {
   "cell_type": "code",
   "execution_count": null,
   "id": "c82d95f7-77f9-4989-aa87-325ba43dee66",
   "metadata": {},
   "outputs": [],
   "source": []
  },
  {
   "cell_type": "code",
   "execution_count": null,
   "id": "7db53171-c241-47ae-83f1-6c18e6df4c29",
   "metadata": {},
   "outputs": [],
   "source": []
  },
  {
   "cell_type": "code",
   "execution_count": null,
   "id": "7ce41666-a6ed-4383-a12c-38db2b619ffa",
   "metadata": {},
   "outputs": [],
   "source": []
  },
  {
   "cell_type": "markdown",
   "id": "f0d948e8-584f-4715-a67d-327c7c5ffd1e",
   "metadata": {},
   "source": [
    "#### stat (property)"
   ]
  },
  {
   "cell_type": "code",
   "execution_count": null,
   "id": "1bf1a573-22a4-4589-942a-6ea499d4a19e",
   "metadata": {},
   "outputs": [],
   "source": []
  },
  {
   "cell_type": "code",
   "execution_count": null,
   "id": "8ae667e7-74d0-4ec4-b907-3454516756fb",
   "metadata": {},
   "outputs": [],
   "source": []
  },
  {
   "cell_type": "code",
   "execution_count": null,
   "id": "9e420e37-3d77-47ca-a93b-c1f0d0796276",
   "metadata": {},
   "outputs": [],
   "source": []
  },
  {
   "cell_type": "code",
   "execution_count": null,
   "id": "e73ed3b2-804f-4817-b8b8-060c97052a34",
   "metadata": {},
   "outputs": [],
   "source": []
  },
  {
   "cell_type": "markdown",
   "id": "b32a1cd9-ac79-415b-af97-6fd28d83a76d",
   "metadata": {},
   "source": [
    "#### storageLevel (property)"
   ]
  },
  {
   "cell_type": "code",
   "execution_count": null,
   "id": "1ba3f256-0c19-41c7-8439-db4588643ec5",
   "metadata": {},
   "outputs": [],
   "source": []
  },
  {
   "cell_type": "code",
   "execution_count": null,
   "id": "c35f2161-3840-4e46-a3ce-4349270777f7",
   "metadata": {},
   "outputs": [],
   "source": []
  },
  {
   "cell_type": "code",
   "execution_count": null,
   "id": "7b901373-766b-4373-ae8e-6ec4ecdb1270",
   "metadata": {},
   "outputs": [],
   "source": []
  },
  {
   "cell_type": "markdown",
   "id": "426c878d-162b-4589-bffd-12262295cd20",
   "metadata": {},
   "source": [
    "#### subtract()"
   ]
  },
  {
   "cell_type": "code",
   "execution_count": null,
   "id": "53198623-a499-4a72-866c-aac8aaae7081",
   "metadata": {},
   "outputs": [],
   "source": []
  },
  {
   "cell_type": "code",
   "execution_count": null,
   "id": "78f7525a-ab54-44ac-8f1c-4cc647c1f38f",
   "metadata": {},
   "outputs": [],
   "source": []
  },
  {
   "cell_type": "code",
   "execution_count": null,
   "id": "7b1d80df-f00e-445e-87a3-c6a4af60d146",
   "metadata": {},
   "outputs": [],
   "source": []
  },
  {
   "cell_type": "code",
   "execution_count": null,
   "id": "2f6cf94c-93a1-46f7-bc27-567dad7047b3",
   "metadata": {},
   "outputs": [],
   "source": []
  },
  {
   "cell_type": "markdown",
   "id": "4cac0597-aad9-4888-a2e9-d0e2158c9bf7",
   "metadata": {},
   "source": [
    "#### summary()"
   ]
  },
  {
   "cell_type": "code",
   "execution_count": null,
   "id": "88a97884-5194-43ee-80cf-93a9964baf46",
   "metadata": {},
   "outputs": [],
   "source": []
  },
  {
   "cell_type": "code",
   "execution_count": null,
   "id": "6ce129d7-de31-4d3c-a1a1-fd2c70bce20d",
   "metadata": {},
   "outputs": [],
   "source": []
  },
  {
   "cell_type": "code",
   "execution_count": null,
   "id": "d63dd48c-871d-4d70-8e8c-c00b2851e0fd",
   "metadata": {},
   "outputs": [],
   "source": []
  },
  {
   "cell_type": "markdown",
   "id": "839001a2-326e-43e7-b2a3-6d8eefc10b38",
   "metadata": {},
   "source": [
    "#### tail()"
   ]
  },
  {
   "cell_type": "code",
   "execution_count": null,
   "id": "adb7dad3-6576-40c4-bfb0-1ba4b2d12fdc",
   "metadata": {},
   "outputs": [],
   "source": []
  },
  {
   "cell_type": "code",
   "execution_count": null,
   "id": "78c48d95-f381-40b7-9078-d00b5ca7216f",
   "metadata": {},
   "outputs": [],
   "source": []
  },
  {
   "cell_type": "code",
   "execution_count": null,
   "id": "2227c19b-4a89-4285-9352-ce3c020a0a6a",
   "metadata": {},
   "outputs": [],
   "source": []
  },
  {
   "cell_type": "markdown",
   "id": "89bdd484-2a0d-42c9-b52b-e5043f90eb29",
   "metadata": {},
   "source": [
    "#### take()"
   ]
  },
  {
   "cell_type": "code",
   "execution_count": null,
   "id": "86a2338d-ec98-47ae-901f-76fbdc0182a2",
   "metadata": {},
   "outputs": [],
   "source": []
  },
  {
   "cell_type": "code",
   "execution_count": null,
   "id": "ca9f5e6b-97bf-4c77-a63f-06865ae52425",
   "metadata": {},
   "outputs": [],
   "source": []
  },
  {
   "cell_type": "code",
   "execution_count": null,
   "id": "1c3b255a-3f5d-40b1-a39f-6051ae5fb109",
   "metadata": {},
   "outputs": [],
   "source": []
  },
  {
   "cell_type": "markdown",
   "id": "968b223d-f7f0-4f19-811d-d0a9038cdf8d",
   "metadata": {},
   "source": [
    "#### toDF()"
   ]
  },
  {
   "cell_type": "code",
   "execution_count": null,
   "id": "1a4ff2c0-cae0-4119-b64a-1f58e8c49caf",
   "metadata": {},
   "outputs": [],
   "source": []
  },
  {
   "cell_type": "code",
   "execution_count": null,
   "id": "9e6a2f76-4a28-497f-8641-73a1fc2325d2",
   "metadata": {},
   "outputs": [],
   "source": []
  },
  {
   "cell_type": "code",
   "execution_count": null,
   "id": "094a0e46-a1bc-42de-a700-3ceb7dcee9a3",
   "metadata": {},
   "outputs": [],
   "source": []
  },
  {
   "cell_type": "markdown",
   "id": "8948af93-881a-4284-afd6-2d3daaa74915",
   "metadata": {},
   "source": [
    "#### toJSON()"
   ]
  },
  {
   "cell_type": "code",
   "execution_count": null,
   "id": "f59b6fd0-bc1f-44f7-8bc8-8de4a7f84351",
   "metadata": {},
   "outputs": [],
   "source": []
  },
  {
   "cell_type": "code",
   "execution_count": null,
   "id": "50f02e77-ab5c-49a5-b263-6ad98aa9d7a5",
   "metadata": {},
   "outputs": [],
   "source": []
  },
  {
   "cell_type": "code",
   "execution_count": null,
   "id": "fb063f69-b32f-4607-bf10-c5f70aedac9d",
   "metadata": {},
   "outputs": [],
   "source": []
  },
  {
   "cell_type": "markdown",
   "id": "af09e99b-83c2-496f-b7ec-ae189736aa61",
   "metadata": {},
   "source": [
    "#### toLocalIterator()"
   ]
  },
  {
   "cell_type": "code",
   "execution_count": null,
   "id": "0b576a05-2997-4386-b66b-87f302b8bf4b",
   "metadata": {},
   "outputs": [],
   "source": []
  },
  {
   "cell_type": "code",
   "execution_count": null,
   "id": "8ca1efab-63b6-477f-baf3-c155d04f39d1",
   "metadata": {},
   "outputs": [],
   "source": []
  },
  {
   "cell_type": "markdown",
   "id": "e568c7b9-9259-487c-8c44-e6768415cb87",
   "metadata": {},
   "source": [
    "#### toPandas()"
   ]
  },
  {
   "cell_type": "code",
   "execution_count": null,
   "id": "2f23e47a-c495-4c8a-87ed-f51b118ad582",
   "metadata": {},
   "outputs": [],
   "source": []
  },
  {
   "cell_type": "code",
   "execution_count": null,
   "id": "ca6eee41-5f03-4c4c-8f56-723b87f62848",
   "metadata": {},
   "outputs": [],
   "source": []
  },
  {
   "cell_type": "markdown",
   "id": "a91db564-15d2-4107-a6c0-3fd08fd53b81",
   "metadata": {},
   "source": [
    "#### transform()"
   ]
  },
  {
   "cell_type": "code",
   "execution_count": null,
   "id": "781b3251-1c58-4349-998a-02154bce1357",
   "metadata": {},
   "outputs": [],
   "source": []
  },
  {
   "cell_type": "code",
   "execution_count": null,
   "id": "7fd1e97d-34f9-44fd-998a-09582b05be32",
   "metadata": {},
   "outputs": [],
   "source": []
  },
  {
   "cell_type": "markdown",
   "id": "4af0accb-ec2a-4b77-b561-af48a32637ab",
   "metadata": {},
   "source": [
    "#### union()"
   ]
  },
  {
   "cell_type": "code",
   "execution_count": null,
   "id": "47de8b12-2a32-426c-81c6-b18f1fe914cc",
   "metadata": {},
   "outputs": [],
   "source": []
  },
  {
   "cell_type": "code",
   "execution_count": null,
   "id": "2dc79da3-236e-4d7d-a39e-eed571a57be6",
   "metadata": {},
   "outputs": [],
   "source": []
  },
  {
   "cell_type": "code",
   "execution_count": null,
   "id": "e240e4ab-d2e0-442b-87f8-768c41323173",
   "metadata": {},
   "outputs": [],
   "source": []
  },
  {
   "cell_type": "markdown",
   "id": "8ffc4c93-fb01-493f-b5bb-377b3cf00c3b",
   "metadata": {},
   "source": [
    "#### unionAll()"
   ]
  },
  {
   "cell_type": "code",
   "execution_count": null,
   "id": "77b1eb72-5bf8-41ff-928f-4c960bfca218",
   "metadata": {},
   "outputs": [],
   "source": []
  },
  {
   "cell_type": "code",
   "execution_count": null,
   "id": "f4201f32-c1fd-498c-93e4-0d5aa6aae711",
   "metadata": {},
   "outputs": [],
   "source": []
  },
  {
   "cell_type": "code",
   "execution_count": null,
   "id": "ecb158ba-4707-431b-ba92-59e448b431d2",
   "metadata": {},
   "outputs": [],
   "source": []
  },
  {
   "cell_type": "code",
   "execution_count": null,
   "id": "a442ed7e-b98d-467d-a88d-ecdcf08c418d",
   "metadata": {},
   "outputs": [],
   "source": []
  },
  {
   "cell_type": "code",
   "execution_count": null,
   "id": "379c1377-daab-4fd2-98a1-c2a90094d600",
   "metadata": {},
   "outputs": [],
   "source": []
  },
  {
   "cell_type": "markdown",
   "id": "2947c793-6dd5-4015-b2bb-66673daea661",
   "metadata": {},
   "source": [
    "#### unionByName()"
   ]
  },
  {
   "cell_type": "code",
   "execution_count": null,
   "id": "55fe6a7f-13c0-4d7a-8aff-fb8cdd9d540a",
   "metadata": {},
   "outputs": [],
   "source": []
  },
  {
   "cell_type": "code",
   "execution_count": null,
   "id": "9e97d65e-2548-498b-b6f8-2d20e96547ab",
   "metadata": {},
   "outputs": [],
   "source": []
  },
  {
   "cell_type": "code",
   "execution_count": null,
   "id": "71071d7b-404e-4e61-9fc5-be1d889c77b7",
   "metadata": {},
   "outputs": [],
   "source": []
  },
  {
   "cell_type": "markdown",
   "id": "a217572f-116a-4b7d-aafc-58d13425b99d",
   "metadata": {},
   "source": [
    "#### unpersist()"
   ]
  },
  {
   "cell_type": "code",
   "execution_count": null,
   "id": "ba9c56d3-b3c4-48b8-ba25-319a03faa7cd",
   "metadata": {},
   "outputs": [],
   "source": []
  },
  {
   "cell_type": "code",
   "execution_count": null,
   "id": "c8d590e9-84c2-4867-ba9b-5b04a53a5040",
   "metadata": {},
   "outputs": [],
   "source": []
  },
  {
   "cell_type": "code",
   "execution_count": null,
   "id": "e61604e6-b39d-4534-aeff-f268acfaa217",
   "metadata": {},
   "outputs": [],
   "source": []
  },
  {
   "cell_type": "code",
   "execution_count": null,
   "id": "30c4b742-5f00-49f4-ab80-064d17d08965",
   "metadata": {},
   "outputs": [],
   "source": []
  },
  {
   "cell_type": "markdown",
   "id": "60b5d111-69c2-4eea-9c4f-d0a0b750519c",
   "metadata": {},
   "source": [
    "#### where()"
   ]
  },
  {
   "cell_type": "code",
   "execution_count": null,
   "id": "a20e5423-10e3-4e47-a873-0ec86682479d",
   "metadata": {},
   "outputs": [],
   "source": []
  },
  {
   "cell_type": "code",
   "execution_count": null,
   "id": "54f3e57d-2e0d-4ca8-9a63-38054033e405",
   "metadata": {},
   "outputs": [],
   "source": []
  },
  {
   "cell_type": "code",
   "execution_count": null,
   "id": "7dee8ac7-bdd9-454b-a15c-4a66f4db2c81",
   "metadata": {},
   "outputs": [],
   "source": []
  },
  {
   "cell_type": "code",
   "execution_count": null,
   "id": "e4b5cb0c-eb44-43af-a346-6a5c46dcd8dc",
   "metadata": {},
   "outputs": [],
   "source": []
  },
  {
   "cell_type": "markdown",
   "id": "73684f75-5c0f-4edc-8df3-30294f675fa2",
   "metadata": {},
   "source": [
    "#### withColumn()"
   ]
  },
  {
   "cell_type": "code",
   "execution_count": null,
   "id": "569e1e8c-917d-4def-9675-3935284b6d54",
   "metadata": {},
   "outputs": [],
   "source": []
  },
  {
   "cell_type": "code",
   "execution_count": null,
   "id": "5fc99619-2ee6-480f-bf8b-4a31e0b4d709",
   "metadata": {},
   "outputs": [],
   "source": []
  },
  {
   "cell_type": "code",
   "execution_count": null,
   "id": "511a3778-b8ba-466b-b186-119c262d6975",
   "metadata": {},
   "outputs": [],
   "source": []
  },
  {
   "cell_type": "markdown",
   "id": "16580c30-d9cf-4da4-a241-d3946bfe43f3",
   "metadata": {},
   "source": [
    "#### withColumnRenamed()"
   ]
  },
  {
   "cell_type": "code",
   "execution_count": null,
   "id": "2884342a-5cb1-428f-a90c-82ecc28b08fe",
   "metadata": {},
   "outputs": [],
   "source": []
  },
  {
   "cell_type": "code",
   "execution_count": null,
   "id": "7b05da26-fe6d-42fb-b0c0-9a06d0f6226e",
   "metadata": {},
   "outputs": [],
   "source": []
  },
  {
   "cell_type": "code",
   "execution_count": null,
   "id": "6002e586-8ec3-43dc-b24c-2cabf05275d5",
   "metadata": {},
   "outputs": [],
   "source": []
  },
  {
   "cell_type": "markdown",
   "id": "a126fc25-c87e-412e-976c-70ba521d5d87",
   "metadata": {},
   "source": [
    "#### withWatermark()"
   ]
  },
  {
   "cell_type": "code",
   "execution_count": null,
   "id": "069be003-d1b3-4dc6-aa1c-e4960e464957",
   "metadata": {},
   "outputs": [],
   "source": []
  },
  {
   "cell_type": "code",
   "execution_count": null,
   "id": "6c06ee34-d56f-4d0e-9504-16695e7cc52c",
   "metadata": {},
   "outputs": [],
   "source": []
  },
  {
   "cell_type": "code",
   "execution_count": null,
   "id": "39aaac9a-26a4-4b2e-8cc1-a4b1fb02f086",
   "metadata": {},
   "outputs": [],
   "source": []
  },
  {
   "cell_type": "code",
   "execution_count": null,
   "id": "1677c928-6ffb-4384-b7a7-c50471f2111a",
   "metadata": {},
   "outputs": [],
   "source": []
  },
  {
   "cell_type": "markdown",
   "id": "baa6a344-d682-4a4d-85ef-596b70d3abee",
   "metadata": {},
   "source": [
    "#### write (property)"
   ]
  },
  {
   "cell_type": "code",
   "execution_count": null,
   "id": "e1d0cd7a-97f7-49dd-97ad-aa1ce3a5f2d8",
   "metadata": {},
   "outputs": [],
   "source": []
  },
  {
   "cell_type": "code",
   "execution_count": null,
   "id": "88888901-2878-4c4b-8d8b-37b4755a852b",
   "metadata": {},
   "outputs": [],
   "source": []
  },
  {
   "cell_type": "code",
   "execution_count": null,
   "id": "6f175b1c-7e08-4561-8610-11d300509ed0",
   "metadata": {},
   "outputs": [],
   "source": []
  },
  {
   "cell_type": "markdown",
   "id": "05d0878a-0095-4ebe-ab4b-8c6c34263fbc",
   "metadata": {},
   "source": [
    "#### writeStream (property)"
   ]
  },
  {
   "cell_type": "code",
   "execution_count": null,
   "id": "b0450410-499e-4f0d-afa7-2fcc1ee5b9f3",
   "metadata": {},
   "outputs": [],
   "source": []
  },
  {
   "cell_type": "code",
   "execution_count": null,
   "id": "00fd939d-58ad-44fe-a043-6fefc4a494c7",
   "metadata": {},
   "outputs": [],
   "source": []
  },
  {
   "cell_type": "code",
   "execution_count": null,
   "id": "dd6b942c-aad3-4ec3-8656-575ecaf20086",
   "metadata": {},
   "outputs": [],
   "source": []
  },
  {
   "cell_type": "code",
   "execution_count": null,
   "id": "dc5eea91-52a3-4762-8468-011277ba0e93",
   "metadata": {},
   "outputs": [],
   "source": []
  },
  {
   "cell_type": "code",
   "execution_count": null,
   "id": "72de2d4a-5025-4bb1-bbaf-fe2be9b89682",
   "metadata": {},
   "outputs": [],
   "source": []
  },
  {
   "cell_type": "code",
   "execution_count": null,
   "id": "d5f3b81b-1091-4803-abc8-9ff39d5b09cf",
   "metadata": {},
   "outputs": [],
   "source": []
  },
  {
   "cell_type": "code",
   "execution_count": null,
   "id": "cab2b7c9-2dc1-4f66-bfb3-6a1c7273c934",
   "metadata": {},
   "outputs": [],
   "source": []
  },
  {
   "cell_type": "code",
   "execution_count": null,
   "id": "5caf98b9-59e3-443e-81bd-1127b38b2a17",
   "metadata": {},
   "outputs": [],
   "source": []
  },
  {
   "cell_type": "code",
   "execution_count": null,
   "id": "e33c132f-3fdd-4963-b18b-e8abaf41c912",
   "metadata": {},
   "outputs": [],
   "source": []
  },
  {
   "cell_type": "code",
   "execution_count": null,
   "id": "a049ebd6-b62b-4367-90c9-25b733e2ae20",
   "metadata": {},
   "outputs": [],
   "source": []
  },
  {
   "cell_type": "code",
   "execution_count": null,
   "id": "987afdef-0784-4f29-9d34-e528f1fbfc93",
   "metadata": {},
   "outputs": [],
   "source": []
  },
  {
   "cell_type": "code",
   "execution_count": null,
   "id": "520e781c-289b-4edc-8496-1e9a7f9ec0b0",
   "metadata": {},
   "outputs": [],
   "source": []
  },
  {
   "cell_type": "code",
   "execution_count": null,
   "id": "8f1890c4-d46b-4a54-8e01-03f1ceace145",
   "metadata": {},
   "outputs": [],
   "source": []
  },
  {
   "cell_type": "code",
   "execution_count": null,
   "id": "415fadda-82e9-4154-bec1-b5b2de6c0a0f",
   "metadata": {},
   "outputs": [],
   "source": []
  },
  {
   "cell_type": "code",
   "execution_count": null,
   "id": "0948db69-d27c-47f3-91c4-f902e51b054c",
   "metadata": {},
   "outputs": [],
   "source": []
  }
 ],
 "metadata": {
  "kernelspec": {
   "display_name": "Python 3 (ipykernel)",
   "language": "python",
   "name": "python3"
  },
  "language_info": {
   "codemirror_mode": {
    "name": "ipython",
    "version": 3
   },
   "file_extension": ".py",
   "mimetype": "text/x-python",
   "name": "python",
   "nbconvert_exporter": "python",
   "pygments_lexer": "ipython3",
   "version": "3.11.5"
  }
 },
 "nbformat": 4,
 "nbformat_minor": 5
}
