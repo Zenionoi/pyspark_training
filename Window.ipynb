{
 "cells": [
  {
   "cell_type": "code",
   "execution_count": 4,
   "id": "f9545a62-160c-4ed6-a512-484ee7b1f1a8",
   "metadata": {},
   "outputs": [
    {
     "data": {
      "text/html": [
       "\n",
       "            <div>\n",
       "                <p><b>SparkSession - in-memory</b></p>\n",
       "                \n",
       "        <div>\n",
       "            <p><b>SparkContext</b></p>\n",
       "\n",
       "            <p><a href=\"http://192.168.0.179:4040\">Spark UI</a></p>\n",
       "\n",
       "            <dl>\n",
       "              <dt>Version</dt>\n",
       "                <dd><code>v3.5.0</code></dd>\n",
       "              <dt>Master</dt>\n",
       "                <dd><code>local[*]</code></dd>\n",
       "              <dt>AppName</dt>\n",
       "                <dd><code>window</code></dd>\n",
       "            </dl>\n",
       "        </div>\n",
       "        \n",
       "            </div>\n",
       "        "
      ],
      "text/plain": [
       "<pyspark.sql.session.SparkSession at 0x10c571390>"
      ]
     },
     "execution_count": 4,
     "metadata": {},
     "output_type": "execute_result"
    }
   ],
   "source": [
    "import pyspark\n",
    "from pyspark.sql.functions import *\n",
    "from pyspark.sql.window import Window\n",
    "\n",
    "spark = pyspark.sql.SparkSession.builder.appName(\"window\").getOrCreate()\n",
    "\n",
    "spark"
   ]
  },
  {
   "cell_type": "code",
   "execution_count": 5,
   "id": "7f4e008d-417d-40e9-87ee-a9581d17bb5e",
   "metadata": {},
   "outputs": [
    {
     "name": "stderr",
     "output_type": "stream",
     "text": [
      "                                                                                \r"
     ]
    },
    {
     "name": "stdout",
     "output_type": "stream",
     "text": [
      "+---------------+------+----------------+--------------------+-----+\n",
      "|    Player Name|Season|       Statistic|            Variable|Value|\n",
      "+---------------+------+----------------+--------------------+-----+\n",
      "|Robert Garrigus|  2010|Driving Distance|Driving Distance ...|   71|\n",
      "|   Bubba Watson|  2010|Driving Distance|Driving Distance ...|   77|\n",
      "| Dustin Johnson|  2010|Driving Distance|Driving Distance ...|   83|\n",
      "|Brett Wetterich|  2010|Driving Distance|Driving Distance ...|   54|\n",
      "|    J.B. Holmes|  2010|Driving Distance|Driving Distance ...|  100|\n",
      "+---------------+------+----------------+--------------------+-----+\n",
      "\n"
     ]
    },
    {
     "data": {
      "text/html": [
       "<div>\n",
       "<style scoped>\n",
       "    .dataframe tbody tr th:only-of-type {\n",
       "        vertical-align: middle;\n",
       "    }\n",
       "\n",
       "    .dataframe tbody tr th {\n",
       "        vertical-align: top;\n",
       "    }\n",
       "\n",
       "    .dataframe thead th {\n",
       "        text-align: right;\n",
       "    }\n",
       "</style>\n",
       "<table border=\"1\" class=\"dataframe\">\n",
       "  <thead>\n",
       "    <tr style=\"text-align: right;\">\n",
       "      <th></th>\n",
       "      <th>gender</th>\n",
       "      <th>race/ethnicity</th>\n",
       "      <th>parental level of education</th>\n",
       "      <th>lunch</th>\n",
       "      <th>test preparation course</th>\n",
       "      <th>math score</th>\n",
       "      <th>reading score</th>\n",
       "      <th>writing score</th>\n",
       "    </tr>\n",
       "  </thead>\n",
       "  <tbody>\n",
       "    <tr>\n",
       "      <th>0</th>\n",
       "      <td>female</td>\n",
       "      <td>group B</td>\n",
       "      <td>bachelor's degree</td>\n",
       "      <td>standard</td>\n",
       "      <td>none</td>\n",
       "      <td>72</td>\n",
       "      <td>72</td>\n",
       "      <td>74</td>\n",
       "    </tr>\n",
       "    <tr>\n",
       "      <th>1</th>\n",
       "      <td>female</td>\n",
       "      <td>group C</td>\n",
       "      <td>some college</td>\n",
       "      <td>standard</td>\n",
       "      <td>completed</td>\n",
       "      <td>69</td>\n",
       "      <td>90</td>\n",
       "      <td>88</td>\n",
       "    </tr>\n",
       "    <tr>\n",
       "      <th>2</th>\n",
       "      <td>female</td>\n",
       "      <td>group B</td>\n",
       "      <td>master's degree</td>\n",
       "      <td>standard</td>\n",
       "      <td>none</td>\n",
       "      <td>90</td>\n",
       "      <td>95</td>\n",
       "      <td>93</td>\n",
       "    </tr>\n",
       "    <tr>\n",
       "      <th>3</th>\n",
       "      <td>male</td>\n",
       "      <td>group A</td>\n",
       "      <td>associate's degree</td>\n",
       "      <td>free/reduced</td>\n",
       "      <td>none</td>\n",
       "      <td>47</td>\n",
       "      <td>57</td>\n",
       "      <td>44</td>\n",
       "    </tr>\n",
       "    <tr>\n",
       "      <th>4</th>\n",
       "      <td>male</td>\n",
       "      <td>group C</td>\n",
       "      <td>some college</td>\n",
       "      <td>standard</td>\n",
       "      <td>none</td>\n",
       "      <td>76</td>\n",
       "      <td>78</td>\n",
       "      <td>75</td>\n",
       "    </tr>\n",
       "  </tbody>\n",
       "</table>\n",
       "</div>"
      ],
      "text/plain": [
       "   gender race/ethnicity parental level of education         lunch  \\\n",
       "0  female        group B           bachelor's degree      standard   \n",
       "1  female        group C                some college      standard   \n",
       "2  female        group B             master's degree      standard   \n",
       "3    male        group A          associate's degree  free/reduced   \n",
       "4    male        group C                some college      standard   \n",
       "\n",
       "  test preparation course  math score  reading score  writing score  \n",
       "0                    none          72             72             74  \n",
       "1               completed          69             90             88  \n",
       "2                    none          90             95             93  \n",
       "3                    none          47             57             44  \n",
       "4                    none          76             78             75  "
      ]
     },
     "execution_count": 5,
     "metadata": {},
     "output_type": "execute_result"
    }
   ],
   "source": [
    "path = \"datasets/\"\n",
    "students = spark.read.csv(path+\"students.csv\", inferSchema=True, header=True)\n",
    "tour = spark.read.csv(path+\"pga_tour_historical.csv\", inferSchema=True, header=True)\n",
    "tour.limit(100).dropna().dropDuplicates().limit(5).show()\n",
    "students.limit(5).toPandas()"
   ]
  },
  {
   "cell_type": "code",
   "execution_count": 8,
   "id": "9e94f1e8-8583-42b2-939f-aaedcde00755",
   "metadata": {},
   "outputs": [],
   "source": [
    "# ORDER BY date ROWS BETWEEN UNBOUNDED PRECEDING AND CURRENT ROW\n",
    "window = Window.orderBy(\"date\").rowsBetween(Window.unboundedPreceding, Window.currentRow)\n",
    "\n",
    "# PARTITION BY country ORDER BY date RANGE BETWEEN 3 PRECEDING AND 3 FOLLOWING\n",
    "window = Window.orderBy(\"date\").partitionBy(\"country\").rangeBetween(-3, 3)"
   ]
  },
  {
   "cell_type": "markdown",
   "id": "dc7ffdb2-f534-407a-9600-b70115093e91",
   "metadata": {},
   "source": [
    "When ordering is not defined, an unbounded window frame (rowFrame, unboundedPreceding, unboundedFollowing) is used by default. When ordering is defined, a growing window frame (rangeFrame, unboundedPreceding, currentRow) is used by default.\n",
    "    \n",
    "##### currentRow = 0\n",
    "\n",
    "#### static orderBy(*cols)\n",
    "Creates a WindowSpec with the ordering defined.\n",
    "\n",
    "#### static partitionBy(*cols)\n",
    "Creates a WindowSpec with the partitioning defined."
   ]
  },
  {
   "cell_type": "code",
   "execution_count": 7,
   "id": "9fcdf70f-0c17-41ce-ba63-8d99e3b444da",
   "metadata": {},
   "outputs": [
    {
     "name": "stdout",
     "output_type": "stream",
     "text": [
      "+---+--------+-----+----------+\n",
      "| id|category|value|row_number|\n",
      "+---+--------+-----+----------+\n",
      "|  1|       A|  100|         1|\n",
      "|  3|       A|  150|         2|\n",
      "|  2|       B|  200|         1|\n",
      "|  5|       B|  250|         2|\n",
      "|  4|       C|  300|         1|\n",
      "+---+--------+-----+----------+\n",
      "\n"
     ]
    }
   ],
   "source": [
    "data = [(1, \"A\", 100),\n",
    "        (2, \"B\", 200),\n",
    "        (3, \"A\", 150),\n",
    "        (4, \"C\", 300),\n",
    "        (5, \"B\", 250)]\n",
    "df = spark.createDataFrame(data, [\"id\", \"category\", \"value\"])\n",
    "window_spec = Window.partitionBy(\"category\").orderBy(\"value\")\n",
    "\n",
    "df.withColumn(\"row_number\", row_number().over(window_spec)).show()"
   ]
  },
  {
   "cell_type": "markdown",
   "id": "14e41f7c-28e9-41c4-a375-f15b530cc751",
   "metadata": {},
   "source": [
    "#### static rangeBetween(start, end)\n",
    "Creates a WindowSpec with the frame boundaries defined, from start (inclusive) to end (inclusive).\n",
    "\n",
    "Both start and end are relative from the current row. For example, “0” means “current row”, while “-1” means one off before the current row, and “5” means the five off after the current row.\n",
    "\n",
    "We recommend users use Window.unboundedPreceding, Window.unboundedFollowing, and Window.currentRow to specify special boundary values, rather than using integral values directly.\n",
    "\n",
    "A range-based boundary is based on the actual value of the ORDER BY expression(s). An offset is used to alter the value of the ORDER BY expression, for instance if the current ORDER BY expression has a value of 10 and the lower bound offset is -3, the resulting lower bound for the current row will be 10 - 3 = 7. This however puts a number of constraints on the ORDER BY expressions: there can be only one expression and this expression must have a numerical data type. An exception can be made when the offset is unbounded, because no value modification is needed, in this case multiple and non-numeric ORDER BY expression are allowed."
   ]
  },
  {
   "cell_type": "code",
   "execution_count": 11,
   "id": "ee8e2332-64ed-412d-a80e-22a3e929e8b3",
   "metadata": {},
   "outputs": [
    {
     "name": "stdout",
     "output_type": "stream",
     "text": [
      "+---+--------+---+\n",
      "| id|category|sum|\n",
      "+---+--------+---+\n",
      "|  1|       a|  4|\n",
      "|  1|       a|  4|\n",
      "|  1|       b|  3|\n",
      "|  2|       a|  2|\n",
      "|  2|       b|  5|\n",
      "|  3|       b|  3|\n",
      "+---+--------+---+\n",
      "\n"
     ]
    }
   ],
   "source": [
    "tup = [(1, \"a\"), (1, \"a\"), (2, \"a\"), (1, \"b\"), (2, \"b\"), (3, \"b\")]\n",
    "df = spark.createDataFrame(tup, [\"id\", \"category\"])\n",
    "window = Window.partitionBy(\"category\").orderBy(\"id\").rangeBetween(Window.currentRow, 1)\n",
    "df.withColumn(\"sum\", sum(\"id\").over(window)).sort(\"id\", \"category\").show()\n"
   ]
  },
  {
   "cell_type": "markdown",
   "id": "514e6a1c-849a-451f-af87-4250e23f6cdd",
   "metadata": {},
   "source": [
    "#### static rowsBetween(start, end)\n",
    "Creates a WindowSpec with the frame boundaries defined, from start (inclusive) to end (inclusive).\n",
    "\n",
    "Both start and end are relative positions from the current row. For example, “0” means “current row”, while “-1” means the row before the current row, and “5” means the fifth row after the current row.\n",
    "\n",
    "We recommend users use Window.unboundedPreceding, Window.unboundedFollowing, and Window.currentRow to specify special boundary values, rather than using integral values directly.\n",
    "\n",
    "A row based boundary is based on the position of the row within the partition. An offset indicates the number of rows above or below the current row, the frame for the current row starts or ends. For instance, given a row based sliding frame with a lower bound offset of -1 and a upper bound offset of +2. The frame for row with index 5 would range from index 4 to index 7."
   ]
  },
  {
   "cell_type": "code",
   "execution_count": 12,
   "id": "201d7d6a-b167-449c-b549-3c76a3dd1f1c",
   "metadata": {},
   "outputs": [
    {
     "name": "stdout",
     "output_type": "stream",
     "text": [
      "+---+--------+---+\n",
      "| id|category|sum|\n",
      "+---+--------+---+\n",
      "|  1|       a|  2|\n",
      "|  1|       a|  3|\n",
      "|  1|       b|  3|\n",
      "|  2|       a|  2|\n",
      "|  2|       b|  5|\n",
      "|  3|       b|  3|\n",
      "+---+--------+---+\n",
      "\n"
     ]
    }
   ],
   "source": [
    "tup = [(1, \"a\"), (1, \"a\"), (2, \"a\"), (1, \"b\"), (2, \"b\"), (3, \"b\")]\n",
    "df = spark.createDataFrame(tup, [\"id\", \"category\"])\n",
    "window = Window.partitionBy(\"category\").orderBy(\"id\").rowsBetween(Window.currentRow, 1)\n",
    "df.withColumn(\"sum\", sum(\"id\").over(window)).sort(\"id\", \"category\", \"sum\").show()\n"
   ]
  },
  {
   "cell_type": "markdown",
   "id": "6d2c59f3-142a-4817-a3fa-bd61562e7fb9",
   "metadata": {},
   "source": [
    "#### class pyspark.sql.WindowSpec(jspec)\n",
    "A window specification that defines the partitioning, ordering, and frame boundaries.\n",
    "Use the static methods in Window to create a WindowSpec.\n",
    "\n",
    "methods same"
   ]
  },
  {
   "cell_type": "code",
   "execution_count": null,
   "id": "c2d36b8b-e5b9-45cb-b281-df471755427b",
   "metadata": {},
   "outputs": [],
   "source": []
  },
  {
   "cell_type": "code",
   "execution_count": null,
   "id": "126cc020-1ead-4c78-a027-639fdc0d2850",
   "metadata": {},
   "outputs": [],
   "source": []
  },
  {
   "cell_type": "code",
   "execution_count": null,
   "id": "248e4776-4f35-435d-9b54-fc9d4c1694fb",
   "metadata": {},
   "outputs": [],
   "source": []
  },
  {
   "cell_type": "code",
   "execution_count": null,
   "id": "c84ebcd5-6fff-488d-978c-6e7e81ecc042",
   "metadata": {},
   "outputs": [],
   "source": []
  },
  {
   "cell_type": "code",
   "execution_count": null,
   "id": "d8184a6c-d30e-4542-8763-0a7fed6d2913",
   "metadata": {},
   "outputs": [],
   "source": []
  },
  {
   "cell_type": "code",
   "execution_count": null,
   "id": "c12c9de9-6011-4d64-908c-a5ef021a0e97",
   "metadata": {},
   "outputs": [],
   "source": []
  },
  {
   "cell_type": "code",
   "execution_count": null,
   "id": "0111a1c9-de96-4e67-bbaa-1bb212c1b40a",
   "metadata": {},
   "outputs": [],
   "source": []
  },
  {
   "cell_type": "code",
   "execution_count": null,
   "id": "b12d0ba9-1062-41dd-947a-34cbf137d551",
   "metadata": {},
   "outputs": [],
   "source": []
  }
 ],
 "metadata": {
  "kernelspec": {
   "display_name": "Python 3 (ipykernel)",
   "language": "python",
   "name": "python3"
  },
  "language_info": {
   "codemirror_mode": {
    "name": "ipython",
    "version": 3
   },
   "file_extension": ".py",
   "mimetype": "text/x-python",
   "name": "python",
   "nbconvert_exporter": "python",
   "pygments_lexer": "ipython3",
   "version": "3.11.5"
  }
 },
 "nbformat": 4,
 "nbformat_minor": 5
}
